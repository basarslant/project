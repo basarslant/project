{
 "cells": [
  {
   "cell_type": "markdown",
   "metadata": {},
   "source": [
    "## Data Set Information\n",
    "\n",
    "- The data is related with direct marketing campaigns of a Portuguese banking institution. The marketing campaigns were based on phone calls. Often, more than one contact to the same client was required, in order to access if the product (bank term deposit) would be ('yes') or not ('no') subscribed. \n",
    "\n",
    "- **Data size:** 86520 entries\n",
    "\n",
    "- **Data distribution:** 4120 entries for each class. It has 21 columns which contain client data and contact information, attributes and output variable.\n",
    "\n",
    "#### Client Data\n",
    "\n",
    "**1. Age:** This column indicates the age of the customer. It is a numeric variable and ranges between 18 and 88. \t\n",
    "\n",
    "**2. Job:** This column indicates the job of the customer. There are only a few options. These are\n",
    "- 'admin',\n",
    "- 'blue-collar',\n",
    "- 'entrepreneur',\n",
    "- 'housemaid',\n",
    "- 'management',\n",
    "- 'retired',\n",
    "- 'self-employed',\n",
    "- 'services',\n",
    "- 'student',\n",
    "- 'technician',\n",
    "- 'unemployed',\n",
    "- 'unknown'\n",
    "\n",
    "**3. Marital:** This column indicates the marital status of the customer. It is a categorical variable and the options are\n",
    "- 'divorced',\n",
    "- 'married',\n",
    "- 'single',\n",
    "- 'unknown'\n",
    "\n",
    "**4.Education:** This column indicates the education status of the customer. It is a categorical variable and the options are \n",
    "- 'basic.4y',\n",
    "- 'basic.6y',\n",
    "- 'basic.9y',\n",
    "- 'high.school',\n",
    "- 'illiterate',\n",
    "- 'professional.course',\n",
    "- 'university.degree',\n",
    "- 'unknown'\n",
    "\n",
    "**5.Default:** This column indicates that have customers credit in default. It is a categorical variable and there are three options. These are \n",
    "- 'no',\n",
    "- 'yes',\n",
    "- 'unknown'\n",
    "\n",
    "**6.Housing:** This column indicates that have customers housing loan. It is a categorical variable and there are three options. These are \n",
    "- 'no',\n",
    "- 'yes',\n",
    "- 'unknown'\n",
    "\n",
    "**7.Loan:** This column indicates that have customers personal loan. It is a categorical variable and there are three options. These are  \n",
    "- 'no',\n",
    "- 'yes',\n",
    "- 'unknown'\n",
    "\n",
    "#### Information Of The Last Contact\n",
    "\n",
    "**8.Contact:** This column indicates the type of communication established with the customer. It is a categorical variable and there are two options. These are \n",
    "- 'cellular',\n",
    "- 'telephone'\n",
    "\n",
    "**9.Month:** This column indicates that month of year which is last contact with the customer. It is a categorical variable and the options are\n",
    "- 'jan', \n",
    "- 'feb',\n",
    "- 'mar',\n",
    "- 'apr',\n",
    "- 'may',\n",
    "- 'jun',\n",
    "- 'jul',\n",
    "- 'aug',\n",
    "- 'sep',\n",
    "- 'oct',\n",
    "- 'nov',\n",
    "- 'dec'\n",
    "\n",
    "**10.Day_of_week:** This column shows that day of week which is last contact with the customer. It is a categorical variable and the options are\n",
    "- 'mon',\n",
    "- 'tue',\n",
    "- 'wed',\n",
    "- 'thu',\n",
    "- 'fri'\n",
    "\n",
    "**11.Duration:** This column indicates that how long the last duration of contact with the customer. It is a numeric variable and ranges between 0 and 3643 seconds.\n",
    "\n",
    "\n",
    "#### Other Attributes\n",
    "\n",
    "**12.Campaign:** This column indicates that number of contacts performed during this campaign and for this client. It is a numeric variable and ranges between 1 and 35.\t\n",
    "\n",
    "**13.Pdays:** This column indicates that number of days that passed by after the client was last contacted from a previous campaign. It is a numeric variable and ranges between 0 and 999. Also 999 means that client was not previously contacted.\t\n",
    "\n",
    "**14.Previous:** This column indicates that number of contacts performed before this campaign and for this client. It is a numeric variable and ranges between 0 and 6.\n",
    "\n",
    "**15.Poutcome:** This column indicates that outcome of the previous marketing campaign. It is a categorical variable and the options are\n",
    "- 'failure',\n",
    "- 'nonexistent',\n",
    "- 'success'\n",
    "\n",
    "\n",
    "#### Social And Economic Context Attributes \n",
    "\n",
    "**16.Emp.var.rate:** This column indicates that employment variation rate. It is a numeric variable and ranges between -3 and 1.4. In addition this rate came from quarterly indicator.\t\t\n",
    "\n",
    "**17.Cons.price.idx:** This column indicates that consumer price index. It is a numeric variable and ranges between 92201 and 94767. In addition this index come from monthly indicator.\n",
    "\n",
    "**18.Cons.conf.idx:** This column indicates that consumer confidence index. It is a numeric variable and ranges between -50 and -33. In addition this index come from monthly indicator.\t\n",
    "\n",
    "**19.Euribor3m:** This column indicates that Euribor 3 month rate which come daily indicator. It is a numeric variable and ranges between 1 and 5045.\n",
    "\n",
    "**20.Nr.employed:** This column indicates that number of employees which come quarterly indicator. It is also a numeric variable and ranges between 5191 and 5228.1. \n",
    "\n",
    "#### Output Variable \n",
    "\n",
    "**21.Y:** This column indicates that has the client subscribed a term deposit. It is a binary variable and the options are \n",
    "- 'yes',\n",
    "- 'no'\n",
    "\n",
    "\n",
    "## LOGISTIC REGRESSION\n",
    "\n",
    "#### *Introduction to Logistic Regression Model*\n",
    "\n",
    "   Before beginning a study of logistic regression it is important to understand that the goal of an analysis using this method is the same as that of any model-building technique used in statistics: to find the best fitting and most parsimonious, yet biologically reasonable model to describe the relationship between an outcome variable which is dependent or response and a set of independent variables which is predictor or explanatory. These independent variables are called covariates.\n",
    "   \n",
    "   In any regression problem the key quantity is the mean value of the outcome variable, given the value of the independent variable which is called conditional mean and it is expressed as \"E(Y|x)\" where Y denotes the outcome variable and x denotes a value of the independent variable. E(Y|x) is read \"the expected value of Y, given the value x.\" In linear regression we assume that this mean may be expressed as an euation linear in x ( or some transformation of x or Y), such as $E(Y|x)=\\beta_{0} +\\beta_{1}x$. This expression implies that it is possible for E(Y|x) to take on any value as x ranges between $-\\infty$ and $+\\infty$.\n",
    "   \n",
    "   Logistic Regression Model is a statistical method for analyzing a dataset in which are dichotomous(binary) independent variables that determine an outcome.\n",
    "\n",
    "   What distinguishes a logistic regression from the linear regression model is this. The prediction is based on the use of one or several predictors (numerical and categorical). A linear regression is not appropriate for predicting the value of a binary variable for two reasons:\n",
    "Su asagidakileri \"http://www.saedsayad.com/logistic_regression.htm\" adresinden yine kaynak gostermeden almisssin. OLMAZ!\n",
    "\n",
    "A linear regression will predict values outside the acceptable range (e.g. predicting probabilities outside the range 0 to 1)\n",
    "Since the dichotomous experiments can only have one of two possible values for each experiment, the residuals will not be normally distributed about the predicted line.\n",
    "\n",
    "On the other hand, a logistic regression produces a logistic curve, which is limited to values between 0 and 1.\n",
    "In the logistic regression the constant (b0) moves the curve left and right and the slope (b1) defines the steepness of the curve. By simple transformation, the logistic regression equation can be written in terms of an odds ratio.\n",
    "\n",
    "Finally, taking the natural log of both sides, we can write the equation in terms of log-odds (logit) which is a linear function of the predictors. The coefficient (b1) is the amount the logit (log-odds) changes with a one unit change in x.\n",
    "\n",
    "Yukaridakileri alintilamissin. OK. Ama kaynak gostermen lazim.\n",
    "\n",
    "#### Interpretation of Fitting Logistic Regression Analysis\n",
    "\n",
    "The first step is to determine what function of the dependent variable yields a linear function of the independent variables. This is called the link function [see McCullagh and Nelder(1983) or Dobson(1990)]. In this case of a linear regression model, it is the identity function since the dependent variable, by definition, is linear in the parameters. In the logistic regression model the link function is the logit transformation\n",
    "$$ g(x)=\\ln{\\frac{\\pi(x)}{1-\\pi(x)}}=\\beta_{0} +\\beta_{1}x $$\n",
    "In the regression model, the slope coefficient represents the change in the logit corresponding to a change of one unit in the independent variable (i.e. $\\beta_{1}= g(x+1)-g(x)$). Proper interpretation of the coefficient in a logistic regression model depends on being able to place meaning on the difference between two logits. Interpretation of this difference is discussed in detail on a case-by-case basis as it relates directly to the definition and meaning of a one-unit change in the independent variable. In the following sections of this chapter we consider the interpretation of the coefficients for a univariate logistic regression model for each of the possible measurement scales of the independent variable. In addition we discuss interpretation of the coefficients in multivariable models.\n",
    "\n",
    "#### Dichotomous Independent Variable\n",
    "\n",
    "We begin our consideration of the interpretation of logistic regression coefficients with the situation where the independent variable is nominal scale and dichotomous(i.e. measured at two levels). This case provides the conceptual foundation for all the other situations.\n",
    "We assume that the independent variable, x, is coded as either zero or one. The difference in the logit for a subject with x=1 and x=0 is\n",
    "$$\n",
    "g(1)-g(0)=[\\beta_{0} +\\beta_{1}x]- \\beta_{0}=\\beta_{1}.\n",
    "$$\n",
    "The algebra shown in this equation is rather straightforward. We present it in this level of detail to emphasize that the fisrt step in interpreting the effect of a covariate in a model is to express the desired logit difference in terms of the model. In this case the logit difference is equal to $\\beta_{1}$. In order to interpret this result we need to introduce and discuss a measure of association termed the odds ratio.\n",
    "\n",
    "The odds of the outcome being present among individuals with $x=1$ is defined as $\\frac{\\pi(1)}{1-\\pi(1)}$. Similarly the odds of the outcome being present among individuals with $x=0$ is defined as $\\frac{\\pi(0)}{1-\\pi(0)}$. The odds ratio is defined as the ratio of the odds for $x=1$ to the odds for $x=0$ and is given by the equation\n",
    "$$\n",
    "\\text{Odds Ratio} = \\frac{\\frac{\\pi(1)}{1-\\pi(1)}}{\\frac{\\pi(0)}{1-\\pi(0)}}\n",
    "$$\n",
    "*** sayfa 49-50 resim***\n",
    "\n",
    "Hence for logistic regression with a dichotomous independent variable coded 1 and 0, the relationship between the odds ratio and the regression coefficient is Odds Ratio$= \\mathrm{e}^{\\beta_{1}}$.\n",
    "\n",
    "This simple relationship between the coefficient and the odds ratio is the fundamental reason why logistic regression has proven to be such a powerful analytic research tool.\n",
    "\n",
    "The interpretation given for the odds ratio is based on the fact that in many instances it approximates a quantity called the relative risk. This parameter is equal to the ratio $\\frac{\\pi(1)}{\\pi(0)}$. It follows that the odds ratio approximates the relative risk $\\frac{1-\\pi(0)}{1-\\pi(1)}\\approx 1$. This holds when $\\pi(x)$ is small for both $x=1$ and $x=0$.\n",
    "\n",
    "#### Polytomous (Multinomial) Logistic Regression Analysis\n",
    "\n",
    "Where the response is a binary variable with 'success' and 'failure' being only two categories. But logistic regression can be extended to handle responses, Y, that are polytomous, i.e. taking $r &gt; 2$ categories.\n",
    "When $r = 2$, Y is dichotomous and we can model log of odds that an event occurs or does not occur. For binary logistic regression there is only 1 logit that we can form.\n",
    "$$ logit(\\pi)=\\log{\\frac{\\pi(x)}{1-\\pi(x)}} $$\n",
    "When r > 2, we have a multi-category or polytomous response variable. There are $r (r − 1)/2$ logits (odds) that we can form, but only $(r − 1)$ are non-redundant. There are different ways to form a set of $(r − 1)$ non-redundant logits, and these will lead to different polytomous (multinomial) logistic regression models.\n",
    "\n",
    "Multinomial Logistic Regression models how multinomial response variable Y depends on a set of k explanatory variables $x=(x_{1},x_{2},...,x_{p})$. This is also a Generalized Linear Model where the random component assumes that the distribution of Y is Multinomial(n,π), where π is a vector with probabilities of \"success\" for each category. The systematic component are explanatory variables (can be continuous, discrete, or both) and are linear in the parameters, e.g., $\\beta_{0} +\\beta_{1}x_{1}+\\beta_{2}x_{2}+...+\\beta_{p}x_{p}$. Again, transformation of the X's themselves are allowed like in linear regression. The link function is the generalized Logit, that it the logit link for each pair of non-redundant logits as discussed above.\n",
    "For the moment we will assume that each of these variables is at least interval scale. Let the conditional probability that the outcome is present be denoted by $P(Y=1|x)= \\pi(x)$. The logit of the multiple logistic regression model is given by the equation\n",
    "$$ g(x)=\\beta_{0} +\\beta_{1}x_{1}+\\beta_{2}x_{2}+...+\\beta_{p}x_{p} $$\n",
    "in which case the logistic regression model is\n",
    "$$ \\pi(x)=\\frac{\\mathrm{e}^{g(x)}}{1+\\mathrm{e}^{g(x)}} $$\n",
    "The multiple logistic regression model can be written as follows:\n",
    "$$\n",
    "\\hat{p} = \\frac{\\beta_{0} +\\beta_{1}x_{1}+\\beta_{2}x_{2}+...+\\beta_{p}x_{p}}{1-\\beta_{0} +\\beta_{1}x_{1}+\\beta_{2}x_{2}+...+\\beta_{p}x_{p}}\n",
    "$$\n",
    "\\hat{p} is the expected probability that the outcome is present; x{1} through x{p} are distinct independent variables; and \\beta{0} through \\beta{p} are the regression coefficients. The multiple logistic regression model is sometimes written differently. In the following form, the outcome is the expected log of the odds that the outcome is present,\n",
    "$$ \\ln{\\frac{\\hat{p}}{1-\\hat{p}}}=\\beta_{0} +\\beta_{1}x_{1}+\\beta_{2}x_{2}+...+\\beta_{p}x_{p} $$\n",
    "When analyzing a polytomous response, it's important to note whether the response is ordinal (consisting of ordered categories) or nominal (consisting of unordered categories). For binary logistic model this question does not arise.\n",
    "\n",
    "Some types of models are appropriate only for ordinal responses; e.g., cumulative logits model, adjacent categories model, continuation ratios model and other models may be used whether the response is ordinal or nominal; e.g., baseline logit model, and conditional logit model.\n",
    "\n",
    "If the response is ordinal, we do not necessarily have to take the ordering into account, but only very rarely this information is ignored. Ordinality in the response is a vital information; neglecting it almost always will lead to sub-optimal models. Using the natural ordering can\n",
    "lead to a simpler, more parsimonious model and\n",
    "increase power to detect relationships with other variables.\n",
    "If the response variable is polytomous and all the potential predictors are discrete as well, we could describe the multi-way contingency table by a loglinear model. However, if you are analyzing a set of categorical variables, and one of them is clearly a \"response\" while the others are predictors, I recommend that you use logistic rather than loglinear models.\n",
    "Fitting a loglinear model in this setting could have two disadvantages:\n",
    "It has many more parameters, and many of them are not of interest. The loglinear model, as we will learn later, describes the joint distribution of all the variables, whereas the logistic model describes only the conditional distribution of the response given the predictors.\n",
    "\n",
    "The loglinear model is often more complicated to interpret. In the loglinear model, the effect of a predictor X on the response Y is described by the XY association. In a logit model, however, the effect of X on Y is a main effect.\n",
    "\n",
    "\n",
    "## SUPPORT VECTOR MACHINE\n",
    "\n",
    "#### Introduction to Classification\n",
    "\n",
    "The classification problem can be restricted to consideration of the two-class problem without loss of generality. The goal is to separate the two classes by a function which is induced from available examples and it is to produce a classifier that will work well on unseen examples, i.e. it generalises well.\n",
    "*Page 5 Figure 2.1 and Figure 2.3 : http://users.ecs.soton.ac.uk/srg/publications/pdf/SVM.pdf http://www.jaist.jp/~h-yamada/pdf/iwpt2003.pdf\n",
    "Asagidaki metin oldugu gibi \"http://www.statsoft.com/textbook/support-vector-machines\" adresinden alinmis. OLMAZ!!!!\n",
    "\n",
    "\n",
    "Support Vector Machines are based on the concept of decision planes that define decision boundaries. A decision plane is one that separates between a set of objects having different class memberships. A schematic example is shown in the illustration below. In this example, the objects belong either to class green or red. The separating line defines a boundary on the right side of which all objects are green and to the left of which all objects are red. Any new object (white circle) falling to the right is labeled, i.e., classified, as green (or classified as RED should it fall to the left of the separating line).\n",
    "\n",
    "The above is a classic example of a linear classifier, i.e., a classifier that separates a set of objects into their respective groups (green and red in this case) with a line. Most classification tasks, however, are not that simple, and often more complex structures are needed in order to make an optimal separation, i.e., correctly classify new objects (test cases) on the basis of the examples that are available (train cases). This situation is depicted in the illustration below. Compared to the previous schematic, it is clear that a full separation of the green and red objects would require a curve (which is more complex than a line). Classification tasks based on drawing separating lines to distinguish between objects of different class memberships are known as hyperplane classifiers. Support Vector Machines are particularly suited to handle such tasks.\n",
    "\n",
    "The illustration below shows the basic idea behind Support Vector Machines. Here we see the original objects (left side of the schematic) mapped, i.e., rearranged, using a set of mathematical functions, known as kernels. The process of rearranging the objects is known as mapping (transformation). Note that in this new setting, the mapped objects (right side of the schematic) is linearly separable and, thus, instead of constructing the complex curve (left schematic), all we have to do is to find an optimal line that can separate the green and the red objects.\n",
    "\n",
    "There are many possible linear classifiers that can separate the data, but there is only one that maximises the margin (maximises the distance between it and the nearest data point of each class). This linear classifier is termed the optimal separating hyperplane which is support vector. Intuitively, we would expect this boundary to generalise well as opposed to the other possible boundaries.\n",
    "\n",
    "#### Algorithm:\n",
    "\n",
    "Define an optimal hyperplane: maximize margin\n",
    "Extend the above definition for non-linearly separable problems: have a penalty term for misclassifications.\n",
    "Map data to high dimensional space where it is easier to classify with linear decision surfaces: reformulate problem so that data is mapped implicitly to this space.\n",
    "To define an optimal hyperplane we need to maximize the width of the margin (w).\n",
    "\n",
    "We find w and b by solving the following objective function using Quadratic Programming.\n",
    "\n",
    "The beauty of SVM is that if the data is linearly separable, there is a unique global minimum value. An ideal SVM analysis should produce a hyperplane that completely separates the vectors (cases) into two non-overlapping classes. However, perfect separation may not be possible, or it may result in a model with so many cases that the model does not classify correctly. In this situation SVM finds the hyperplane that maximizes the margin and minimizes the misclassifications.\n",
    "\n",
    "#### Kernel Function\n",
    "\n",
    "Bunu da \"http://www.saedsayad.com/support_vector_machine.htm\" adresinden almissin oldugu gibi. Bu da olmamis.\n",
    "\n",
    "The simplest way to separate two groups of data is with a straight line (1 dimension), flat plane (2 dimensions) or an N-dimensional hyperplane. However, there are situations where a nonlinear region can separate the groups more efficiently. SVM handles this by using a kernel function (nonlinear) to map the data into a different space where a hyperplane (linear) cannot be used to do the separation. It means a non-linear function is learned by a linear learning machine in a high-dimensional feature space while the capacity of the system is controlled by a parameter that does not depend on the dimensionality of the space. This is called kernel trick which means the kernel function transform the data into a higher dimensional feature space to make it possible to perform the linear separation.\n",
    "\n",
    "where $K(X_{i},X_{j})= \\phi(X_{i}). \\phi(X_{j})$ that is, the kernel function, represents a dot product of input data points mapped into the higher dimensional feature space by transformation.\n",
    "Gamma(\\gamma) is an adjustable parameter of certain kernel functions.\n",
    "The Radial Basis Function Kernel, also called the RBF kernel, or Gaussian kernel, is a kernel that is in the form of a radial basis function (more specifically, a Gaussian function).\n",
    "Map data into new space, then take the inner product of the new vectors. The image of the inner product of the data is the inner product of the images of the data. Two kernel functions are shown below.\n",
    "\n",
    "#### REFERENCES:\n",
    "\n",
    "http://users.ecs.soton.ac.uk/srg/publications/pdf/SVM.pdf\n",
    "http://www.jaist.jp/~h-yamada/pdf/iwpt2003.pdf\n",
    "http://www.statsoft.com/Textbook/Support-Vector-Machines#overview\n",
    "http://www.saedsayad.com/support_vector_machine.htm\n",
    "    \n",
    "http://archive.ics.uci.edu/ml/datasets/Bank+Marketing\n",
    "http://resource.heartonline.cn/20150528/1_3kOQSTg.pdf\n",
    "https://onlinecourses.science.psu.edu/stat504/node/172\n",
    "http://www.saedsayad.com/logistic_regression.htm\n",
    "https://www.medcalc.org/manual/logistic_regression.php\n",
    "http://sphweb.bumc.bu.edu/otlt/mph-modules/bs/bs704_multivariable/BS704_Multivariable8.html"
   ]
  },
  {
   "cell_type": "code",
   "execution_count": 3,
   "metadata": {
    "collapsed": false
   },
   "outputs": [],
   "source": [
    "import pandas as pd\n",
    "import numpy as np\n",
    "from sklearn import preprocessing\n",
    "import matplotlib.pyplot as plt \n",
    "plt.rc(\"font\", size=14)\n",
    "from sklearn.linear_model import LogisticRegression\n",
    "from sklearn.cross_validation import train_test_split\n",
    "import seaborn as sns\n",
    "sns.set(style=\"white\")\n",
    "sns.set(style=\"whitegrid\", color_codes=True)"
   ]
  },
  {
   "cell_type": "code",
   "execution_count": 5,
   "metadata": {
    "collapsed": false,
    "scrolled": true
   },
   "outputs": [
    {
     "name": "stdout",
     "output_type": "stream",
     "text": [
      "(4119, 21)\n",
      "['age', 'job', 'marital', 'education', 'default', 'housing', 'loan', 'contact', 'month', 'day_of_week', 'duration', 'campaign', 'pdays', 'previous', 'poutcome', 'emp.var.rate', 'cons.price.idx', 'cons.conf.idx', 'euribor3m', 'nr.employed', 'y']\n"
     ]
    }
   ],
   "source": [
    "dataset=pd.read_csv('Data.csv',header=0)\n",
    "dataset=dataset.dropna()\n",
    "print(dataset.shape)\n",
    "print(list(dataset.columns))"
   ]
  },
  {
   "cell_type": "code",
   "execution_count": 6,
   "metadata": {
    "collapsed": false
   },
   "outputs": [
    {
     "data": {
      "text/html": [
       "<div>\n",
       "<table border=\"1\" class=\"dataframe\">\n",
       "  <thead>\n",
       "    <tr style=\"text-align: right;\">\n",
       "      <th></th>\n",
       "      <th>age</th>\n",
       "      <th>job</th>\n",
       "      <th>marital</th>\n",
       "      <th>education</th>\n",
       "      <th>default</th>\n",
       "      <th>housing</th>\n",
       "      <th>loan</th>\n",
       "      <th>contact</th>\n",
       "      <th>month</th>\n",
       "      <th>day_of_week</th>\n",
       "      <th>...</th>\n",
       "      <th>campaign</th>\n",
       "      <th>pdays</th>\n",
       "      <th>previous</th>\n",
       "      <th>poutcome</th>\n",
       "      <th>emp.var.rate</th>\n",
       "      <th>cons.price.idx</th>\n",
       "      <th>cons.conf.idx</th>\n",
       "      <th>euribor3m</th>\n",
       "      <th>nr.employed</th>\n",
       "      <th>y</th>\n",
       "    </tr>\n",
       "  </thead>\n",
       "  <tbody>\n",
       "    <tr>\n",
       "      <th>0</th>\n",
       "      <td>45</td>\n",
       "      <td>entrepreneur</td>\n",
       "      <td>married</td>\n",
       "      <td>university.degree</td>\n",
       "      <td>unknown</td>\n",
       "      <td>yes</td>\n",
       "      <td>yes</td>\n",
       "      <td>cellular</td>\n",
       "      <td>aug</td>\n",
       "      <td>mon</td>\n",
       "      <td>...</td>\n",
       "      <td>2</td>\n",
       "      <td>999</td>\n",
       "      <td>0</td>\n",
       "      <td>nonexistent</td>\n",
       "      <td>1.4</td>\n",
       "      <td>93444.0</td>\n",
       "      <td>-36.1</td>\n",
       "      <td>4965.0</td>\n",
       "      <td>5228.1</td>\n",
       "      <td>no</td>\n",
       "    </tr>\n",
       "    <tr>\n",
       "      <th>1</th>\n",
       "      <td>29</td>\n",
       "      <td>technician</td>\n",
       "      <td>single</td>\n",
       "      <td>university.degree</td>\n",
       "      <td>no</td>\n",
       "      <td>yes</td>\n",
       "      <td>yes</td>\n",
       "      <td>cellular</td>\n",
       "      <td>aug</td>\n",
       "      <td>wed</td>\n",
       "      <td>...</td>\n",
       "      <td>3</td>\n",
       "      <td>999</td>\n",
       "      <td>0</td>\n",
       "      <td>nonexistent</td>\n",
       "      <td>1.4</td>\n",
       "      <td>93444.0</td>\n",
       "      <td>-36.1</td>\n",
       "      <td>4967.0</td>\n",
       "      <td>5228.1</td>\n",
       "      <td>no</td>\n",
       "    </tr>\n",
       "    <tr>\n",
       "      <th>2</th>\n",
       "      <td>40</td>\n",
       "      <td>management</td>\n",
       "      <td>married</td>\n",
       "      <td>high.school</td>\n",
       "      <td>no</td>\n",
       "      <td>no</td>\n",
       "      <td>yes</td>\n",
       "      <td>cellular</td>\n",
       "      <td>aug</td>\n",
       "      <td>wed</td>\n",
       "      <td>...</td>\n",
       "      <td>1</td>\n",
       "      <td>999</td>\n",
       "      <td>0</td>\n",
       "      <td>nonexistent</td>\n",
       "      <td>1.4</td>\n",
       "      <td>93444.0</td>\n",
       "      <td>-36.1</td>\n",
       "      <td>4965.0</td>\n",
       "      <td>5228.1</td>\n",
       "      <td>no</td>\n",
       "    </tr>\n",
       "    <tr>\n",
       "      <th>3</th>\n",
       "      <td>38</td>\n",
       "      <td>technician</td>\n",
       "      <td>married</td>\n",
       "      <td>professional.course</td>\n",
       "      <td>no</td>\n",
       "      <td>yes</td>\n",
       "      <td>no</td>\n",
       "      <td>cellular</td>\n",
       "      <td>aug</td>\n",
       "      <td>mon</td>\n",
       "      <td>...</td>\n",
       "      <td>1</td>\n",
       "      <td>999</td>\n",
       "      <td>0</td>\n",
       "      <td>nonexistent</td>\n",
       "      <td>1.4</td>\n",
       "      <td>93444.0</td>\n",
       "      <td>-36.1</td>\n",
       "      <td>4965.0</td>\n",
       "      <td>5228.1</td>\n",
       "      <td>yes</td>\n",
       "    </tr>\n",
       "    <tr>\n",
       "      <th>4</th>\n",
       "      <td>34</td>\n",
       "      <td>admin.</td>\n",
       "      <td>married</td>\n",
       "      <td>university.degree</td>\n",
       "      <td>no</td>\n",
       "      <td>no</td>\n",
       "      <td>no</td>\n",
       "      <td>cellular</td>\n",
       "      <td>aug</td>\n",
       "      <td>tue</td>\n",
       "      <td>...</td>\n",
       "      <td>1</td>\n",
       "      <td>999</td>\n",
       "      <td>0</td>\n",
       "      <td>nonexistent</td>\n",
       "      <td>1.4</td>\n",
       "      <td>93444.0</td>\n",
       "      <td>-36.1</td>\n",
       "      <td>4963.0</td>\n",
       "      <td>5228.1</td>\n",
       "      <td>no</td>\n",
       "    </tr>\n",
       "  </tbody>\n",
       "</table>\n",
       "<p>5 rows × 21 columns</p>\n",
       "</div>"
      ],
      "text/plain": [
       "   age           job  marital            education  default housing loan  \\\n",
       "0   45  entrepreneur  married    university.degree  unknown     yes  yes   \n",
       "1   29    technician   single    university.degree       no     yes  yes   \n",
       "2   40    management  married          high.school       no      no  yes   \n",
       "3   38    technician  married  professional.course       no     yes   no   \n",
       "4   34        admin.  married    university.degree       no      no   no   \n",
       "\n",
       "    contact month day_of_week ...   campaign  pdays  previous     poutcome  \\\n",
       "0  cellular   aug         mon ...          2    999         0  nonexistent   \n",
       "1  cellular   aug         wed ...          3    999         0  nonexistent   \n",
       "2  cellular   aug         wed ...          1    999         0  nonexistent   \n",
       "3  cellular   aug         mon ...          1    999         0  nonexistent   \n",
       "4  cellular   aug         tue ...          1    999         0  nonexistent   \n",
       "\n",
       "  emp.var.rate  cons.price.idx  cons.conf.idx  euribor3m  nr.employed    y  \n",
       "0          1.4         93444.0          -36.1     4965.0       5228.1   no  \n",
       "1          1.4         93444.0          -36.1     4967.0       5228.1   no  \n",
       "2          1.4         93444.0          -36.1     4965.0       5228.1   no  \n",
       "3          1.4         93444.0          -36.1     4965.0       5228.1  yes  \n",
       "4          1.4         93444.0          -36.1     4963.0       5228.1   no  \n",
       "\n",
       "[5 rows x 21 columns]"
      ]
     },
     "execution_count": 6,
     "metadata": {},
     "output_type": "execute_result"
    }
   ],
   "source": [
    "dataset.head()"
   ]
  },
  {
   "cell_type": "code",
   "execution_count": 7,
   "metadata": {
    "collapsed": false
   },
   "outputs": [
    {
     "data": {
      "text/plain": [
       "array([[45, 'entrepreneur', 'married', ..., -36.1, 4965.0, 5228.1],\n",
       "       [29, 'technician', 'single', ..., -36.1, 4967.0, 5228.1],\n",
       "       [40, 'management', 'married', ..., -36.1, 4965.0, 5228.1],\n",
       "       ..., \n",
       "       [33, 'services', 'married', ..., -36.4, 4857.0, 5191.0],\n",
       "       [43, 'services', 'married', ..., -36.4, 4857.0, 5191.0],\n",
       "       [53, 'housemaid', 'divorced', ..., -36.4, 4855.0, 5191.0]], dtype=object)"
      ]
     },
     "execution_count": 7,
     "metadata": {},
     "output_type": "execute_result"
    }
   ],
   "source": [
    "X=dataset.iloc[:,:-1].values\n",
    "X"
   ]
  },
  {
   "cell_type": "code",
   "execution_count": 8,
   "metadata": {
    "collapsed": false
   },
   "outputs": [
    {
     "data": {
      "text/plain": [
       "array(['no', 'no', 'no', ..., 'no', 'no', 'no'], dtype=object)"
      ]
     },
     "execution_count": 8,
     "metadata": {},
     "output_type": "execute_result"
    }
   ],
   "source": [
    "y=dataset.iloc[:,20].values\n",
    "y"
   ]
  },
  {
   "cell_type": "code",
   "execution_count": 9,
   "metadata": {
    "collapsed": false
   },
   "outputs": [
    {
     "data": {
      "text/plain": [
       "array(['university.degree', 'high.school', 'professional.course',\n",
       "       'basic.4y', 'unknown', 'basic.9y', 'basic.6y', 'illiterate'], dtype=object)"
      ]
     },
     "execution_count": 9,
     "metadata": {},
     "output_type": "execute_result"
    }
   ],
   "source": [
    "dataset['education'].unique()"
   ]
  },
  {
   "cell_type": "code",
   "execution_count": 10,
   "metadata": {
    "collapsed": true
   },
   "outputs": [],
   "source": [
    "dataset['education']=np.where(dataset['education'] =='basic.9y', 'Basic', dataset['education'])\n",
    "dataset['education']=np.where(dataset['education'] =='basic.6y', 'Basic', dataset['education'])\n",
    "dataset['education']=np.where(dataset['education'] =='basic.4y', 'Basic', dataset['education'])"
   ]
  },
  {
   "cell_type": "code",
   "execution_count": 11,
   "metadata": {
    "collapsed": false
   },
   "outputs": [
    {
     "data": {
      "text/plain": [
       "array(['university.degree', 'high.school', 'professional.course', 'Basic',\n",
       "       'unknown', 'illiterate'], dtype=object)"
      ]
     },
     "execution_count": 11,
     "metadata": {},
     "output_type": "execute_result"
    }
   ],
   "source": [
    "dataset['education'].unique()"
   ]
  },
  {
   "cell_type": "code",
   "execution_count": 12,
   "metadata": {
    "collapsed": false
   },
   "outputs": [
    {
     "data": {
      "text/plain": [
       "no     3668\n",
       "yes     451\n",
       "Name: y, dtype: int64"
      ]
     },
     "execution_count": 12,
     "metadata": {},
     "output_type": "execute_result"
    }
   ],
   "source": [
    "dataset['y'].value_counts()"
   ]
  },
  {
   "cell_type": "code",
   "execution_count": 13,
   "metadata": {
    "collapsed": false
   },
   "outputs": [
    {
     "data": {
      "text/html": [
       "<div>\n",
       "<table border=\"1\" class=\"dataframe\">\n",
       "  <thead>\n",
       "    <tr style=\"text-align: right;\">\n",
       "      <th></th>\n",
       "      <th>age</th>\n",
       "      <th>duration</th>\n",
       "      <th>campaign</th>\n",
       "      <th>pdays</th>\n",
       "      <th>previous</th>\n",
       "      <th>emp.var.rate</th>\n",
       "      <th>cons.price.idx</th>\n",
       "      <th>cons.conf.idx</th>\n",
       "      <th>euribor3m</th>\n",
       "      <th>nr.employed</th>\n",
       "    </tr>\n",
       "    <tr>\n",
       "      <th>y</th>\n",
       "      <th></th>\n",
       "      <th></th>\n",
       "      <th></th>\n",
       "      <th></th>\n",
       "      <th></th>\n",
       "      <th></th>\n",
       "      <th></th>\n",
       "      <th></th>\n",
       "      <th></th>\n",
       "      <th></th>\n",
       "    </tr>\n",
       "  </thead>\n",
       "  <tbody>\n",
       "    <tr>\n",
       "      <th>no</th>\n",
       "      <td>39.895311</td>\n",
       "      <td>219.40976</td>\n",
       "      <td>2.605780</td>\n",
       "      <td>982.763086</td>\n",
       "      <td>0.141767</td>\n",
       "      <td>0.240185</td>\n",
       "      <td>84233.152890</td>\n",
       "      <td>-40.586723</td>\n",
       "      <td>3408.877713</td>\n",
       "      <td>5175.502072</td>\n",
       "    </tr>\n",
       "    <tr>\n",
       "      <th>yes</th>\n",
       "      <td>41.889135</td>\n",
       "      <td>560.78714</td>\n",
       "      <td>1.980044</td>\n",
       "      <td>778.722838</td>\n",
       "      <td>0.585366</td>\n",
       "      <td>-1.177384</td>\n",
       "      <td>89907.699335</td>\n",
       "      <td>-39.786475</td>\n",
       "      <td>1908.102328</td>\n",
       "      <td>5093.118625</td>\n",
       "    </tr>\n",
       "  </tbody>\n",
       "</table>\n",
       "</div>"
      ],
      "text/plain": [
       "           age   duration  campaign       pdays  previous  emp.var.rate  \\\n",
       "y                                                                         \n",
       "no   39.895311  219.40976  2.605780  982.763086  0.141767      0.240185   \n",
       "yes  41.889135  560.78714  1.980044  778.722838  0.585366     -1.177384   \n",
       "\n",
       "     cons.price.idx  cons.conf.idx    euribor3m  nr.employed  \n",
       "y                                                             \n",
       "no     84233.152890     -40.586723  3408.877713  5175.502072  \n",
       "yes    89907.699335     -39.786475  1908.102328  5093.118625  "
      ]
     },
     "execution_count": 13,
     "metadata": {},
     "output_type": "execute_result"
    }
   ],
   "source": [
    "dataset.groupby('y').mean()"
   ]
  },
  {
   "cell_type": "code",
   "execution_count": 14,
   "metadata": {
    "collapsed": true
   },
   "outputs": [],
   "source": [
    "dataset['y']=np.where(dataset['y'] =='yes', '1', dataset['y'])\n",
    "dataset['y']=np.where(dataset['y'] =='no', '0', dataset['y'])"
   ]
  },
  {
   "cell_type": "code",
   "execution_count": 15,
   "metadata": {
    "collapsed": false
   },
   "outputs": [
    {
     "data": {
      "text/plain": [
       "0    3668\n",
       "1     451\n",
       "Name: y, dtype: int64"
      ]
     },
     "execution_count": 15,
     "metadata": {},
     "output_type": "execute_result"
    }
   ],
   "source": [
    "dataset['y'].value_counts()"
   ]
  },
  {
   "cell_type": "code",
   "execution_count": 16,
   "metadata": {
    "collapsed": false
   },
   "outputs": [
    {
     "data": {
      "text/html": [
       "<div>\n",
       "<table border=\"1\" class=\"dataframe\">\n",
       "  <thead>\n",
       "    <tr style=\"text-align: right;\">\n",
       "      <th></th>\n",
       "      <th>age</th>\n",
       "      <th>duration</th>\n",
       "      <th>campaign</th>\n",
       "      <th>pdays</th>\n",
       "      <th>previous</th>\n",
       "      <th>emp.var.rate</th>\n",
       "      <th>cons.price.idx</th>\n",
       "      <th>cons.conf.idx</th>\n",
       "      <th>euribor3m</th>\n",
       "      <th>nr.employed</th>\n",
       "    </tr>\n",
       "    <tr>\n",
       "      <th>y</th>\n",
       "      <th></th>\n",
       "      <th></th>\n",
       "      <th></th>\n",
       "      <th></th>\n",
       "      <th></th>\n",
       "      <th></th>\n",
       "      <th></th>\n",
       "      <th></th>\n",
       "      <th></th>\n",
       "      <th></th>\n",
       "    </tr>\n",
       "  </thead>\n",
       "  <tbody>\n",
       "    <tr>\n",
       "      <th>0</th>\n",
       "      <td>39.895311</td>\n",
       "      <td>219.40976</td>\n",
       "      <td>2.605780</td>\n",
       "      <td>982.763086</td>\n",
       "      <td>0.141767</td>\n",
       "      <td>0.240185</td>\n",
       "      <td>84233.152890</td>\n",
       "      <td>-40.586723</td>\n",
       "      <td>3408.877713</td>\n",
       "      <td>5175.502072</td>\n",
       "    </tr>\n",
       "    <tr>\n",
       "      <th>1</th>\n",
       "      <td>41.889135</td>\n",
       "      <td>560.78714</td>\n",
       "      <td>1.980044</td>\n",
       "      <td>778.722838</td>\n",
       "      <td>0.585366</td>\n",
       "      <td>-1.177384</td>\n",
       "      <td>89907.699335</td>\n",
       "      <td>-39.786475</td>\n",
       "      <td>1908.102328</td>\n",
       "      <td>5093.118625</td>\n",
       "    </tr>\n",
       "  </tbody>\n",
       "</table>\n",
       "</div>"
      ],
      "text/plain": [
       "         age   duration  campaign       pdays  previous  emp.var.rate  \\\n",
       "y                                                                       \n",
       "0  39.895311  219.40976  2.605780  982.763086  0.141767      0.240185   \n",
       "1  41.889135  560.78714  1.980044  778.722838  0.585366     -1.177384   \n",
       "\n",
       "   cons.price.idx  cons.conf.idx    euribor3m  nr.employed  \n",
       "y                                                           \n",
       "0    84233.152890     -40.586723  3408.877713  5175.502072  \n",
       "1    89907.699335     -39.786475  1908.102328  5093.118625  "
      ]
     },
     "execution_count": 16,
     "metadata": {},
     "output_type": "execute_result"
    }
   ],
   "source": [
    "dataset.groupby('y').mean()"
   ]
  },
  {
   "cell_type": "code",
   "execution_count": 17,
   "metadata": {
    "collapsed": false
   },
   "outputs": [
    {
     "data": {
      "text/html": [
       "<div>\n",
       "<table border=\"1\" class=\"dataframe\">\n",
       "  <thead>\n",
       "    <tr style=\"text-align: right;\">\n",
       "      <th></th>\n",
       "      <th>age</th>\n",
       "      <th>duration</th>\n",
       "      <th>campaign</th>\n",
       "      <th>pdays</th>\n",
       "      <th>previous</th>\n",
       "      <th>emp.var.rate</th>\n",
       "      <th>cons.price.idx</th>\n",
       "      <th>cons.conf.idx</th>\n",
       "      <th>euribor3m</th>\n",
       "      <th>nr.employed</th>\n",
       "    </tr>\n",
       "    <tr>\n",
       "      <th>job</th>\n",
       "      <th></th>\n",
       "      <th></th>\n",
       "      <th></th>\n",
       "      <th></th>\n",
       "      <th></th>\n",
       "      <th></th>\n",
       "      <th></th>\n",
       "      <th></th>\n",
       "      <th></th>\n",
       "      <th></th>\n",
       "    </tr>\n",
       "  </thead>\n",
       "  <tbody>\n",
       "    <tr>\n",
       "      <th>admin.</th>\n",
       "      <td>38.240119</td>\n",
       "      <td>261.871542</td>\n",
       "      <td>2.642292</td>\n",
       "      <td>944.025692</td>\n",
       "      <td>0.192688</td>\n",
       "      <td>0.061462</td>\n",
       "      <td>85338.761660</td>\n",
       "      <td>-40.014723</td>\n",
       "      <td>3213.641621</td>\n",
       "      <td>5165.542885</td>\n",
       "    </tr>\n",
       "    <tr>\n",
       "      <th>blue-collar</th>\n",
       "      <td>39.265837</td>\n",
       "      <td>261.852941</td>\n",
       "      <td>2.432127</td>\n",
       "      <td>983.270362</td>\n",
       "      <td>0.147059</td>\n",
       "      <td>0.235520</td>\n",
       "      <td>87560.612670</td>\n",
       "      <td>-41.571493</td>\n",
       "      <td>3395.070498</td>\n",
       "      <td>5174.265611</td>\n",
       "    </tr>\n",
       "    <tr>\n",
       "      <th>entrepreneur</th>\n",
       "      <td>42.202703</td>\n",
       "      <td>249.202703</td>\n",
       "      <td>2.216216</td>\n",
       "      <td>992.263514</td>\n",
       "      <td>0.141892</td>\n",
       "      <td>0.263514</td>\n",
       "      <td>72225.282432</td>\n",
       "      <td>-40.839865</td>\n",
       "      <td>3504.893243</td>\n",
       "      <td>5180.600000</td>\n",
       "    </tr>\n",
       "    <tr>\n",
       "      <th>housemaid</th>\n",
       "      <td>45.672727</td>\n",
       "      <td>229.663636</td>\n",
       "      <td>2.463636</td>\n",
       "      <td>980.909091</td>\n",
       "      <td>0.100000</td>\n",
       "      <td>0.426364</td>\n",
       "      <td>85194.281818</td>\n",
       "      <td>-39.324545</td>\n",
       "      <td>3746.535636</td>\n",
       "      <td>5179.862727</td>\n",
       "    </tr>\n",
       "    <tr>\n",
       "      <th>management</th>\n",
       "      <td>42.429012</td>\n",
       "      <td>246.799383</td>\n",
       "      <td>2.432099</td>\n",
       "      <td>953.015432</td>\n",
       "      <td>0.246914</td>\n",
       "      <td>-0.049691</td>\n",
       "      <td>75666.322222</td>\n",
       "      <td>-40.591667</td>\n",
       "      <td>3076.859784</td>\n",
       "      <td>5165.971914</td>\n",
       "    </tr>\n",
       "    <tr>\n",
       "      <th>retired</th>\n",
       "      <td>60.873494</td>\n",
       "      <td>311.789157</td>\n",
       "      <td>2.397590</td>\n",
       "      <td>897.301205</td>\n",
       "      <td>0.325301</td>\n",
       "      <td>-0.580120</td>\n",
       "      <td>87317.778313</td>\n",
       "      <td>-39.034337</td>\n",
       "      <td>2679.672169</td>\n",
       "      <td>5126.062048</td>\n",
       "    </tr>\n",
       "    <tr>\n",
       "      <th>self-employed</th>\n",
       "      <td>40.679245</td>\n",
       "      <td>254.924528</td>\n",
       "      <td>2.817610</td>\n",
       "      <td>967.691824</td>\n",
       "      <td>0.207547</td>\n",
       "      <td>0.086164</td>\n",
       "      <td>81278.158491</td>\n",
       "      <td>-40.323899</td>\n",
       "      <td>3276.167107</td>\n",
       "      <td>5166.974843</td>\n",
       "    </tr>\n",
       "    <tr>\n",
       "      <th>services</th>\n",
       "      <td>38.513995</td>\n",
       "      <td>232.529262</td>\n",
       "      <td>2.844784</td>\n",
       "      <td>978.773537</td>\n",
       "      <td>0.178117</td>\n",
       "      <td>0.067684</td>\n",
       "      <td>88177.060051</td>\n",
       "      <td>-41.532061</td>\n",
       "      <td>3080.805776</td>\n",
       "      <td>5165.806870</td>\n",
       "    </tr>\n",
       "    <tr>\n",
       "      <th>student</th>\n",
       "      <td>26.695122</td>\n",
       "      <td>287.134146</td>\n",
       "      <td>1.951220</td>\n",
       "      <td>902.426829</td>\n",
       "      <td>0.487805</td>\n",
       "      <td>-1.192683</td>\n",
       "      <td>88906.534146</td>\n",
       "      <td>-39.665854</td>\n",
       "      <td>1969.817683</td>\n",
       "      <td>5092.046341</td>\n",
       "    </tr>\n",
       "    <tr>\n",
       "      <th>technician</th>\n",
       "      <td>38.622287</td>\n",
       "      <td>253.286541</td>\n",
       "      <td>2.509407</td>\n",
       "      <td>964.548480</td>\n",
       "      <td>0.169320</td>\n",
       "      <td>0.248770</td>\n",
       "      <td>85895.611288</td>\n",
       "      <td>-39.895948</td>\n",
       "      <td>3433.544139</td>\n",
       "      <td>5173.511433</td>\n",
       "    </tr>\n",
       "    <tr>\n",
       "      <th>unemployed</th>\n",
       "      <td>39.531532</td>\n",
       "      <td>249.801802</td>\n",
       "      <td>2.621622</td>\n",
       "      <td>927.369369</td>\n",
       "      <td>0.234234</td>\n",
       "      <td>-0.181982</td>\n",
       "      <td>79308.931532</td>\n",
       "      <td>-40.505405</td>\n",
       "      <td>3125.356216</td>\n",
       "      <td>5153.002703</td>\n",
       "    </tr>\n",
       "    <tr>\n",
       "      <th>unknown</th>\n",
       "      <td>46.846154</td>\n",
       "      <td>234.410256</td>\n",
       "      <td>2.333333</td>\n",
       "      <td>947.923077</td>\n",
       "      <td>0.179487</td>\n",
       "      <td>0.305128</td>\n",
       "      <td>93679.743590</td>\n",
       "      <td>-38.971795</td>\n",
       "      <td>3220.842564</td>\n",
       "      <td>5174.471795</td>\n",
       "    </tr>\n",
       "  </tbody>\n",
       "</table>\n",
       "</div>"
      ],
      "text/plain": [
       "                     age    duration  campaign       pdays  previous  \\\n",
       "job                                                                    \n",
       "admin.         38.240119  261.871542  2.642292  944.025692  0.192688   \n",
       "blue-collar    39.265837  261.852941  2.432127  983.270362  0.147059   \n",
       "entrepreneur   42.202703  249.202703  2.216216  992.263514  0.141892   \n",
       "housemaid      45.672727  229.663636  2.463636  980.909091  0.100000   \n",
       "management     42.429012  246.799383  2.432099  953.015432  0.246914   \n",
       "retired        60.873494  311.789157  2.397590  897.301205  0.325301   \n",
       "self-employed  40.679245  254.924528  2.817610  967.691824  0.207547   \n",
       "services       38.513995  232.529262  2.844784  978.773537  0.178117   \n",
       "student        26.695122  287.134146  1.951220  902.426829  0.487805   \n",
       "technician     38.622287  253.286541  2.509407  964.548480  0.169320   \n",
       "unemployed     39.531532  249.801802  2.621622  927.369369  0.234234   \n",
       "unknown        46.846154  234.410256  2.333333  947.923077  0.179487   \n",
       "\n",
       "               emp.var.rate  cons.price.idx  cons.conf.idx    euribor3m  \\\n",
       "job                                                                       \n",
       "admin.             0.061462    85338.761660     -40.014723  3213.641621   \n",
       "blue-collar        0.235520    87560.612670     -41.571493  3395.070498   \n",
       "entrepreneur       0.263514    72225.282432     -40.839865  3504.893243   \n",
       "housemaid          0.426364    85194.281818     -39.324545  3746.535636   \n",
       "management        -0.049691    75666.322222     -40.591667  3076.859784   \n",
       "retired           -0.580120    87317.778313     -39.034337  2679.672169   \n",
       "self-employed      0.086164    81278.158491     -40.323899  3276.167107   \n",
       "services           0.067684    88177.060051     -41.532061  3080.805776   \n",
       "student           -1.192683    88906.534146     -39.665854  1969.817683   \n",
       "technician         0.248770    85895.611288     -39.895948  3433.544139   \n",
       "unemployed        -0.181982    79308.931532     -40.505405  3125.356216   \n",
       "unknown            0.305128    93679.743590     -38.971795  3220.842564   \n",
       "\n",
       "               nr.employed  \n",
       "job                         \n",
       "admin.         5165.542885  \n",
       "blue-collar    5174.265611  \n",
       "entrepreneur   5180.600000  \n",
       "housemaid      5179.862727  \n",
       "management     5165.971914  \n",
       "retired        5126.062048  \n",
       "self-employed  5166.974843  \n",
       "services       5165.806870  \n",
       "student        5092.046341  \n",
       "technician     5173.511433  \n",
       "unemployed     5153.002703  \n",
       "unknown        5174.471795  "
      ]
     },
     "execution_count": 17,
     "metadata": {},
     "output_type": "execute_result"
    }
   ],
   "source": [
    "dataset.groupby('job').mean()"
   ]
  },
  {
   "cell_type": "code",
   "execution_count": 18,
   "metadata": {
    "collapsed": false
   },
   "outputs": [
    {
     "data": {
      "text/html": [
       "<div>\n",
       "<table border=\"1\" class=\"dataframe\">\n",
       "  <thead>\n",
       "    <tr style=\"text-align: right;\">\n",
       "      <th></th>\n",
       "      <th>age</th>\n",
       "      <th>duration</th>\n",
       "      <th>campaign</th>\n",
       "      <th>pdays</th>\n",
       "      <th>previous</th>\n",
       "      <th>emp.var.rate</th>\n",
       "      <th>cons.price.idx</th>\n",
       "      <th>cons.conf.idx</th>\n",
       "      <th>euribor3m</th>\n",
       "      <th>nr.employed</th>\n",
       "    </tr>\n",
       "    <tr>\n",
       "      <th>marital</th>\n",
       "      <th></th>\n",
       "      <th></th>\n",
       "      <th></th>\n",
       "      <th></th>\n",
       "      <th></th>\n",
       "      <th></th>\n",
       "      <th></th>\n",
       "      <th></th>\n",
       "      <th></th>\n",
       "      <th></th>\n",
       "    </tr>\n",
       "  </thead>\n",
       "  <tbody>\n",
       "    <tr>\n",
       "      <th>divorced</th>\n",
       "      <td>45.107623</td>\n",
       "      <td>263.163677</td>\n",
       "      <td>2.542601</td>\n",
       "      <td>972.255605</td>\n",
       "      <td>0.174888</td>\n",
       "      <td>0.143274</td>\n",
       "      <td>83371.324664</td>\n",
       "      <td>-40.621973</td>\n",
       "      <td>3288.739484</td>\n",
       "      <td>5170.145964</td>\n",
       "    </tr>\n",
       "    <tr>\n",
       "      <th>married</th>\n",
       "      <td>42.389398</td>\n",
       "      <td>256.289757</td>\n",
       "      <td>2.527700</td>\n",
       "      <td>964.162216</td>\n",
       "      <td>0.173774</td>\n",
       "      <td>0.172260</td>\n",
       "      <td>84358.866401</td>\n",
       "      <td>-40.357114</td>\n",
       "      <td>3363.104755</td>\n",
       "      <td>5170.724472</td>\n",
       "    </tr>\n",
       "    <tr>\n",
       "      <th>single</th>\n",
       "      <td>33.209020</td>\n",
       "      <td>254.647875</td>\n",
       "      <td>2.555941</td>\n",
       "      <td>947.338248</td>\n",
       "      <td>0.233304</td>\n",
       "      <td>-0.128448</td>\n",
       "      <td>86504.565828</td>\n",
       "      <td>-40.768257</td>\n",
       "      <td>2967.873461</td>\n",
       "      <td>5155.756114</td>\n",
       "    </tr>\n",
       "    <tr>\n",
       "      <th>unknown</th>\n",
       "      <td>42.272727</td>\n",
       "      <td>336.272727</td>\n",
       "      <td>2.545455</td>\n",
       "      <td>999.000000</td>\n",
       "      <td>0.090909</td>\n",
       "      <td>0.181818</td>\n",
       "      <td>85073.290909</td>\n",
       "      <td>-39.690909</td>\n",
       "      <td>3413.805455</td>\n",
       "      <td>5174.409091</td>\n",
       "    </tr>\n",
       "  </tbody>\n",
       "</table>\n",
       "</div>"
      ],
      "text/plain": [
       "                age    duration  campaign       pdays  previous  emp.var.rate  \\\n",
       "marital                                                                         \n",
       "divorced  45.107623  263.163677  2.542601  972.255605  0.174888      0.143274   \n",
       "married   42.389398  256.289757  2.527700  964.162216  0.173774      0.172260   \n",
       "single    33.209020  254.647875  2.555941  947.338248  0.233304     -0.128448   \n",
       "unknown   42.272727  336.272727  2.545455  999.000000  0.090909      0.181818   \n",
       "\n",
       "          cons.price.idx  cons.conf.idx    euribor3m  nr.employed  \n",
       "marital                                                            \n",
       "divorced    83371.324664     -40.621973  3288.739484  5170.145964  \n",
       "married     84358.866401     -40.357114  3363.104755  5170.724472  \n",
       "single      86504.565828     -40.768257  2967.873461  5155.756114  \n",
       "unknown     85073.290909     -39.690909  3413.805455  5174.409091  "
      ]
     },
     "execution_count": 18,
     "metadata": {},
     "output_type": "execute_result"
    }
   ],
   "source": [
    "dataset.groupby('marital').mean()"
   ]
  },
  {
   "cell_type": "code",
   "execution_count": 19,
   "metadata": {
    "collapsed": false
   },
   "outputs": [
    {
     "data": {
      "image/png": "iVBORw0KGgoAAAANSUhEUgAAAYUAAAFTCAYAAADWRBB6AAAABHNCSVQICAgIfAhkiAAAAAlwSFlz\nAAALEgAACxIB0t1+/AAAIABJREFUeJzt3WeYZFW59vH/MEMUyTACQ3LAGzgqwoCAcFDSkQySRRER\nTEcRBXMCDHjwFXBEFJA0JJEoGUQEBDFAI0jyQSRHCQMShRn6/bBW1dQ0HWp69to1XX3/rquv7l1h\nP6u6u+rZK4/p7e3FzMwMYK5OF8DMzOYcTgpmZtbkpGBmZk1OCmZm1uSkYGZmTU4KZmbW5KRgs0XS\nyZK+1+lyWCJpA0n/kPSCpB1qjn2NpH0rOtcdkt5XRyyb2bhOF8DKkHQ/MB6YDrwIXAZ8NiJe6GCx\niujzWhveFhGPdqRAnfUd4KcRMbmKk0k6GFg5Ij5cxfnyOT8EHJsPxwLzAi817o+IBSPiv0qWwQbm\nmkJ32zYiFgTWAtYGvjmrJ5A0Ui4cts0fJo2vNySEEfRaZscKwB3DeWJdv5+IOL3xdwK2BB5t/dvV\nUQYb2Gh4k4x6EfGIpMuAt0PzynrfiPhtPj6YfCUmaUXgPmBf4CDgfmAjSRsCPwRWB54HvhURJ+cQ\ni0q6BNgIuBPYIyL+mc89GdgRWBj4B/D5iLgu3/du4GfA24CXgdMj4oB833rAETneA8D+EXHNrLzu\nQV7LgOeWtBJwMimR/gkIYJH8u3kfcFpETGiJ0fxdSpoL+DLwcWAR4CrgUxHxTEtZPgp8F1gAODIi\nvp/PMxb4CrAPsBRwN7AD8FXglYg4sCXmhcDVEXFkn9f7T2Al4CJJ04HF89cxwIbAM8BhEfGL/PiD\nSf8TrwDbAQcAxw/xO30PMJn0N7s7/+5uaHnIREl/AVYFrgb2johnBjvnAHHuJ/3dxgFfB8bk5rB/\nRsQa/Tz+Y8CXgLcAfwE+EREPzGpcc01hV!
 JC0HLAV8NdZeNp7gdWA90tagdT8dBSwJPAu4JaWx+4O\nHAIsCtwDfL/lvhvz4xcDzgDOljRfvm8yMDkiFgImAmfl8i4LXAJ8Lz/vi8C5kpachfIP9FqGOvcZ\nQA+wBOnDe69ZiLMf6YP8vcAywFTg6D6P2RAQsCnwbUmr5dsPAD5I+jstBHyM1KQyBfhgTjhIWgLY\nLJdzJhExEXiQGbWm/wBnAg/n8uwMHCppk5anbQ+cQ0pipw/24iQtRvrd/YSUbI4ALpG0eMvDPpLL\nvjQwLT922CLicuBQ4Ff5NfWXELYnJY4dSf+f1wG/nJ24o5lrCt3t15KmAc+R3syHzsJzD46IFwEk\n7QH8NiIab7Sn81fD+RHxl/zY00kfFgBExGktjztc0jdJH4q3Aq8BK0taIiKeIl2ZA3wYuDQiLs3H\nV0q6ifSBOWWI1wpwTUS0drK2vpYBzy3pamAdYLP8gfp7SRcN+lua2adI/TYP51gHAw9K2rPlMYdE\nxMvArZJuBdYA7iJdFX85IiI/7tb8/WlJz5GSyJWkBHxNRDwxVGHyxcAGwNYR8Qpwi6TjSR/cv8sP\n+2NE/Dr//PIQp9wa+EdEnJqPfynpc8C2pNoVwKkRcXuO/60cc6+ImP6Gs1XnU8APIuKuHPdQ4OuS\nVnBtYdY5KXS3HRpNRMPwUMvPywH/HOSxj7f8/BLQbBeW9EVSk8gyQC/pKniJfPc+pI7Rv0u6j/SB\neTGpXXwXSdu2nHduUnPEQAZ7ra2vZbBzLwNMbSSQ7AHS62/HCsD5kl5vuW06qRO8YaDf1WC/4ymk\nRHll/t5uJ/IywDMR8XzLbQ+Q+pcaHqJ9y+Tnt3oAWHaA8z1A+t0uAQyZxGbDCsBkSYe33DYml8tJ\nYRY5KYxOL5LatBve0s9jWpfPfQh496wGkfTfpDb2TYE7IuJ1SVNJb1gi4h/MaBrZETgnN0U8RLri\n/Pisxhx!
 A39fS77lzM9mikt7UkhiWb3n+TL+33A/Q2qT1EPCxiPhDP+decYgyPkRqQru9n/tOA26X\ntAapGezX/TymP48Ci0l6c0tiWB54pOUxs7JM8qOkD+BWywOXtxwv1+e+14CnZiFGf4Yq40PA9yNi\n0OYva4/7FEanW4DdJc0taW1SW/NgTgc2k7SrpHGSFpf0rjbivJnUrvwkME7St0k1BSA15UhaMiJe\nB57NN79O+hDcVtL7JY2VNJ+k90ma0DfAMAx47tzUcBNwiKR5cud6a43ibmA+SVtLmps0mmvelvuP\nAb6fkwuSlszt3e04HviupFUkjZH0zkZbfW6OuhE4FTg3Nz8NKSIeAm4AfpBf5ztJtbPTBn/mgC4F\n3iZpj/x/sBups/7ilsd8WNLqkhYg1QLPqaDp6AlgxUa/Sj+OAb4m6b8AJC0saZfZjDlqOSmMTt8i\nXZVOJXUQv6HTslVEPEhqzz+QNILlFlJb+FCuIF1F3k2qxr/CzM0LWwB3SHqB1CSye0S8nD/MGp2H\nT+bnfIkK/l/bOPcewLqk13kQcErLc58D/pf0Af4IqebwcMvpJwMXAr+R9Dypj2TdNot2BKmj/TfA\nv4ETgPlb7p8CvIOUGGbFB4EVSVf55wMHDaNJsRcgIp4GtiH9HzxNqgVuk/uDGk4l9S88DswHfG4W\nY/Xn7Pz9aUk3970zIs4HDgPOlPRvUm1rywrijkpjvMmO2cA0h0yckrQR6Qp/hYio7U0r6Qhgroj4\nfF0xrbNcUzCbw+Wmqv2B42tOCIsA7yc1qdko4aRgNgfL8xieJY37/3GNcbchjYb6M3n+iI0Obj4y\nM7Mm1xTMzKzJScHMzJpG9OS1np4et32ZmQ3DpEmTxvR7R29v74j9uummm3qHY7jPGy7Hc7w5MZbj\njd54+Xn9fq66+cjMzJqcFMzMrMlJwczMmpwUzMysyUnBzMyanBTMzKzJScHMzJqcFMzMrGlEz2ge\nzLYHXjDgfQfvUcUGXmZm3cc1BTOzDpo8eTInn3xy8/jII49kypQp!
 HSuPk4KZWQfttNNOXHBBatl4\n/fXXueSSS9huu+06Vp6ubT4yMxsJJkyYwCKLLMKdd97JU089xeqrr86iiy7asfI4KZiZddguu+zC\neeedx1NPPcVOO+3U0bK4+cjMrMM222wzrrvuOm677TY23HDDjpbFNQUzsw6bZ555WHfddVlooYUY\nO3ZsR8vimoKZWYe9/vrr3Hrrrey8886dLoqTgplZJ91zzz1svvnmrL/++qy44oqdLo6bj8zMOmnl\nlVfmqquu6nQxmlxTMDOzJicFMzNrclIwM7Mm9ylUxAvwmVk3cE3BzGyEuvXWW3n/+9/P5ptvznHH\nHVfJOYvWFCR9AdgX6AVuA/YGlgbOBBYHeoA9I+JVSfMCpwCTgKeB3SLi/pLlMzOrSrO14IyHKznf\nRYdvP+j906dP56STTuKMM85g/Pjx7LzzzmyyySasvPLKsxW3WE1B0rLA54C1I+LtwFhgd+Aw4MiI\nWBmYCuyTn7IPMDXffmR+nJmZ9eNvf/sb48ePZ7nllmOeeeZh6623rmRoa+nmo3HA/JLGAQsAjwGb\nAOfk+6cAO+Sft8/H5Ps3lTSmcPnMzEakJ554gsUXX7x5PH78eJ544onZPm+xpBARjwA/Ah4kJYPn\nSM1Fz0bEtPywh4Fl88/LAg/l507Lj18cMzOrTbE+BUmLkq7+VwKeBc4Gtqg6Tk9PT63PGy7Hc7w5\nMZbjzbmGKvfUqVN5+umnm4+7+eab23reUEp2NG8G3BcRTwJIOg/YAFhE0rhcG5gAPJIf/wiwHPBw\nbm5amNThPKhJkyb1f8cQnT0DPm+46o43iJ6eHscbofG6+bV1fbyKOpgbhir3GmuswdFHH81SSy3F\n+PHjOeSQQzj88MNZZZVVhjz3YImjZFJ4EFhP0gLAy8CmwE3A1cDOpBFIewGNAf4X5uM/5vt/FxG9\nBctnZjZijRs3jo9+9KPsu+++TJ!
 8+nZ122qmthDDkeSsoW78i4s+SzgFuBqYBfwWOAy4BzpT0vXzb\nCfkpJwCnSroHeIY0UsnMbES46PDta68Jrbnmmuy7776VnrPoPIWIOAg4qM/N9wLv7uexrwC7lCyP\nmZkNzjOazcysyUnBzMyanBTMzKzJScHMzJqcFMzMrMlJwcxshDr22GNZf/312WabbSo7pzfZMTOr\nwK6/+nT64Z7jKznfWbv9fMjHbLTRRuy///585StfqSQmuKZgZjZirbbaaiy88MKVntNJwczMmpwU\nzMysyUnBzMyanBTMzKzJScHMbIQ66qij2H333bnvvvvYaKONOPvss2f7nEMOSZW0CnASsGxErCRp\nLWC7iDh4tqObmXWJs3b7ee1LZ++3336Vx2unpvBz4HukPZMBbsFLXJuZdaV2ksLCEXE50AsQEa8D\nrxYtlZmZdUQ7SWG6pLnJSUHSssDrRUtlZmYd0U5S+BlwPrCEpIOB64AflSyUmZl1xpAdzRFxiqR7\ngW2BBYC9IuK64iUzM7PatbUgXkRcD1wvaR5gsbJFMjOzThmy+UjSmZIWljQ/cDtwp6Qvli+amZnV\nrZ0+BUXEc8DWwO+ACcBHipbKzMw6op2kMHf+/l7g0oh4CY8+MjPrSu0khTslXUbqaL4qNyOZmVkX\naicp7AUcC2wcES+SOpq/WrRUZmbWEe0MSX0Z+HXL8SPAIyULZWZmndHOgnhrAMcAawDzNm6PiLEF\ny2VmZh3QzjyFnwHfBI4AtgA+AzxfslBmZtYZ7fQpzBcRVwFzRcRjEfFNYOfC5TIzsw5op6YwLX9/\nJjclPQwsUa5IZmbWKe0khV9JWhz4AXA9MBb4dtFSmZlZR7Qz+uiI/OPlkhYjNSe5T8HMrAu1tSCe\npInAxMbjJRERl5YsmJmZ1a+dIak/APYF7gKm55t7AScFM7Mu005NYRdgYkT8u3RhzMyss9oZkvqY\nE4KZ2egwYE1B0lb5xz9K+iVwNvBK4373KZiZdZ/Bmo++1Od4v5af3adgZtaFBkwKEbHx7J5!
 c0iLA\n8cDbSYnkY0AAvwJWBO4Hdo2IqZLGAJOBrYCXgI9GxM2zWwYzM2tfO6OP9gQujoip+XgxYMuIOL2N\n808GLo+InfP+zgsAXweuioj/k/RV0jLcXwG2BFbJX+sCP8/fzcwGtO2BFwx438F7TKixJN2hnY7m\nLzYSAkBEPAMMuUezpIWBjYAT8vNejYhnge2BKflhU4Ad8s/bA6dERG9E/AlYRNLSbb8SMzObbW1N\nXutHO8tmrwQ8CZyU10zqAfYHxkfEY/kxjwPj88/LAg+1PP/hfNtjmJlZLdpJCo9L2jEizgOQtBPw\nrzbPvRawX0T8WdJk+uzYFhG9knpntdCtenp6an3ecDme482JsRzP8fpqJyl8Hvi1pB/m42mkpp6h\nPAw8HBF/zsfnkJLCE5KWjojHcvNQI8E8AizX8vwJtLHD26RJk/q/44yHh/e84ao73iB6enocb4TG\n6+bXViye33vDet5A2ulTeBRYHdguf/1XRMRQT4qIx4GHJCnftClwJ3Ahad9n8vdGL9GFwEckjZG0\nHvBcSzOTmZnVYNCaQh4m+seIWJ30gT6r9gNOzyOP7gX2JiWisyTtAzwA7JofeylpOOo9pCGpew8j\nnpmZzYZBk0Ju839I0qKtI5DaFRG3AGv3c9em/cUibfVpZmYd0k6fwnPAXyVdCrzQuDEivlysVGZm\n1hHtJIU78peZmXW5dnZeO6SOgpiZWee1s8zFD/u73c1HZmbdp50hqS+2fE0nrVG0ZMlCmZlZZ8xy\n85GkQ0kT0czMrMu0U1Po6wVg+aoLYmZmnTerfQpzAZOAu4qVyMzMOqadIakvtvw8DTgGOK9McczM\nrJOGWuZiMeBi4B8R8e96imRmZp0yYJ+CpN1IK51eCjwoaZPaSmVmZh0xWEfzN4D3RMR44APAt+sp\nkpmZdcpgSeH1vKAdEXE1sFA9RTIzs04ZrE9hHkmrAWPy8!
 XytxxExnKW0zcxsDjZYUliA1J/QqnHc\nC7y1SInMzKxjBkwKEbFijeUwM7M5wHBmNJuZWZdyUjAzsyYnBTMzaxps8trh+fsu9RXHzMw6abCa\nwqb5+9fqKIiZmXXeYENSH5F0G7CSpL/0vTMi3l2uWGZm1gmDJYUdgLWA04Av1VMcMzPrpMHmKbwG\n/FnS1hFxd41lMjOzDmlnP4WHJf0A2CwfXwl8LyJeKlcsMzPrhHaGpB4FLAN8Pn8tDfy0ZKHMzKwz\n2qkprBMR72wcSLoBuLVckczMrFPaqSmMkfSmluMFmLFyqpmZdZF2agqnAX+UdGY+3g04pVyRzMys\nU4asKUTEYcCXgcXy11ci4v+VLpiZmdWvnZoCEXE5cHnhspiZWYd5QTwzM2tyUjAzsyYnBTMzaxqy\nT0HS5aTJapdERG/5IpmZWae0U1M4jjST+Z+SviJp8cJlMjOzDmlnSOp5EbEZsBWwLHCHpFMkTSpe\nOjMzq9Ws9Ck0mo5eBV4BTmnszmZmZt2hnT6FnYDPAG8h9S2sHhEvSBoH3AMcOMTzxwI3AY9ExDaS\nVgLOBBYHeoA9I+JVSfOSZkpPAp4GdouI+4f9yszMbJa1U1PYGzgsIlaPiJ9FxAsAETEN2K+N5+8P\n3NVyfBhwZESsDEwF9sm37wNMzbcfmR9nZmY1aicpbBsRV/R3R0RcNNgTJU0AtgaOz8djgE2Ac/JD\nppB2eAPYPh+T7980P97MzGrSTlK4TtKijQNJi0n6fZvn/zFp3aTX8/HiwLO5lgHwMKnzmvz9IWjW\nQp7Ljzczs5q0s/bRghExtXEQEc9IevNQT5K0DfCviOiR9L7ZKOOgenp6an3ecDme482JsRzP8fpq\nJynMJWmBxvabkhYE5m7jeRsA20naCpgPWAiYDCwiaVyuDUwAHsmPfwRYjrT95zhgYVKH86AmTRpg\nZOwZDw/vecNVd7xB9PT0ON4IjdfNr61YPL/3hvW8gbTTfPRL4EpJH5b0YeAK0h4Lg4qIr0XEhIhY\nEdgd+F1EfAi4!
 Gtg5P2wv4IL884X5mHz/7zyD2sysXkPWFCLiB5IeBbbLNx0bEbOzyc5XgDMlfQ/4\nK3BCvv0E4FRJ9wDPkBKJmZnVqN39FKYwY2TQLIuIa4Br8s/3Au/u5zGvALsMN4aZmc2+diavLUWa\njzCx9fERsWvBcpmZWQe0U1M4lzT57LfA9LLFMTOzTmonKSwaEZ8oXhIzM+u4dkYf3S5pmeIlMTOz\njmurpgDcJukPpNVRAfcpmJl1o3aSwhn5y8xGoG0PvGDA+w7eY0KNJbGRoJ15CsMeimpmZiPLkH0K\nklaRdL2k+/LxWpIOLl4yMzOrXTsdzT8HvkdatRTgFjzJzMysK7WTFBaOiMvJ23FGxOukLTnNzKzL\ntJMUpkuam5wUJC3LjP0RzMysi7STFH4GnA8skfsSrgN+VLJQZmbWGe2MPjpF0r3AtsACwF4RcV3x\nkpmZWe3aXSX1euD6wmUxM7MOa2eV1BvJ/QmtIuINy1+bmdnI1k5N4YstP88HfBB4tExxzMysk9rp\nU7i29VjSb3BTkplZV2pn9FFfCwFvqbogZmbWebPapzAX8Fbg8JKFMjOzzpjVPoVpwL0R8Vih8piZ\nWQfNcp+CWR283LNZZ7TTfPQk/QxJBcYAvRGxVOWlMjOzjmin+ejnwOLAcaREsA/wDHBiwXKZmVkH\ntJMUtoqItVuO95N0Y0QcVKpQZmbWGW0tnS1picZB/nnhckUyM7NOaaem8GPgVkkX5+OtgEPLFcnM\nzDplyJpCRBwNbAncnr+2ioifly6YmZnVr61VUoH7gXERcXPBspiZWYcNWVOQtBVwB3BePl5b0kWl\nC2ZmZvVrp6P5EGAdYCpARNwETCxZKDMz64y2FsSLiMf73PSfAmUxM7MOaycpPC9pPHlWs6T3Ac+W\nLJSZmXVGOx3NXwMuA1aSdA2wCrBdyUKZmVlntLMg3p8lbQy8h7TMxQ0R4ZqCmVkX!
 GjQpSBoL3BgR\na5FqC2Zm1sUG7VOIiOnAC5Lmq6k8ZmbWQe30KQTwe0nnAC80b4z4WbFSmZlZR7STFMaRJq+t1nJb\nf/srmJnZCNdOR/PedRTEzMw6b8CkIOnwiDgw/7x5RFw5KyeWtBxwCtCY43BcREyWtBjwK2BF0ppK\nu0bEVEljgMmkVVhfAj7qtZbMzOo1WEfzxi0/HzaMc08DDoyI1YH1gM9IWh34KnBVRKwCXJWPIa3E\nukr++gRpxzczM6vRYElhzAA/tyUiHmtc6UfE88BdwLLA9sCU/LApwA755+2BUyKiNyL+BCwiaelZ\njWtmZsM3WJ/CvJJWIyWE1p8BiIg72w0iaUVgTeDPwPiIeCzf9TipeQlSwnio5WkP59seYxA9PT3t\nFqOS5w2X4znenBjL8Ryvr8GSwgLApS3HrT/3Am9tJ4CkBYFzgc9HxL8lNe+LiF5JszWSadKkSf3f\nccbDw3vecNUdbxA9PT0jP94o/X36dzkM3f76CsQbLJEMmBQiYsVZjtSHpLlJCeH0iDgv3/yEpKUj\n4rHcPPSvfPsjwHItT5+QbzMzs5q0tXT2cOTRRCcAd0XEES13XQjslX/eC7ig5faPSBojaT3guZZm\nJjMzq0G723EOxwbAnsBtkm7Jt30d+D/gLEn7AA8Au+b7LiUNR72HNCTV8yPMzGpWLClExPUMPGpp\n034e3wt8plR5zMxsaMWaj8zMbORxUjAzsyYnBTMza3JSMDOzJicFMzNrclIwM7MmJwUzM2sqOXnN\nzPqx7YEXDHjfwXtMqLEkZm/kpDBC+YPFzEpw85GZmTWNyprCYfccD/cc3+99Z+3mDd/MbPQalUnB\nrC83x5klbj4yM7MmJwUzM2tyUjAzsyYnBTMza3JSMDOzJicFMzNr8pBUa4uHbJqNDk4KZmazoNsv\nkNx8ZGZmTU4KZmbW5OYjM+taXuds1rmmYGZmTU4KZmbW5KRgZmZN7lMws0p1+5DNbuekUAN3dpnZ\nSOHmIzMza3JSMDOzJicFMzNrclIwM7M!
 mdzSbDcEDBWw0cVIwG8Wc8OZ8dQ/xdVKwEccfZGbluE/B\nzMyanBTMzKzJzUdmVptub/rrhtc3RyUFSVsAk4GxwPER8X8dLpK1oRveCHMK/y6t0+aYpCBpLHA0\nsDnwMHCjpAsj4s7Olmzk8QeLmQ3XHJMUgHcD90TEvQCSzgS2B5wUzMz6UeICcExvb+/slKkyknYG\ntoiIffPxnsC6EfHZgZ7T09MzZxTezGyEmTRp0pj+bp+TagqzbKAXZWZmwzMnDUl9BFiu5XhCvs3M\nzGoyJ9UUbgRWkbQSKRnsDuzR2SKZmY0uc0xNISKmAZ8FrgDuAs6KiDs6Wyozs9FljuloNjOzzptj\nagpmZtZ5TgpmZtbkpGBmZk1OCgVIGivp9JpijZG03NCPHLkk7d/ObTZnkjRvO7fZnGFOGpJaO0mf\niIjjqj5vREyXtIKkeSLi1arP3ydWr6RLgXeUjNMgaa0hynNzgbB7kRZKbPXRfm6bLZIuAgYceRER\n21Uc77Yh4r2zyngtcTcAbomIFyV9GFgLmBwRD5SIB/wxxxjqtkrkddTG0/L5FhEPFoiz2GD3R8Qz\nVcfMcecFdgJWZObX+J0qzj+qkwJQckb0vcAfJF0IvNi4MSKOKBDrZknrRMSNBc7d1+H5+3zA2sCt\npN/jO4GbgPWrCiTpg6S5Kivl32PDm4ESb7gf5e87Am8BTsvHHwSeKBBvm/z9M/n7qfn7hwrEavVz\nYA1JawAHAscDpwDvrTKIpLcAywLzS1qTGe+3hYAFqozVEnM/4CDS3+v1fHMv6f+zaj353GOA5YGp\n+edFgAeBlQrEBLgAeC7H/0/VJx/VSSEiji14+n/mr7lIH2IlrQt8SNIDpAQ0BugtcaUZERsDSDoP\nWCsibsvHbwcOrjjcDcBjwBLMSEYAzwN/qzgWEXEtgKTDI2LtlrsuknRTgXgP5HibR8SaLXd9VdLN\nwFerj!
 plNyzXM7YGfRsQJkvYpEOf9pBrdBKD1Yuh54OsF4gHsDygini50/qaIWAlA0i+A8yPi0ny8\nJbBDwdATImKLUicfNUmhdJWrr4g4pMR5B/D+GmM1qJEQACLidkmrVRkgf2g+QIW1jza9SdJbW1bs\nXQl4U8F4YyRtEBF/yPHeQ9n+vuclfQ3YE/hvSXMBc1cdJCKmAFMk7RQR51Z9/gE8RLqKrtN6EfHx\nxkFEXCbphwXj3SDpHa3vvyqNmqRA4SpXX5KWBL4M/BepqQWAiNikQLhOzED8m6TjmdHE8iEKXL0D\nSNoROAxYilQLatSEFioRD/gCcI2ke3OsFYBPFooFsA9woqSF8/GzwMcKxtuN1Cz3sYh4XNLywP8r\nGO9iSXtQzwXZvaS/3SW0vM8LNds2PCrpm8z8Xni0YLwNgY9Kuo/0GittGRhNSaFolasfpwO/IrUb\nf4rUWfpkoViXMKNtcz5SW2aQElIpewOfJlXXAX5Paqsu4YfAthFxV6HzzyQiLpe0CrBqvunvEVHs\nQiIiekht/Avn46JXujkRnAuskm96Cji/YMg6L8gezF/z5K86fJDUj3E+6X34+3xbKVsWPPeoSgpF\nq1z9WDy31e6f26qvlVSkIzgiZhp5lEcI/W+JWC0xXwGOzF+lPVFXQgCQtABwALBCRHxc0iqSFBEX\nF4o3HjgUWCYitpS0OrB+RJxQKN7HgU8AiwETSZ3BxwCblohHjRdkNTfbNmI+A+wv6U0R8eKQT5h9\n+5ISzw0l4o2mpFC0ytWP1/L3xyRtTapODjqErSoRcbOkdUucW9JZEbHrQMMpC/0+b5L0K+DXzNwk\ncF6BWAAnka5qG30ZjwBnA0WSAnByjvmNfHw3qZZZJCmQRju9G/gzQET8Q9JShWJBjRdkNTfbNmK+\nhzSCa0Fg+Tyq65MRUerC7F5STeQnkp4HrgN+HxEXVHHy0ZQUila5+vG93BxwIHAUaRjeF0oEknRA\ny+FcpPHfpdo0G81F2wz6qGotBLwE/E/Lbb1AqaQwMSJ2y0NiiY!
 iXJJUcvrxERJyVO3+JiGmSpheM\n95+IeFUSAJLGUbZfqs4LsjqbbRuOJA32uBAgIm6VtFGpYBFxEnBSHvK7K/BFUs2vklGOXZ8UJC0U\nEf8mDYNYpzEVAAAW/ElEQVSrTUtTw3PAxoXDtf4zTCP1MRQZ7RERj+XvpSY69Rdz77piZa9Kmp/8\nQSlpImXbwl+UtHhLvPUoO4LmWklfJ80f2JzU1HhRwXh1XpDV1mzbKiIeaiTZrFhSzwM8VifNxbgO\n2BmobNJo1ycF4AzSVUPrRJOGXuCtVQaTdBSDz1L9XJXx8jkPybEXiIiXqj5/f/IH11HAaqQOvbHA\niyVGBEl6G6kTe3xEvF3SO4HtIuJ7VcfKDgIuB5bLy5VsQBpvX8qBpKvMiZL+ACxJeqOX8lXSiKfb\nSKOqLiU1fxQREQ9I2hBYJSJOyk08CxYK14lm24dyE1KvpLlJtemSfWCLk95vz5ImcT6V96OpRNcn\nhYjYJn8vNbuwr8onOQ1F0vqk9ue62jQBfkraHe9s0szmjwBvKxTrF8CXgGMBIuJvks4AKk8KuZno\n76RZzeuRLiL2j4inqo7VEBE9kt4LKMeLiHhtiKfNjvmBEyPiF9BcFmJ+UhNd5SQdRPofEanvZG7S\n8M0NCoSrrdm2xadIS64sS+p/+g0zZqlXLiI+AJDnBb0fuFrS2IiYUMX5uz4ptMpXmCsy81jpStul\n84Sduv2YGts0GyLinvzPOJ3UxvlX4GsFQi0QEX/pUz2v7MqoVWMtqTyi65ISMfqS1ENK6r+MiKk1\nhLwK2Ax4IR/PT/oge0+heB8A1iQ3cUTEo5KKzPKvudm2oTciSi9N0iRpG+C/gY1IS2r8jtSMVIlR\nkxQknUha/+QOZl4TpdKkoJoXVWs5b21tmtlLkuYBbsmzNx+j3Czcp3K7fqPNfeccr5Q615KCNJls\nb+DGvJzGScBvIqJU5+98EdFI!
 CETEC3kYbimv5mTb+PtVPjtc0pcj4ocDNd+WaLZt8SdJtwAnApcX\n/Ls1bEFKApMjovIBJaMmKZCmoq9eQ5wfDf2QytXdpglpiYSxpH21vwAsR1pGpITPAMcBq0p6BLgP\n+HChWFDjWlKQalzANyR9i9T/dSIwXdJJpDd+1Yv/vShprcgr2kqaBLxccYxWZ0k6Flgkz5H4GKlJ\nsEqN//fam29JzaabkV7XUZLOAk6OiLtLBIuIz+a5LevkOUl/iYh/VXX+UbNHs6QTgMMj4s4aY87D\njHb2Yu3EkpYgtWluRvoA+w2pHbz4omB1yleYc0VE0ZFkklbo7/aSI65y0+bewFbAFaShlRsCe0bE\nuyqOtQ5wJqkTdgxpRdjd8szqIvIop//J8a6IiCtLxeokSRuT+kveRFpB+KsR8ceKY+xCuvi8hvT7\n/G/gSxFxThXnH01J4b2kNvfHqWHymqT3AVOA+3Os5YC9IuL3JeLVLbdrfpe0LtA4Cq5HJGkRUkf2\niszcH1Rpk0Bj+LIGWCe/wBV7I24PaSTJCcC5rUtqSDovInYsEHNuUscvlO/Yro2kK4FdIuLZfLwo\ncGZEFFs0Mg8n/jCp9vwE6e94IfAu4OyqB7lIuhXYvFE7yKO5fhsRa1Rx/tHUfHQC6Y92GzP6FEo6\nHPifiAhoDqv8JTCp6kD5n+LjvPFDs+Siaj8mjdC5rYY21EuBP1H+b1fr8OUWu0RekbWvKhOCpE0i\n4ndKCwy2epukygdd5Nm2g/WvlVjQcMlGQsgxphaerQ1pw6BTgR0i4uGW22+SdEyBeHP1aS56mgr7\n80ZTUngyIi4c+mGVmbuREAAi4u58dVbCBaSOp99SvoO54SHg9hoSAqSO0QOGftjs6cDw5YanJR1B\nGk0CcC3wnah+Ybz3kkaqbNvPfZUPuoiINwNI+i5pYMCppET7IWDpKmO1mC5p+cg7reWmwNL/o8od\n6QtKWrBPJ/5hBeJdLukK0kUmpIEKl1Z18tHUfPQz0vCti6hh/Zw82ul1Zl5Od2yJq3dJt!
 1Td7txG\nzHVIzUfXUniJYklfIA2fvLhPrFLNOVdFxKZD3VZhvHOB20nNjZBqtGuUaDbK8RrDiGsh6da+TRv9\n3VZRrC1IgxKuZUZ7+yci4oqqY7XEfDsp4S2WYz5Jaiq+vWDMnZgxz+O6iKhsldvRVFOYn/SBUtf6\nOZ8mjZpptHtfB/ysUKyLJW0Veeenmnyf9EE9H+WXKH6VtN7/N5hx1VdiNvp8pG0il8ht0a3bRy5b\nZaw+JkZE68itQ/IQx1Luk3Q5aY2g39VQ23tR0odIndu9pMXciqwmGmnZ87VIEw8BPl9y4mF2HHBA\nRFwNzf7E4yg374NImxYVWcpm1CSFqH/9nHGk4YRHQHPW6LyFYu0PfF3Sq6QP0NKb0EBa5vntBc/f\n6kBg5Rre3J8EPg8sw8xryfybNIO7lJclbRgR1wNI2oCyQ0RXJfWdfAY4QdLFpM7Y6wvF24M0Om4y\nKSn8Id9WGUmrRsTfc0KAGQtCLp+bkypbG6gfb2okBICIuKbEXIwGFd50quuTwkCTWRoKTmqpbdZo\no+22ZpdK+p+I+E0Nse6h0BIMrSJiMjBZ0n4RcVTpeC0+Tdq2cmHSG/wZCq61FGl9rLNI8wcWJX1Y\nX0uad1Ii3v3A9iXO3eIA0kqhh/dzXy9QbOls4N48x+TUfPxh0vLWpRTddKrrkwIzJrNsQFpZ8Ff5\neBeg5JyF2maN5vV6PgSsFBHflbQcsHRE/KVEvOzTwBdrqp28SJo5fTUz9ymUSugnKm2vuHxEfEJp\nF7Zim+xExC2kndcWysf/LhGnVR6ivRtpduxNpCWYS8U6if5nGVfWvxYRn8jf61raotXHgEOY0RR9\nHWW3Uy266VTXJ4XIaxFJ+jSwYeTVBPNQscrWC+lHnbNGf0bq1N6E1Pn7AnA0sE6heHXXTn6dv+py\nImlYaqNWV2STHc28D0br7UC5fYUl3Q/8lVRb+FKU3y2!
 s9fc2H2ktpGJ7GOfZ/Ssy8/DsU0rFi7Re\nVcllNPoquulU1yeFFouSOgwbI1YWzLeV8nngbEkzzRotFGvdiFhLaUG6xtjsop2/ddZOImKK0v4G\ny7cO8y2ork12am/2y31bJ0bEd+qKmTtFW8vwS6BI/4WkU0lbjN7CjOHZvUDlSUEdWueMwptOjaak\n8H/AX3MTxBjSmPCDSwWLiBslrUo9s0Zfy2/2xoJjS1J+gl5ttRNJ25Km9c8DrCTpXaRx/KXedLVs\nshOd2U94ep6NXltS6McqpE7SEtYGVq9p/kwn1jkDOLDvcGxJlc2tGTVJIdLmHleQxoDfBVxGwSps\njvkacLuk4xptnoX8BDgfWErS90kbtHyzYDyot3ZyMGlP4WtyrFskFZldnGsEx1DjJjv5tUwmDaPs\nJc2Q/cJAs5wr8AdJPyX1rzWbjkqN0OlnZvPjwFdKxCLN93gLZVfRBSDSzm5Ac52zVUmvMyLi1YKh\nL5K0ZaPvSWlfhbOBSkYDjpqkIGlf0tDNCaSq5XqkN1/JUQkNa5c8eUScntfP2ZRUC9qhZEdUVmft\n5LWIeE4zLw1eJFaemfol4H3UtMkOaXmNo0lt7ZA2L/olabXWEhoTHVtrC8VG6NTc/7QEcKekvzBz\ne3upWiVKO7wdA/yT9P+ykqRPRsRlhUIeSkoMW5NaIk4hNeVWYtQkBVJCWAf4U0RsnJt2Dq0pdmXL\n2vaVP5jviIhVSTuG1aXO2skdkvYAxuaRQJ8DbigUC9IchbdGRC2b7JA2ETq15fi0nJiKqHuETs0z\nxA8ucM6hHA5sHGkJ9EZz4yWk1ojKRcQlecmc35D6pT4QFS7TPZqSwisR8YokJM2bJ7po6KfNHqV9\nk7codf7cRhyt673UoebayX6k2cz/IV1BX0Hqxyil1v0UgMskfZUZM353I80DWQyqX85DaS3+Q0kT\nELeUtDqwfkScUHGc2meItzbp1Oj5RkLI7gUqX969nzlXC5NqJ59VWtCwkhFQoykpPKy0BPOvgSsl\nTQVKro//Ht!
 Jm6HXsm7wo6Wr6L8zcRlyyyjwRuC8ijs7T+jeX9Fi0rFBZlTzZ6hv5qw7FllkeQGOO\nwCf73L47ZVZnPZm0u1vj93k3qX+h0qTAzDPEe8jJlfSBWWRyYOnZvgO4SdKlpCG+vaQ5UDfmslS5\nvlrfDYSK7H8xapJC5M2ugYPzCKSFSZ2JpRxJffsmf6vQeQdzLrC2pJWBY0mv8wzSJjGVGmDo33Ok\nN8mxEfFKlfGi4GY6A8Sre1XWJSLiLElfy/GnSap8gbyWGeLfBn4caa+KbwFrkfrzSig623cA85H2\nUXhvPn6StILBtlQ4VDRq2v991CSFVnVVMaOmfZMj4lpJbyGN0OkFboyIx0vEavF6/jDZEfhpRBzV\nGIlUwL3Aksy8VPDzpF3tfkEaUTZi5X6hrXnjhKsik9dIEysXZ8YggfVISbaUnSPiO5I2JHVm/wj4\nOWU60ovO9u1P1LyumtLaWAfzxg2uKqlRjsqkUJPa9k3OI6u+TVorfwxpn9jvRMSJJeJlr+XJXR9h\nxvr8pfaLeE9EtM5/uEjSjRGxjqQ7CsWs00XAK9S3AdQBpJrdREl/ICXcnQvGa1wMbQ38IneUfq/K\nAJqxcVDR2b4DxF6J1O+1IjMn9VLNtyeQ9kXvocCFppNCOZ8ijT1flrRMwm9Iq1KW8CVgzch7Muer\nwBtIyzWUsjfpNX4/Iu7Lb4xTh3jOcC2omTdOWZ7UVwNp3aWRbkLBTuz+TAS2JG0RuxPpir3kZ8Ej\nko4FNgcOkzQvFe4UlrVuHFRstu8Afk36oL6IepL6cwWHuzoplJLHtVc2dngITzPzaIfn823FRMSd\ntKz3EhH3kTr4SjgQuF5Scxw48L9KyxPX0s5a2GWqb8VZgG9FxNl5RNDGlG3OgdSRvgXwo4h4VtLS\npAuZytTdhNPHKxHxkxrjXS3p/5ESXWttqJLJh6Nm57W6qYaVIVtinQK8g7QtZy!
 9pmeK/5a9Su6Hd\nR/+vr9RM43lJM0ZzmGo7lztJ0gdIO/TNBbxG4REzkv4aEWtK+gFpj+0zGreViFcnSVNIkw2fzceL\nAoeXeN+1xNyDtHTHbyjwId1PvMbeDY33X+P/pZLJh64plFPnypD/zF8NF+TvJWeSts7Sno80DG+x\ngvFWIc3enI+0zHTRlS9rdgSwPukDuo6rtDqaczrlna3DovPyK6WT3TtIgx02YUbzUck9HK7p57bK\n/m+cFAqpc2XIxsJqeaJc8c1ocsy+zVM/zpPZvl11LEkHkZadWJ20QfmWpN9ltySFh4Dba0oIUENz\nTgfNJWnRSMtZkycAlv6c24U0A76u/q0XWn6ej7SLXmWDWJwU6lNsZUhJ65M6uuqYKNeIuVbL4Vyk\nmkOp/6edgTWAv0bE3nlG7mmFYnXCvcA1ki5j5uaHIkNS84XDeS3Hj1HDAnI1ORz4o6Sz8/EupP3E\nS7odWISCy9m0ioiZdpeT9CPSLP9KOCkU0rIyZGMWZ8mVIX9MfRPlGlr/MacB91Nu966XI+J1SdOU\ndif7F2nkTLe4L3/Nk79smCLiFEk3MaPpZsc8KKKkRYC/S7qRmhbh62MB0kKflXBSKKTmlSFrmyjX\nEq/ORdVuykuU/II0NvsFys2IrV0nmv+63GLAi5GWy19S0kp5dFwpBxU89xtIuo0ZfQhjSfNMKtsf\nw0mhYn2aVd6g0IiE2ibKNShtMn8QabMiSBu/fyciKp8Z29IMdoyky4GFIuJvVcfplE40/3Wr3P+0\nNmlQwkmkCZWnkfbEKCKvKLACsEpE/FZpL/axpeKR+hAappFmcU+r6uROCtVrbVZp7ThsNCOVGJFQ\n50S5hhNJbamNJqM9SW/CHQd8xmyQtCwzpvUjaaOI+H2JWB3Qiea/bvUBYE3S8udExKOSitbaJX0c\n+ASphjKR9D48hrSCcOVKr83lpFCxRrOK0naO/wtsSEoG15EmCFUqr5uzZ0TUNVGuYWJE7NRyfIik\nW0oEknQYab2jO5l5391uSQq1N/91s!
 VcjbZTUWNfpTTXE/Axp3bE/A0TEPySV2m60OCeFcqYA/yZt\nRgOwB2kIZaWdsXk/hT1Iq7LW6WVJG0bE9dBcpOvlQrF2ABQRle+TPIeovfmvi52V52Askq/gP0bq\niyrpPxHxaiOpSxpHhfMG6uakUM7bI2L1luOrJZUaBXG9atxzN/s0MCX3LQBMBfYqFOteUttwtyaF\nTjT/daslgXNIF2QizZvZrHDMayV9HZhf0uakFoKLCscsxkmhnJslrRcRfwKQtC5v3CSjKrXuuZvd\nRVq7fiJpSN5zpCv6Eh3ALwG3SLqKmYf8VbLTVKfVvE5Wt9s8Ir4CXNm4QdLhlBsODvBVYB/SKref\nJE2wPL5gvKKcFCrWMlxsbuAGSQ/m4xUot4fyPhFxb59yFFmDqMUFwLOkDr1HCse6MH91PUk3R8Sg\nI9jsjSR9mnSF/lZJrRcmbwb+UDJ2RLxOaqIq3UxVCyeF6m0z9EMqdw5pN6tWZwOTCsacEAX3nm5V\n145Tc4gxQz/E+nEGcBnwA9KVe8PzUfEe132V3vSmbk4KFatzK0dJqwL/BSzcsskIpI3R5ysc/gZJ\n74iI2wrHQdIqpDf76rS8rpH6pmuQNG8/neeXdKQwI1yeH/Mc8MEOhC+66U3dnBRGNpFqJosw8yYj\nzwMfLxJwRvPYOGBvSfeS2vkbV0clNos5iTRR7kjS+v970x2rev4RWEvSqRGxJ0BEfLPDZbJZV3TT\nm7o5KYxgEXEBcIGk9SOirmUfOtE8Nn9EXCVpTK6JHVxqRdaazZOHE7+nT00PKLuFpFWq6KY3dXNS\n6A735CFxKzLzHrGVbyxSZ/NYi/9Imgv4h6TPkjq2FxziOSPBp0ijjvrW9KD8FpJWncaOdY0+vJKr\nFxTnpNAdLiDNmP4tXdCm2Y/9SStBfg74LqkJ6SMdLVEF8sS/6yXdFBEndLo8NmzX9HObJ69ZRy2Q\nx2Z!
 3q17gVNLojrnzbb8A6tzsvnItTUZT3Xw0ohXd9KZuTgrd4WJJW0XEpZ0uSCGnk3YGu40Z2x12\ng75NRq3cfDRClN70pm5OCt1hf+Brkl6lho3fO+DJiOi6yWsRsXeny2BFVLrpTd2cFLrDwqQOy5Ui\n4juSlgeW7nCZqnSQpOOBvstcdMWVdN5e9FBgmYjYUtLqwPruZxgZSm96Uzcnhe5wNKlZZRPSP+Pz\nwLnAOp0sVIX2BlYl9Sc0mo+6qXnlZNJcjG/k47tJixs6KYwMRTe9qZuTQndYNyLWkvRXgIiYKqmb\n9vpdJyI09MNGrCUi4ixJXwOIiGmSunEUWVfq0DDtYrphVqjBa3mzncbGIkvSXR2yN+QmlW71oqTF\nmfH3W4+0ZINZ7VxT6A4/Ac4HlpL0fWBnoJuWS1iPtHT2fZRfUqMTDiCtAjtR0h9IbdI7d7ZINlo5\nKXSBiDg9L/uwKekDc4eIGLHjpPtRy2qsHTQR2BJYDtiJNEPW703riDG9vSN24p1ZV5D0t4h4p6QN\nSTO2fwR8OyLWHeKpZpVzn4JZ5zU6lbcGfhERlwDdNFDARhAnBbPOeyRvNr8bcKmkefF70zrE/3hm\nnbcraVmE90fEs8BipGU9zGrnPgUzM2tyTcHMzJqcFMzMrMlJwWyYJN0v6e1DPKZXUjfsEmejhJOC\nmZk1edak2WyStDJwLGl5imnA1yPi8paHfEnS9sD8+b5zO1BMs7a4pmA2+04HzshrMX0YOC0vStgw\nPSLeBWwHHCdpqU4U0qwdTgpms2cM8C7SfghExJ3ALaRF/BpOyPcFcHOf+8zmKE4KZmbW5KRgNnt6\nSTWDvQAkrQasAfyp5TF75/tWAdbsc5/ZHMUdzWbDNw54hbQ/9rGSvkDqaN4zIp5sfVzeFW8B4JMR\n8a/6i2rWHi9zYTYMkpYG/g68JSJe7nR5zKri5iOzWSTpc8DVwBedEKzbuKZgZmZNrimYmVmTk4KZ\nmTU5KZiZWZOTgpmZNTkpmJlZk5OCmZk1/X9yXWT7UivQQQAA!
 AABJRU5ErkJggg==\n",
      "text/plain": [
       "<matplotlib.figure.Figure at 0x7ffb69358710>"
      ]
     },
     "metadata": {},
     "output_type": "display_data"
    }
   ],
   "source": [
    "%matplotlib inline\n",
    "pd.crosstab(dataset.job,dataset.y).plot(kind='bar')\n",
    "plt.title('Purchase Frequency for Job Title')\n",
    "plt.xlabel('Job')\n",
    "plt.ylabel('Frequency of Purchase')\n",
    "plt.savefig('purchase_fre_job')"
   ]
  },
  {
   "cell_type": "markdown",
   "metadata": {},
   "source": [
    "Yukaridaki tablonun yuzdeler cinsinden olmasi lazim."
   ]
  },
  {
   "cell_type": "code",
   "execution_count": 20,
   "metadata": {
    "collapsed": false
   },
   "outputs": [
    {
     "data": {
      "image/png": "iVBORw0KGgoAAAANSUhEUgAAAYIAAAE6CAYAAAAbY1WRAAAABHNCSVQICAgIfAhkiAAAAAlwSFlz\nAAALEgAACxIB0t1+/AAAIABJREFUeJzt3XmYHFW5x/FvyAJJIInsQsIm4QcB2cLigiyKEnZcLpui\nLOp1QfECKu4IoqC44BVRAVlEQOQqQQmLgAiyCATZEnwBA0KCshPCTsjcP87ppNPM9NTMdHelp3+f\n55lnpqqrq96q6a63zlJ1hnR1dWFmZp1rqbIDMDOzcjkRmJl1OCcCM7MO50RgZtbhnAjMzDqcE4GZ\nWYdzIiiJpDMlfatB6+qStG4j1tUMkq6R9NGy46iQtIqkayXNk/T9Fm97hqTt+/ne7SXNbnBI1osl\n/fvVCMPKDmBJI2kb4LvAhsBrwD3A5yLiFkkHAh+NiG1KDLFPJF0DvAWYT9qfO4BPR8RdDdzGCODL\nwAeB1YDHgauBYyLiwUZtp2p7ZwKzI+Kr/VzFx4EngDER8bobafL6PwLsFRFTq+b/EPgccFBEnNmf\nDUfEhlXrOxpYNyI+1J911ZK0J/BNYB3gFeBO4JCIeKCv28rJ6pyIGN+I2Botx3c18ALQBTwCHB8R\nZ5QZV7tyiaCKpDHAH4H/BZYHVid9sV4uM64GODQiliXt0zXAr/qzEkk9XThcCOwB7A+MBTYBpgPv\n6s92eolhaANWsyYws7skUOVe4MNV2x0G7A38sz8brHPsGiJfsZ4NHEH6H6wNnExK/oPVI/lzPQb4\nInCqpEl9XUmz/zftoOMPQI31ACLivDz9InAFgKQNgJ8BwyU9B8yPiHGSdgW+BbwJmAucHhFHV1ZY\nVcKYBMwDvlZ7NSlpOeBi4C7gMGAEcBzpxLM08HvgfyLixbz854HDSVdCha+KI+I1SecDR1Vteyvg\nJGCDvL//BxweEa/k17uAQ0lXwsNIJ5jq2!
 HcE3g2sFxEP59lzSSehamtKuh7YGLgR2D8insjr+C3w\nDmAkqcTyyYiYkV87M8e1JrAd8D+kkkeXpM8Bf46I3Wv3VdLb8n6tRzqpHxYRN+T1Vb9/r4i4spvD\n9QfgAElviIingSmkK+zlqrbxJuBUUuLrAi4nlbaeya8/CJyStydJo4H7gY/mY/llYIikvYB/RsQm\nkg4CvgCMJ5WsToiIn3cTX61NgQci4qo8PY/0v0TSlL5sK8d5KbB0/qyTj+O3qSqJ1ZYaJH0R+Czp\nxPwI8KmqeCrHbGtgKrB6RLyW570X+GZEbJw/jz/N23sR+HVEHF5vx3NCv0jS08AkSStTU5rJ/4uP\nRsSVuXS0EfAS6QLmcElnkJLJIcDKpM/MXlWf6R0lXQqsBPyadHHVVeAz0O0xkbRUPvYfA8YBVwGf\niIin6u1rs7hEsLh7gdcknSVpZ0lvqLwQEfcAnwBujIhlI2Jcful50pXjOGBX4JP5y4akNUlfqP8l\nfYA2BW6v3qCkFUgfgusj4rP5Q3086YuwKbAuqWTy9bz8FOBI0sl3IrBj0Z3LVTgfBG6qmv0a6eS6\nIvBW0lX8p2reuhewNSmZ1doRuLnqC9OT/YGDSF+yEXkfKi4l7cvKwG2kL1rte48jnYTPzq9/N/8f\nuksCywOXAD8GVgB+AFwiaYWIOLDm/d0lAUgnianAvnn6w3nb1YYA3yFVh20ATACOrllmP9LnYlxE\nzK/MjIjLSCfW3+Q4NskvPQbsRjpxHAT8UNLmPcRY7TZgfUk/lLSDpGX7u62IeB7YmXzFnX8eqbdx\nSSJdMGwZEcsBOwEP1i4XEX8jfWfeWTV7f+Dc/PdJwEkRMYZ0cXVBbzsuaamcTMaRLqaK2JNUkh1H\n+jwcTvpf7UI6HgeTqp0qdgO2JF3I7J33D+p8Bno5Jp8hfa+2y+99mtdfPLWMSwRVIuLZfAX/RVKW\nX1XSNOB!
 jEfFoD++5pmryTknnkf65F5E+4FdWlTCezD8VqwF/Ac6KiO8BSBpCqsPeuHJ1IOnbpC/K\nl0gfwjMi4u782tGkD3A9P5Z0IumK+yXgfVXxT69a7kFJP8/x/6hq/nfqXKmsAPy7l+2TY743x3wB\n6UqsEsMvK3/n/Xla0tiImJtnT42I6/PfL6XvV127AvdFRKUK7DxJnwV2B84sEGvF2cD3qv6nHwE+\nXRX3/aQrfIDHJf0A+EbNOn5cIEkuFBGXVE3+RdIVpNLSbb28b1a+Qj+cdPJcLpf+Do2I53p4T7+2\n1YPXSKXXSZIe76Vt6DzSZ/ZPuTS8C4suDF4F1pW0Yi4x3tTDOgBWk/QMsAB4CDggIkLSGwvEe2NE\nXJT/fjF3ZvhCRESed0fN8sfnq/xnJP2ZdJF2WS+fgXrH5BOk/81sWPi5f0jSAdUXDK3iRFAjX/kf\nCCBpfeAc0kmx25NtLuoeTypqjiD943+bX55A/TrlXYHnSFVOFSsBo4DpVSe8IUClbnw1Uv17xb96\n3ys+GxGn5eLo24GLJW0XEXdKWo90xbxF3u6wmvUD1DuRPUmuUuvFf6r+fgFYFhbW+R8H/Bdp3xfk\nZVYkVTH1tv3urMbrj8u/SCWrwiLir5JWAr4C/DEiXqxOQpJWIV3BvoNUWlmKdGVXrU+xS9qZdCJZ\nL69vFAWvciPiJtKFApK2BH6TY/9So7fVzbbvz1VtRwMbSrqcVMXYXUniXOAGSZ8kXZTcFhGV/9ch\nwDHAPyQ9QKoy+mMPm31kAI3Ztf+X3r6rPX1+e/wM9HJM1gR+L2lB1XpfA1YB5vRzn/rNVUN1RMQ/\nSFeQG+VZ3TUunkuq358QEWNJJ/Uh+bWHScXbnpwKXAZMy/WykHqzvAhsGBHj8s/Y3CgG6ep7QtU6\n1ujD/iyIiOtIVzDvybNPAf4BTMzF8S9XxV9Rr1H1SmArSf39Qu5PKqbvSGrkXCvPr46hdvu9PTK3\n8kWrtgb9+4KdQ2qAra0WglTd0gW8OR+7D9G3Y7fYa5KWJtXrnwis!
 kqsfp3Wzzl5FxC3A7+jhs1tg\nW93F/TwpWVSsWrPNcyP1qFszv/+EHmKbSUrMO7N4tRARcV9E7EeqJjwBuLDqu1HUYnHmi42Vapap\n3b/evqs9qfsZqHNMHgZ2rvqOj4uIZSKi5UkAnAgWI2l9SUdUTmqSJpBKApXi6aPA+FzXXrEc8FRE\nvJQbuvaveu3XpEamvSUNk7SCpE1rNnsoEMAfJI2MiAWkBPHD3OiFpNUlVeokLwAOlDRJ0iheXxXR\n2z6+lVTXP6Mq/meB53IJ6JN9WV+uY/8T6epmct7P5SR9QtLBBVaxHKlX1pOkL++3C7znUVIXyZ5M\nA9aTtH+OZx/SPvd0ZVnPj0ntMdd289pypBLdXEmrA5/v47ofBdbKJTVYVKJ8HJifr9jf09Obq0na\nRtLHqj4z65Oq36o/u33Z1qPACpLGVs27HdhF0vKSViV1IKhsX5LemRPMS6SLmeqr3VrnkjpGbMui\nEjSSPiRppfw9eCbPrree7twLLCNpV0nDSR0qlu7lPacBx0qaKGmIpI1z+11vevwM9HJMfgYcp9SO\niKSVlLr/lsKJYHHzSI2if5P0POlLdDfpihBSv+UZwH8kPZHnfQo4RtI8UoPuwsatiHiIVP95BPAU\n6YtUaairLNNFahOYDUyVtAypjeJ+4CZJz5KuupWXv5RUVXV1XubqAvv1E0nPKfUA+RXw1bweSHWz\n++d9P5VUndBXHyCdfH9Dqs65m1TV1FNDbLWzSVeHc4CZ1K8TrjidVO/6jKSLal+MiCdJjXtHkBLM\nF4Ddcp1zn0TEUxFxVXTf1fSbwOakfb6EdAXeF5UT4JOSbouIeaQeJheQqhf2J5U2i3iGdOK/K/+f\nLyP1Nvtuf7aVS8PnAbPycV6N9Nm5g9TgeQWLf1aWJlWRPkGqRlmZHqqkskq7y9U1/5cpwIy8DycB\n+0buLVdUblv6FOnkPodUQujtRr!
 wfkI7FFaQLo9NJbWq9qfcZqHdMTiId7yvyueMm0rmnFEM8MI2Z\nWWdzicDMrMM5EZiZdTgnAjOzDudEYGbW4ZwIzMw6XNvdWTx9+nR3czIz64fJkyd3e3Ni2yUCgMmT\nJ5cdQq+mT5/eFnG2Cx/PxvGxbKx2OZ7Tp9c+OWYRVw2ZmXU4JwIzsw7nRGBm1uGcCMzMOpwTgZlZ\nh2taryFJvyQ9AfKxiNiom9eHkJ7AtwtpoIcDI6I/IyOZmdkANLNEcCbpkbI92Zk0Tu1E0mOYT2li\nLGZm1oOmJYKIuJb0DP6e7AmcHRFdeYi9cQXHGjUzswYq84ay1Vl83NDZeV6vA6HXuzGiP064/7SG\nrm+hBq/3i+t+tKHraxYfz8bxsWwsH8/u+c5iaPg/sVna4e5FwMezkXwsG6uDj+eSemfxHBYfhH08\n/Rtc3MzMBqDMEsHFwKGSzieN1Tk3InqtFjIzs8ZqZvfR84DtgRUlzQa+AQwHiIifkQY734U0APsL\nwEHNisXMzHrWtEQQEfv18noX8Olmbd/MzIrxncVmZh3OicDMrMM5EZiZdTgnAjOzDudEYGbW4ZwI\nzMw6nBOBmVmHcyIwM+twTgRmZh3OicDMrMM5EZiZdTgnAjOzDudEYGbW4dpyhDIzs/548eYpZYdQ\nzD6t3ZwTAf5wmFlncyKwhnNiNWsvbiMwM+twTgRmZh3OicDMrMM5EZiZdTgnAjOzDudEYGbW4dx9\n1GwJ5q641gouEZiZdTgnAjOzDudEYGbW4fqUCCSNkLRqs4IxM7PW6zURSDpf0lhJI4G7gZmSjmx+\naGZm1gpFSgSKiLnArsDVwHjgw02NyszMWqZIIhief28HTIuIF4AFzQvJzMxaqUgimCnpUmB34Kpc\nRWRmZoNEkUTwEeDnwA4R8TywPHBUU6MyM7OWqXtnsaShwPURsXllXkTMAeYUWbmkKcBJwFDgtIg4\nvub1NYCzgHF5maMiYlqf9sDMzAakbokgIl4DnpO0TF9XnJPIycDOwCRgP0mTahb7KnBBRGw!
 G7Av8\ntK/bMTOzgSnyrKEArpV0IfDcwpkRvZ20twLuj4hZkLqhAnsCM6uW6QLG5L/HAo8UjNvMzBqkSCIY\nBswANqia11XgfasDD1dNzwa2rlnmaOAKSZ8BRgM7FlivmZk1UK+JICIOauL29wPOjIjvS3or8CtJ\nG0VE3e6p06dPb2JIS65O3e9m8fFsHB/Lxmr18ew1EUgaBXwJWCciPihpfWD9iLiol7fOASZUTY/n\n9Y3MhwBTACLixtwWsSLwWL0VT548ubew++bc2Y1dX5M0fL+bxcezcXwsG6uDj2e95FKk++gppJvK\nNs3Ts4FvFHjfLcBESWtLGkFqDL64ZpmHgHcBSNoAWAZ4vMC6zcysQYokgo0j4ijgFYCIeK7I+yJi\nPnAocDlwD6l30AxJx0jaIy92BPAxSXcA5wEHRkSR9gczM2uQIo3FL1dP5OqbQk8tzfcETKuZ9/Wq\nv2cCby+yLjMza44iJ/RrJX0ZWFrS9sAFwNSmRmVmZi1TJBF8BRgCzAO+C9xM6vZpZmaDQJHuo68C\nx+UfMzMbZIp0Hx1J6u+/bvXyEfGFJsZlZmYtUqSx+Hek8QemU9NwbGZm7a9IIlgjIjZseiRmZlaK\nIo3Fd0t6Y9MjMTOzUhQpEXwT+Juk24GXKjMjYu+mRWVmZi1TJBGcTXo0xG3Aa80Nx8zMWq1IIhgR\nEYc2PRIzMytFkTaCmyS9uemRmJlZKYqUCLYCbpUULN5GsFXTojIzs5YpkggOa3oUZmZWmiKPmPgL\ngKTRefr5ZgdlZmat02sbgaR1JN0EPAk8IekGSes0PzQzM2uFIo3FPwd+AYwERgGn5nlmZjYIFGkj\nWCkiflk1fYYktxuYmQ0SRUoECySpMiFpPXxjmZnZoFGkRPBl4Lr8iAmATYADmheSmZm1UpFeQ5dJ\n2hDYOs+6KSKeaG5YZmbWKkUGpvlRRHwO+GM388zMrM0Va!
 SPYtpt52zU6EDMzK0ePJQJJ/wXsDawl\n6YKql8YCLzQ7MDMza416VUP3ApeQnjV0SdX8Z4GrmhmUmZm1To+JICLuAO6QdHFEPNXCmMzMrIWK\ndB/9iqRjgOeBPwObA/8dEec0NTIzM2uJIo3FO0bEXGAnYA6wHnBkU6MyM7OWKZIIKrYFfhcRc4Cu\nJsVjZmYtViQRPCbpFGAf4E+ShgFDmxuWmZm1SpFEsD8QwL4R8TQwHvhBU6MyM7OWKfKIiceBH1VN\nPwic2byQzMyslYo8YuJxumkTiIiVmxKRmZm1VJHuo1tU/b0M8EHg1SIrlzQFOInUpnBaRBzfzTJ7\nA0eTks0dEbF/kXWbmVljFKka+lfNrK/noSuPrfc+SUOBk4F3A7OBW/LNaTOrlpkIfAl4e0Q8Lcml\nDDOzFutL91EgjWEMFDlhbwXcHxGzIuIV4Hxgz5plPgacnBuhiYjH+hqPmZkNTF/bCJYChgNFhqpc\nHXi4ano2i8Y0qFgvb+N6UvXR0RFxWYF1m5lZg/S1jWA+8J+IaNRQlcOAicD2pG6p10p6c0Q8U+9N\n06dPb9Dm20un7nez+Hg2jo9lY7X6eNZ7DPWGwBsj4sqa+TtKeqS6rr8Hc4AJVdPj87xqs4G/RcSr\nwAOS7iUlhlvqrXjy5Mm9bLqPzp3d2PU1ScP3u1l8PBvHx7KxOvh41ksu9doIvgN0V2f/KPC63j/d\nuAWYKGltSSOAfYGLa5a5iFQaQNKKpKqiWQXWbWZmDVIvEawaEXfWzoyIu4C1e1txRMwHDgUuB+4B\nLoiIGZKOkbRHXuxy4ElJM0lPNv18RDzZ150wM7P+q9dGMLbOa8OLrDwipgHTauZ9vervLuDw/GNm\nZiWoVyJ4XNJmtTPzPA9UY2Y2SNQrERwLTM2D0tyc520FfA3472YHZmZmrdFjiSAiLgc+CnwEuDH/\nfBj4uPv6m5kNHnXvI4iIK4ArWhSLmZmVoM+PmDAzs8HFicDMrMP1mAgkjW5lIGZmVo56JYJrAST9\nqkWxmJlZCeo1!
 Fo+SNBmYLGkDYEj1iwWeNWRmZm2gXiL4MfAr4E3U3B1Meiz1Os0KyszMWqfHRBAR\npwCnSDo/IvZtYUxmZtZCRYaq3FfSMECLZsX85oZlZmat0mv30dxO8E/SI6MvAu7L88zMbBAoch/B\nj4GDI2JiREwEDsnzzMxsECiSCEZHxFWViYi4GvA9BmZmg0SRRPCCpO0rE5K2A15oWkRmZtZSRQav\nPwy4UNLLeXoE8P7mhWRmZq1UpNfQLZLWZfFeQ682NywzM2uVIiUC8on/7ibHYmZmJfDTR83MOpwT\ngZlZh3MiMDPrcL22EUhaGfgM6eFzC5ePiL2bGJeZmbVIkcbi/wPuAa4EXmtuOGZm1mpFEsEbIuLj\nTY/EzMxKUaSN4G5JqzU9EjMzK0WhEgFwl6TrgZcqM91GYGY2OBRJBOfmHzMzG4SKPGLirFYEYmZm\n5SjSfXRF4CfAu/KsPwGHRcTjzQzMzMxao0hj8c+Be4FNgc2A+/I8MzMbBIq0EbwpIqofO/0NSbc3\nKyAzM2utIiWCpfLdxcDCO439aAozs0GiSIngRODvki7J07sARxVZuaQpwEnAUOC0iDi+h+XeD1wI\nbBkRtxZZt5mZNUavV/YRcTawE3Bn/tkpIs7p7X2ShgInAzsDk4D9JE3qZrnlSKOg/a1voZuZWSMU\nHZjmbvo+MM1WwP0RMQtA0vnAnsDMmuWOBU4APt/H9ZuZWQP0mAgk/SoiDpB0C9BV+3pEbNXLulcH\nHq6ang1sXbONzYEJEXGJJCcCM7MS1CsR/Cj/PrIZG5a0FPAD4MC+vnf69OkNj6cddOp+N4uPZ+P4\nWDZWq49nj4kgIiqRTKhtE5D0oQLrngNMqJoen+dVLAdsBFwjCWBV4GJJe/TWYDx58uQCm++Dc2c3\ndn1N0vD9bhYfz8bxsWysDj6e9ZJLkTaCw4HaxuHu5tW6BZgoaW1SAtgX2L/yYkTM!
 BVasTEu6BjjS\nvYbMzFqrXhvBFqQ6/RUlfarqpbHAiN5WHBHzJR0KXE7qPvrLiJgh6Rjg1oi4eGChm5lZI9QrEawO\nbAGMBrasmv8sBev1I2IaMK1m3td7WHb7Ius0M7PGqtdGMFXSH4DdfPVuZjZ41b2hLCIWAEe3JhQz\nMytDkWcG3S6pt3sGzMysTRXpNTQZuF7SfcBzlZkFbigzM7M2UCQRfLbpUZiZWWmKDFX5FwBJo/P0\n880OyszMWqfXNgJJ60i6CXgSeELSDZLWaX5oZmbWCkWHqvwFMBIYBZyKh6o0Mxs0irQRrBQRv6ya\nPkPSYc0KyMzMWqtIiWCB8lPhACStB7zWvJDMzKyVipQIvgxclwesHwJsDBzQ1KjMzKxlivQaukzS\nhiwaVOamiHiiuWGZmVmrFKkagm5GKDMzs8GhSPfR9wH/AD5DurlspqS9mh2YmZm1RpE2guOAt0XE\nvQCSJgIXAxc1MzAzM2uNIlVDL1WSAEBE3Ae82LyQzMyslYqUCKZK+gpwOqnX0EHARZJGAkMi4oVm\nBmhmZs1VJBFURhQ7tmb+0aRG5KGNDMjMzFqrSPfRoj2LzMysDRUpESBpBeAtefLGiHiqeSGZmVkr\nFek+uhOp++jn8s89kt7d7MDMzKw1inYf3TYi7gGQtAHwK+BPzQzMzMxao0j9//BKEgDIfw9vXkhm\nZtZKRRLB45IOrExI+gjweNMiMjOzlipSNfTfwK8lnZKnbwc+2LyQzMysleomAklLAaMj4i2SlgWI\niOdaEpmZmbVE3aqhiFgAnJP/fs5JwMxs8CnSRnC/pLWaHYiZmZWjSBvBcsCdkv4KLCwRRMTeTYvK\nzMxapkgiOCf/mJnZINRbY/HywN3AfRHxbGtCMjOzVuqxjUDSPsBsYBrwkKR3tiyqEj0Rl/P0rOsW\nTf/jMp6e9dcSIzIza656jcVfIY1MtgrwXhY9jrowSVMkhaT7JR3VzeuHS5op6U5JV0las6/baLSx\nE7bk2dnTAejqWsC8R25nzPjNSo7KzKx!
 56iWCBRFxO0BE/BkY05cVSxoKnAzsDEwC9pM0qWaxvwNb\nRMTGwIXAd/uyjWYYPmp5ho4YzUtz5/DC4/ex9JjVGTpidNlhmZk1Tb02ghH5AXND8vQy1dMRMbOX\ndW8F3B8RswAknQ/sCSx8X04wFTcBH+pb+M0xdo0tefbhW5n/8jzGTNii7HDMzJqqXiIYRWofqFaZ\n7gLW6WXdqwMPV03PBraus/whwKW9rLMlll11I56IK6BrAaM337/scMzMmqrHRBARa7UqCEkfArYA\ntiuy/PTp05saz5ClhjFqhTex1PCRDBmy5AzQ1uz97jQ+no3jY9lYrT6ehUYo66c5wISq6fF53mIk\n7UhqmN4uIl4usuLJkyc3JMCFzp292GRX1wJeeuYh3rj5ElFTtVDD97tZao7nkqotjqePZWN18PGs\nl1yamQhuASZKWpuUAPYFFqtnkbQZ8HNgSkQ81sRYCnt53qM8cssZLLvqhoxYdqWywzEza7qmJYKI\nmC/pUOByYCjwy4iYIekY4NaIuBj4HrAs8FtJAA9FxB7NiqmIpZdbhbXf+bqermZmg1YzSwRExDRq\nGpwj4utVf+/YzO2bmVnvlpyWUDMzK4UTgZlZh3MiMDPrcE1tIyjL7kdMLWW7zz8WPDZjKnR1MXaN\nrVh+3R1KicPMrC9cImiQrq4FPHb371l9q0NYa/sjeHbO7bw879GywzIz65UTQYO89MzDDB+9IiNG\nr8CQpYYxZvVNeP7RGWWHZWbWKyeCBpn/4lyGLTN24fSwZcby6osey8fMlnxOBGZmHc6JoEGGjRzL\n/JfmLpye/9Jcho/s0xAOZmalcCJokGXGjufV55/g1ReeomvBfJ6dcwejV6kdh8fMbMkzKLuP/uH7\ne/Zp+UZ0Nx2y1FBW2nBPZv/tNOhawJgJW7L0cqsOeL1mZs02KBNBWZZdZQOWXWWDssMwM+sTVw2Z\nmXU4J!
 wIzsw7nRGBm1uGcCMzMOpwTgZlZh3MiMDPrcIOy++jev/lkn5YfuVX911+8eUqv6/jPHRfw\n/KP3MHTpZVlruyP6tH0zszK5RNAgY8ZvwepbH1J2GGZmfeZE0CCjVliHocNHlR2GmVmfORGYmXU4\nJwIzsw7nRGBm1uGcCMzMOtyg7D56wT6n9Gn5RjyG+t+3/ZoXnpzFa688z6wrj2OF9d7N2DV66Zdq\nZrYEGJSJoAxv3PyDZYdgZtYvrhoyM+twTgRmZh3OicDMrMM5EZiZdTgnAjOzDudEYGbW4ZrafVTS\nFOAkYChwWkQcX/P60sDZwGTgSWCfiHiwmTGZmdnimlYikDQUOBnYGZgE7CdpUs1ihwBPR8S6wA+B\nE5oVj5mZda+ZVUNbAfdHxKyIeAU4H9izZpk9gbPy3xcC75I0pIkxmZlZjSFdXV1NWbGkDwBTIuKj\nefoAYOuIOLRqmbvzMrPz9D/zMk/0tN7p06c3J2Azs0Fu8uTJ3V5ot90jJnraETMz659mVg3NASZU\nTY/P87pdRtIwYCyp0djMzFqkmSWCW4CJktYmnfD3BfavWeZi4CPAjcAHgKsjwlU/ZmYt1LQSQUTM\nBw4FLgfuAS6IiBmSjpG0R17sdGAFSfcDhwNHNSseMzPrXtMai83MrD34zmIzsw7nRGBm1uGcCMzM\nOpwTgZlZh2u7G8qWNJLeV+/1iPhdq2IZLCQdXu/1iPhBq2IZTCStCUyMiCsljQSGRcS8suNqR/mB\nme8H1qLqPBoRx5QV00A4EQzc7vn3ysDbgKvz9A7ADYATQd8tl38L2JJ0vwmkY31zKRG1OUkfAz4O\nLA+8iXSD58+Ad5UZVxubCswFpgMvlxzLgDkRDFBEHAQg6QpgUkT8O0+/ETizxNDaVkR8E0DStcDm\nlatWSUcDl5QYWjv7NOlBkH8DiIj7JK1cbkhtbXxETCk7iEZxG0HjTKgkgexRYI2yghkkVgFeqZp+\nJc+zvns5PwUYWPhIF99E1H83SHpz2UE0iksEjXOVpMuB8/L0Ps!
 CVJcYzGJwN3Czp93l6LxY9ttz6\n5i+SvgyMlPRu4FPAH0qOqZ1tAxwo6QFS1dAQoCsiNi43rP7xncUNJOm9wLZ58tqI+H295a13kjYH\n3pEnr40uETkxAAAKiElEQVSIv5cZT7uStBRpIKj3kE5al5NGDfQJoB9yw/vrRMS/Wh1LIzgRNFBN\nr4xRwFD3yhgYSduQjukZklYClo2IB8qOyzqbpGOBa4EbIuL5suMZKFcNNUg3vTJWx70yBkTSN4At\nSL2HzgCGA+cAby8zrnYi6S7qtAW0a1XGEmAWsB/wY0nzgOtIJdap5YbVP04EjeNeGY33XmAz4DaA\niHhE0nL132I1dis7gMEoIs4AzpC0KrA3cCTpQrAtP59OBI3zckS8Iglwr4wGeSUiuiR1AUgaXXZA\n7aZd66yXdJJOAyaRegdeRxpP5bZSgxoAJ4LGca+MxrtA0s+Bcbnq7WDg1JJjaku5+qL2wmQucCtw\nRETMan1UbW0FYCjwDPAU8EQeg6UtubG4QdwrozlyUl14TCPiTyWH1JZy4+Zs4FzSsdyX1JZ1G/DJ\niNi+vOjal6QNgJ2A/yF1Dhlfckj94hJB44wEfhkRpwJIGprnvVBqVG0un/h98h+4PSJik6rpX0i6\nPSK+mEuy1geSdiN1a94WGEd6tMx1pQY1AE4EjXMVsCPwXJ4eCVxBev6Q9YGkv0bENt1UZ1Ru2hlT\nUmjt7AVJewMX5ukPAC/lv11q7bsppBP/SRHxSNnBDJSrhhokX11t2ts8szJIWgc4CXgr6cR/E6k6\nYw4wOSL+WmJ4bUnSKqSHIgLcHBGPlRnPQDgRNIik64HPRMRteXoy8JOIeGu5kbWnXLU2IyLWLzsW\ns1qS/gs4EbiGVFJ9B/D5iLiw3vuWVK4aapzDgN9KeoT0wViV9Lwh64eIeE1SSFojIh4qO552l+/K\n/hivf37+wWXF1Oa+CmxZKQXk!
 43sli6re2ooTQQPkHkMjgPVJd8ECRES8Wl5Ug8IbgBmSbgYW3sYf\nEXuUF1Lbmkqq074SeK3kWAaDpWqqgp6kjZ/m7ETQABGxQNLJEbEZcHfZ8QwiXys7gEFkVER8sewg\nBpHLunna8LQS4xkQtxE0iKQTgRuB3/negYHLbQRXRsQOZccyGEj6FukBaW17slrSSHo/i557dV07\nP23YiaBBclfH0aRi94u4q+OASboKeF9EzC07lnZX9fl8GXgVfz6tihOBLbEkTSU9dO5PLN5G8NnS\ngjIDJL0POIE0VvkQ2jyxuo2ggSTtwaKBaa6JiD+WGc8g8Lv8Y/0kaf2I+Ece4Od1Kt2drc++C+we\nEfeUHUgjOBE0iKTjSTeX/DrPOkzS2yPiSyWG1dYiwsNSDtzhpMcjf79qXnU1wDtbG86g8ehgSQLg\nRNBIuwCbRsQCAElnAX8HnAj6SdJE4Dukx/0uU5kfEeuUFlSbiYiP5z9PAS6LiGclfQ3YHDi2vMja\n3q2SfgNcRGp3ASAi2rIE27b9XpdQ46r+HltaFIPHGaQT2HxgB9Jg9ueUGlH7+mpOAtuQSgGnkY6t\n9c8Y0gMl3wPsnn/adhAglwga5zvA3yX9mdRwtC1wVLkhtb2REXGVpCF5gJWjJU0Hvl52YG2ochPZ\nrsCpEXFJ7lJq/XNERDxVPUPS2mUFM1AuETRIRJwHvIXUuPl/wFsj4jflRtX2Xs53bd8n6VBJ7wWW\nLTuoNjUnD/KzDzBN0tL4+z8Qf5C0sIdQHpegbQeicomgQST9gTTox8UR8Xxvy1shhwGjgM+S6rN3\nAD5cakTta2/So5NPjIhnJL0R+HzJMbWzb5OSwa6kx8qcDXyw3JD6z/cRNIik7UhXW7sCtwDnA3+M\niJfqvtF6JGkL4CvAmsDwPLsrIjYuLyqzRNJewBdIA9a/PyLuLTmkfnMiaLD8aIR3kp70OKVdbzBZ\nEkgK0lXrXcCCynwPyG5lkfS/LN799l3AP4EHoX1vdnTVUANJGknqPbAPqXue+8EPzOMRc!
 XHZQZhV\nubVmenopUTSYSwQNIukCYCvgMuA3wF8q9xRY/0h6F7AfaRjQtu+rbbakcomgcU4H9osIP+u9cQ4i\njfEwnEVVQ134sRNWMklvB44mtV8NY9GzhtryZkcnggGS9M6IuJr0ZMc9JS32uq9eB2TLiFDvi5m1\n3OmkMZ+nMwgG+nEiGLhtgatJbQNd5CuDqt9OBP13g6RJETGz7EDMasyNiEvLDqJRnAgGbp6kw0kj\nk1USACzes8D65y3A7ZIeILURVIrf7j5qZfuzpO+RLvSq26/a8mmuTgQDV7nTVaSnj04lnbB2B24u\nK6hBYkrZAZj1YOv8e3L+XakBaMunuToRDFBEfBNA0rXA5hExL08fDVxSYmhtz/cL2BLsmm7mtW0t\ngBNB46wCvFI1/UqeZ2aDz3NVfy9DevJo245P4ETQOGcDN0uqDGC9F3BmeeGYWbNERPVAP0g6Ebi8\npHAGzE8fbJCIOI7U7/3p/HNQRHyn3KjMrEVGAePLDqK/XCJooNxjoC17DZhZcZLuYlGbwFBgJeCY\n8iIaGCcCM7O+qx6NbD5pDOP5ZQUzUH7WkJlZh3MbgZlZh3MiMDPrcE4E1pYkPSjp33kgoMq8AyV1\nSTq0H+tbTdKfq6aPljSiD7Fs1M38IZKOkTRD0h2SZubHkSBpLUkfL7j+cZK+UHRfzPrKicDa2SPA\nTlXTB9KPXluShkXEIxGxQ9XsbwCFEkEdHyA9cmByRGwCbEYarwJgLaBQIgDGkYZENGsK9xqydnYm\n6eQ/TdI6pEeB31V5MQ9s8y3SnZ/DgOMi4vz82jXA7aQH2z0l6VPArRGxoqST8ypukLQA2B7YBTiM\nRcnhyIi4qpf4xgNPkB9KFhEvA5UnqZ4MrC3pduD+iPhAvilpu7yNJ4CD82M2TgbG5WVfiIi3SXoQ\n2C0i7s778yCpJ8tM4CekBPQy8FxEvL2XOK3DuURg7ew!
 a4M2S3gB8hHR3d7XbgG0iYjNgR+DEvGzF\nOvn1XarfFBGfzn++LSI2jYhnSHeNviWva1+KDUN6PrABcJ+kMyR9SFLl4uvTwMy8/g/kecdHxJa5\n9HAecELVss/kZd/WyzY3AXYAJuX17NbL8mZOBNbWuoALSCfmfYFza15fCbhQ0t2kE/nypKfEVpzb\nh77fbwIulzSDNBTpqpJWrfeGiPg3sCHpjvN7ga8Af6zzlp0l3ZTjPRLYtGBs1WaRRnQ7XdIB/Xi/\ndSAnAmt3Z5Hu6Lw7Ip6see0UcqkhIjYFZpOqiSqeo7jzgJ9GxIbA5qSbiJap/xaIiPkRcV1+3Mj2\nwE6Slq9dTtKawA9Jw51uBBzcy/rns/j3d5m8vbmk5HM+sDEwo7eEZeZEYG0tImaRrrSP7eblccCD\nEdEl6d3Aun1Y9TxgbM26Hsh/Hwws3dsKJE2WtFbVrM1Jz6F6Bni2Zv1jSE+s/Y+kpYBPVL32LDCq\nqloJ4H7S+BeVtpBV8t8rAaMi4nLgKGAuqQrMrEduLLa2FxG/6OGlo4CfSvomcAtwZx9W+33gakkv\nkq7kPwdcJOlpUs+f2tJHd1bM2x9Darh9AdgrIhZIuhOIXA30j9xY/FtSY+8TwDTSMKhExFOSfg3c\nJenp3E7wNeAsSZ8hDZX6UN7mBODUnDSGAZcCN/Vhv60D+RETZmYdzlVDZmYdzonAzKzDORGYmXU4\nJwIzsw7nRGBm1uGcCMzMOpwTgZlZh3MiMDPrcP8Ps8jf08gdZFcAAAAASUVORK5CYII=\n",
      "text/plain": [
       "<matplotlib.figure.Figure at 0x7ffb69262898>"
      ]
     },
     "metadata": {},
     "output_type": "display_data"
    }
   ],
   "source": [
    "table=pd.crosstab(dataset.marital,dataset.y)\n",
    "table.div(table.sum(1).astype(float), axis=0).plot(kind='bar', stacked=True)\n",
    "plt.title('Stacked Bar Chart of Marital Status vs Purchase')\n",
    "plt.xlabel('Marital Status')\n",
    "plt.ylabel('Proportion of Customers')\n",
    "plt.savefig('mariral_vs_pur_stack')"
   ]
  },
  {
   "cell_type": "code",
   "execution_count": 21,
   "metadata": {
    "collapsed": false
   },
   "outputs": [
    {
     "data": {
      "image/png": "iVBORw0KGgoAAAANSUhEUgAAAYUAAAEiCAYAAAAWOs4eAAAABHNCSVQICAgIfAhkiAAAAAlwSFlz\nAAALEgAACxIB0t1+/AAAIABJREFUeJzt3XmcHFW99/FPIOxbIGCAJBIkyfeCC8uwKpssj+zhAQLC\nBQLCRb2Yq+ICuLCobD4KN14Vl7AksoMgYRHFSAhyWQfZ8acRg0kIm4Swi0nm+eOc7mmGWWoy01Od\nme/79erXVJ2uqv71mZn+dZ1z6tSglpYWzMzMAJYrOwAzM2scTgpmZlblpGBmZlVOCmZmVuWkYGZm\nVU4KZmZWNbjsAKwxSLoUmBsR3yg7FgNJHwMuBTYAjoyIX5UbUe+RtApwDbAz8NuIGF9iLLOB4yPi\nd2XF0GicFBpc/qMdBiwG3gB+DXwuIl4vMay6aPNeK8ZGxLOlBFSubwE/jIhJvXGwnPSPAP6Zi54B\nbgLOjYiFvfEa3XAI6fc8NCIW1T4haQPgWWD9iHg+l30d+E47ZTtFxF59GvkA4OajZcP+EbE6sBWw\nNdDtb/OSlpUvAPtHxOo1j/ckhGXovfTERsATS7NjJ/Xz3YhYA1gPOBbYHrhb0mpLF+JS2wj4c9uE\nABAR84FZpLOIip2BP7VTNrOeQQ5UA+Gfq9+IiHmSfg18CN576ivpDGB0RBwpaRTwN+B44HRgNrCz\npB2B7wKbAa8B34yIS/NLrC3pFtI/3JPAERHx13zsScBBwFrAX4AvRMRd+bltgR8DY4G3gMsj4qT8\n3PbA+fn1ngE+HxEzuvO+O3kvHR5b0sak5petgHuBAIbkutkVuCwiRtS8RrUuJS0HfBX4D2AIMB34\nTES8XBPLMcC3gVWBCyLirHyc5YGTgeOA9wF/Bg4ETgHejogv1bzmNOCOiLigzfv9K7AxcJOkxcDQ\n/PgJsCPwMnBeRPw8b38G6W/ibeAA4CRgc!
 kf1GRFvAw9IOiDHdyzwQ0mbAD8HNgdagN8AJ0bEK5K+\nAmwfEQfXxPkDoCUiPt/2NSRtClwIbAHMA06NiGmSzgROBQZJOpD0O7uoze4zSX+D1+b63Ar4Zpuy\nHXL9I2kl4CzgUGAl4AbgixHxVn5+P9KZxijS3/VnIuLRDmK+FfhaRFzZUf31dz5TWIZIGgnsA/yx\nG7vtAmwKfELSRqTmp/8hfVvcAni4ZttPAmcCa5O+rZ1V89wDeft1gCtI/5wr5+cmAZMiYk1gE1J7\nMZKGA7eQ/iHXAb4M/FLSet2Iv6P30tWxrwCagXVJHx4TuvE6E0kf5LsAGwILgB+12WZHQMDuwGn5\nAwXSB/LhpN/TmsCngDeBKcDhOeEgaV1gjxznu0TEJsDfaT1r+idwFTA3x3MIcLak3Wp2GwdcR0pi\nlxd5kxHxGnA7sFMuGgSck19jU2AkcEZ+7jJgL0lDcvyDSX8vU9seV9IKpKap35IS40TgckmKiNOB\ns4Gr83trmxCgNSkAbAk8RUrMtWUrAPfn9XNJX0i2AEYDw4HTcixbAhcDnyYl1p8C03IiqY15K1IS\nnDiQEwL4TGFZ8StJi4CFpA/Cs7ux7xkR8QaApCOA39X80f8jPypuiIj787aXk76FAxARl9Vs931J\n3yB9KD4C/AsYLWndiHiJ9M0c4Ejg1oi4Na/fLulB0gfmlC7eK8CMiDiwg/fS4bEl3QFsA+yRP1Bn\nSrqp01p6t8+Q+m3m5tc6A/i7pKNqtjkzfxN9RNIjpG/XT5HOZr4aEZG3eyT//IekhaQkcjvpA3VG\npY28M/nLwMeAffO3/IclTQaOBn6fN7unpjP6rW6812eBJoCImEX6MgDwoqTzSWdmRMR8STOB8aSz\nib2AlyKiuZ1jbg+sTuqvWAL8XtLNpGR5RoGY7gQuzgloJ+CuiPiLpPVqyu6NiHckDQJOAD4SES8D\nSDqblGx!
 Pzc/9NCLuy8eeIulrOcY7c9lOpDO7I7t7FtsfOSksGw7sweiIOTXLI4G/drLtczXLb5L+\nsQGQ9GXSP86GpKaFNUnfwsnl3wL+JOlvpA/Mm0ltx+Ml7V9z3BWAOzqJobP3WvteOjv2hsCCSgLJ\nniG9/yI2Am6QtKSmbDGpc7Sio7rqrI6nkBLl7fln0U7kDYGX8zf7imdI/UsVc1g6w0nNUUgalmPa\nCViD1JKwoGbbKcBnSUnhSOAXncQ7JyeE2niHFwkoImZLmpfj2Jn07R7gf2vKKv0J65Ga8JolVQ4x\nCFg+L28ETJA0seYlVswxVnwGuNMJIXFSWLa9QfqHqFi/nW1qp8GdA2zb3ReRtBOpjX134ImIWCJp\nAemfj4j4C61NIwcB10kaml/vFxHxH919zQ60fS/tHjs3k60tabWaxPD+mv3fVW+5jbq2SWsO8KmI\nuLudY4/qIsY5pCa0x9t57jLgcUmbk5pnig4zfRZYR9IaNYnh/aS2+opuT3csaXVSE1almfDsfJwP\n5/6TA4Ef1uzyK+BCSR8C9iP9TXQU70hJy9UkhveT+i+KqjQh7UBr099duWzHmrheIp0ZfTAi5rU9\nCOn3cValz6cDnwFOlnRBRHyxGzH2S+5TWLY9DHxS0gqStia1NXfmcmAPSYdKGixpqKQtCrzOGsAi\n4EVgsKTTSGcKQGrKkbRe/gB4JRcvIX0I7i/pE5KWl7SypF0ljWj7Akuhw2NHxDPAg8CZklbMneu1\nZxR/BlaWtG9u//4GqYOy4ifAWTm5kJstxhWMazLwbUljJA2S9JGcIMnNUQ+QvmH/stIR2pWImEP6\nlnxOfp8fIZ2dXdb5nu2TtJKkJtKH/ALgkvzUGsDrwMLcZ/OVNnG8Teq3uAK4PyL+3sFL3Ec6e/pq\n/tvclVT/V3UjzJmk5rFnI+LVXPaHXLYWcE+OaQnpzOUCSe/L72+4pE/kfX4OfEbSdvn3sVr+va9R\n81qvkZrDdpZ0bjdi7JecFJZt3yR9K11A6iB+T6dlrfxPvA/wJVKT!
 wcOktvCu/Aa4jfRh+gxplEtt\nc8VewBOSXic1P3wyIt7KH2bjgK+REsoc0gdNj//uChz7CGA70vs8nZoO0Twu/z9JH+DzSGcOc2sO\nPwmYBvxW0mukPpLtCoZ2Pqmj/bfAq8BFwCo1z08BPkzHTS8dOZw0euZZ0uia05eiSfGr+f38g1Qf\nzcBHa86mziSN9Kn0XV3fzjG6jD8i3iElgb1J3+R/DBwdEX/qRqx3kjqp/1BT9jCpLpsj4s2a8pNJ\nfSH3SnoV+B2pv4uIeJA0iuyHpP+TWaSRY21jfgXYE9hb0re7EWe/M8g32bGBQDXDdUuOY2fSN/yN\nImKZ++eT9H7SNQPr13yDt37EZwpmfSQ3VX0emLyMJoTlSENur3JC6L/c0WzWB/J1DA+ShqgeW3I4\n3aZ01fPzpOZDTy3Rj9W1+UjSF0njtluAx0j/DBuQOpyGkto0j8rjjVcitXM2kdo8D4uI2XULzszM\n3qNuzUd59MJ/AVtHxIdI44Y/CZxHmhZgNKnj57i8y3GkseWjgQvydmZm1ofq3Xw0GFhF0r9I48Ln\nA7uRRoZAGslwBmmOlHG0Xu14HWkulkGdtb02Nzcvc+2yZmaNoKmpaVB75XU7U8gXknyPNIfLfNIw\nt2bglZrZEefSepXjcPIwx/z8QlITk5mZ9ZG6nSlIWpv07X9j0gVN11KHDqqmpqbePmS3NTc3N0Qc\njcB1kbgeWrkuWjVKXTQ3tzdlVVLPIal7AH+LiBcj4l+kC2E+BgxR63zvI2i9VH8eeW6a/PxavHuy\nNjMzq7N6JoW/A9tLWjXPZLg7aS7zO2idjmECcGNenkbrHCeHAL9fFsdym5kty+rZp3AfqcP4IdJw\n1OWAn5EuST9J0ixSn0FlPvWLgKG5/CTSTUnMzKwP1XX0Ub6hxultip+mnZk682Rbpd3A28zMPM2F\nmZnVcFIwM7MqJwUzM6tyUjAzsy!
 rPkmrWjv2/dGPXG3XijCN64+ZyZn3PZwpmZiWaNGkSl156aXX9\nggsuYMqUKaXF4zMFq+rpt2PwN2Sz7jr44IOZOHEixxxzDEuWLOGWW27h2muvLS0eJwUzsxKNGDGC\nIUOG8OSTT/LSSy+x2Wabsfbaa5cWj5OCmXXK/Sv1N378eK6//npeeuklDj744FJjcZ+CmVnJ9thj\nD+666y4ee+wxdtxxx1Jj8ZmCmVnJVlxxRbbbbjvWXHNNll9++VJj8ZmCmVnJlixZwiOPPMIhhxzS\n9cZ15qRgZlaiWbNmseeee7LDDjswatSossNx85GZWZlGjx7N9OnTyw6jymcKZmZW5aRgZmZVTgpm\nZlblpGBmZlV162iWJODqmqIPAKcBU3P5KGA2cGhELJA0CJgE7AO8CRwTEQ/VKz4zs+7qjfnBuGJu\noc1u+v64LreZOXMmZ511FkuWLGH8+PGccMIJPY2ufmcKkWwREVsATaQP+huAU4DpETEGmJ7XAfYG\nxuTHCcCF9YrNzGxZt3jxYr71rW8xefJkbrnlFm6++WZmzZrV4+P2VfPR7sBfI+IZYBxQmRd2CnBg\nXh4HTI2Iloi4FxgiaYM+is/MbJny6KOPstFGGzFy5EhWXHFF9t13314Z2tpX1yl8ErgyLw+LiPl5\n+TlgWF4eDsyp2WduLptPJ5qbm3sxzKXXKHE0AtdF4npo5brovq7q7L777mPw4MHV7d566y1mzZrV\n47que1KQtCJwAHBq2+ciokVSS0+O39TU1JPde0Vzc3NDxNFjBds6u+K6SPpFPYDrolYv/Y8U0VWd\nvfjii8ybN6+63Zw5c3j11VcL1XVniaMvmo/2Bh6KiOfz+vOVZqH884VcPg8YWbPfiFxmZmZtDBs2\njOeee666/vzzzzNs2LBO9iimL5LC4bQ2HQFMAybk5QnAjTXlR0saJGl7YGFNM5OZmdX48Ic/zOzZ\ns5kzZw7vvPMOt9xyC7vttluPj1vX5iNJqwF7Ap+uKT4XuEbSccAzwKG5/FbScNRZpJFKx9Y!
 ztgrf\ngtLM+soZR4zotaa0wYMHc9ppp3H88cezePFiDj74YMaMGdPz4/ZCbB2KiDeAoW3K/kEajdR22xbg\nxHrGY2bWn+yyyy7ssssuvXpMX9FsZmZVTgpmZlblpGBmZlVOCmZmVuWkYGZmVU4KZmZW5Xs0m5n1\nglW2va3Lbc6bBcyaXOh41xzW9UTRp556KjNmzGDo0KHcfPPNhY7bFZ8pmJktow466CAmTy6WZIpy\nUjAzW0Zts802rLXWWr16TCcFMzOrclIwM7MqJwUzM6tyUjAzsyoPSTUz6wVv3b9Xl9v05tTZACed\ndBL3338/CxYsYOedd2bixImMHz++R8fsMilIGgNcAgyPiI0lbQUcEBFn9OiVzcysR84///xeP2aR\n5qMLge8AC/P6w0DPUpGZmTWkIklhrYi4DWgBiIglwDt1jcrMzEpRJCkslrQCOSlIGg4sqWtUZmZW\niiIdzT8GbgDWlXQGcDTw9SIHlzQEmAx8iJRUPgUEcDUwCpgNHBoRCyQNAiaR7tP8JnBMRDzUjfdi\nZmY91OWZQkRMBc4FrgRWBSZExJUFjz8JuC0i/g3YHHgKOAWYHhFjgOl5HWBvYEx+nEDqyzAzsz5U\n6DqFiPhDRJwMfAP4S5F9JK0F7AxclI/xTkS8AowDpuTNpgAH5uVxwNSIaImIe4EhkjYo/E7MzKzH\nigxJvQr4NKlz+RFSM9LZEfG9LnbdGHgRuETS5kAz8HlgWETMz9s8BwzLy8OBOTX7z81l8+lEc3Nz\nV2+hTzRKHI3AdZG4Hlq5Llo1el0U6VNQRCyUdAjwe+Ak4F6gq6QwGNgKmBgR90maRGtTEQAR0SKp\nZSnirurxhSBXzO3Z/r0VRyNwXbTqhbroF/UArota/aQuOktMRZqPVsg/dwFujYg3KTb6aC4wNyLu\ny+vXkZLE85Vmofzzhfz8PGBkzf4jcpmZmfWRIknhSUm/B!
 vYHpktapciBI+I5YI4k5aLdgSeBacCE\nXDYBuDEvTwOOljRI0vbAwppmJjMz6wNFmo8mAJ8AHomIN/J1Cqd0sU/FROBySSsCTwPHkhLRNZKO\nA54BDs3b3koajjqLNCT12MLvwszMekWXSSEi3gJ+VbM+j4LNOhHxMLB1O0/t3s62LcCJRY5rZmb1\nUWT00ebAT0jXGaxUKY+I5esYl5mZlaDoFc3fAM4H9iJ9m3+tnkGZmVk5inQ0rxwR04HlImJ+RHwD\nOKTOcZmZWQmKnCksyj9fzk1Jc4F16xeSmZmVpUhSuFrSUOAc4A/A8sBpdY3KzMxKUWT0UeXWPrdJ\nWofUnOQ+BTOzfqjQPZolbQJsUtleEhFxaz0DMzOzvldkSOo5wPGkaa8X5+IW0sVmZmbWjxQ5UxgP\nbBIRr9Y7GDMzK1eRIanznRDMzAaGDs8UJO2TF++RdCVwLfB25Xn3KZiZ9T+dNR99pc36xJpl9ymY\nmfVDHSaFiPh4XwZiZmbl67JPQdJRktauWV9H0r/XNywzMytDkY7mL0fEgspKRLwMfLl+IZmZWVmK\nJIX2eNpsM7N+qEhSeE7SQZUVSQfTel9lMzPrR4pcvPYF4FeSvpvXFwHj6heSmZmVpUhSeBbYDFBe\nj4hY3Mn2VZJmk27IsxhYFBFb50n1rgZGAbOBQyNigaRBwCTSfZrfBI6JiIcKvxMzM+uxTpNC/qC+\nJyI2A55cytf4eES8VLN+CjA9Is6VdEpePxnYGxiTH9sBF+afZmbWRzrtU4iIFmBO7ZDUXjAOmJKX\npwAH1pRPjYiWiLgXGCJpg158XTMz60KR5qOFwB8l3Qq8XimMiK8W2LcF+K2kFuCnEfEzYFhEzM/P\nPwcMy8vDgTk1+87NZfPpRHNzc4Ew6q9R4mgErovE9dDKddGq0euiSFJ4Ij+Wxo4RMU/S+4DbJf2p\n9smIaMkJY6k1NTX1ZHe4Ym7P9u+tOBqB66JVL9RFv6gHcF3U6id10VliKnLntTOX9oUjYl7++YKk\nG4BtgeclbRAR!
 83PzUGV46zxgZM3uI3KZmZn1kSI32flue+VdNR9JWg1YLiJey8v/B/gWMA2YAJyb\nf96Yd5kGfE7SVaQO5oU1zUxmZtYHijQfvVGzvDKwH/Bggf2GATdIqrzOFRFxm6QHgGskHQc8Axya\nt7+VNBx1FmlI6rGF3oGZmfWabjcfSTobuK7Afk8Dm7dT/g9g93bKW4ATuzqumZnVz9LMffQ68P7e\nDsTMzMrX3T6F5YAm4Km6RWRmZqXpbp/CIuAnwPX1CcfMzMrU1TQX6wA3A3+JiFf7JiQzMytLh30K\nkg4jXVV8K/B3Sbv1WVRmZlaKzjqavw58NCKGAf8XOK1vQjIzs7J0lhSWRMTDABFxB7Bm34RkZmZl\n6axPYUVJmwKD8vrKtesRsbRTaZuZWYPqLCmsSupPqFVZbwE+UJeIzMysNB0mhYgY1YdxmJlZA1ia\nK5rNzKyfclIwM7MqJwUzM6vq7OK17+ef4/suHDMzK1NnZwqV6a1P7YtAzMysfJ0NSZ0n6TFgY0n3\nt30yIratX1hmZlaGzpLCgcBWwGXAV/omHDMzK1Nn1yn8C7hP0r4R8ec+jMnMzEpS5H4KcyWdA+yR\n128HvhMRbxZ5AUnLk+7pPC8i9pO0MXAVMBRoBo6KiHckrQRMJd3E5x/AYRExu1vvxszMeqTIkNT/\nATYEvpAfGwA/7MZrfJ5336ntPOCCiBgNLACOy+XHAQty+QV5OzMz60NFksI2ETEhIu6OiLuBTwFb\nFzm4pBHAvsDkvD4I2A24Lm8yhdR3ATAur5Of3z1vb2ZmfaRI89EgSatFROW2nKvSOnNqV/4b+Cqw\nRl4fCrwSEYvy+lxgeF4eDswBiIhFkhbm7V/q7AWam5sLhlJfjRJHI3BdJK6HVq6LVo1eF0WSwmXA\nPZKuyuuHkdr+OyVpP+CFiGiWtOvSh9i5pqamnh3girmNEUcjcF206oW66Bf1AK6L!
 Wv2kLjpLTF02\nH0XEeaRv++vkx8kR8f8KvO7HgAMkzSZ1LO8GTAKGSKokoxHAvLw8DxgJkJ9fi9ThbGZmfaTImQIR\ncRtwW3cOHBGnkq+GzmcKX46If5d0LXAIKVFMAG7Mu0zL6/fk538fES3deU0zM+uZMibEOxk4SdIs\nUp/BRbn8ImBoLj8JOKWE2MzMBrRCZwo9FREzgBl5+WngPVNkRMTbgCffMzMrkafONjOzqi7PFCTd\nRrpY7Ra38ZuZ9W9FzhR+RrqS+a+STpY0tM4xmZlZSYoMSb0+IvYA9iFdYPaEpKmSyh9sa2Zmvao7\nfQqVpqN3gLeBqZW7s5mZWf9QpE/hYOBEYH1S38JmEfF6vsBsFvCl+oZoZmZ9pciQ1GOB8yLiN7WF\neX6iifUJy8zMylAkKezf0aijiLipl+MxM7MSFelTuEvS2pUVSetImlnHmMzMrCRFksLqEbGgshIR\nL9M6FbaZmfUjRZLCcpJWraxIWh1YoX4hmZlZWYr0KVwJ3C7pwrz+WdI9FszMrJ/pMilExDmSngUO\nyEU/jYgub7JjZmbLnqL3U5hC6/2Tzcysnypy8dr7gInAJrXbR8ShdYzLzMxKUORM4ZfAU8DvgMX1\nDcfMzMpUJCmsHREn1D0SMzMrXZEhqY9L2rDukZiZWekKnSkAj0m6mzQ7KtB1n4KklYGZwEr5da6L\niNMlbQxcRbo/czNwVES8I2klYCrQBPwDOCwiZnf/LZmZ2dIqcqZwBXASqW/hlppHV/4J7BYRmwNb\nAHtJ2h44D7ggIkYDC4Dj8vbHAQty+QV5OzMz60NFrlNYqqGoeRK91/PqCvnRAuwGHJHLpwBnABcC\n4/IywHXADyUN8i1Azcz6TpEhqWOAS4DhEbGxpK2AAyLijAL7Lk9qIhoN/Aj4K/BKRCzKm8wl3c2N\n/HMOVKflXkhqYnqps9dobm7uKow+0ShxNALXReJ6aOW6aNXodVGkT+FC4DvAuXn9YeAXtH6r71BE\nLAa2kDQEuAH4t6ULs2NNTT28K+gVcxs!
 jjkbgumjVC3XRL+oBXBe1+klddJaYivQprBURt5FvxxkR\nS0i35CwsIl4B7gB2AIbku7YBjADm5eV5wEiA/PxapA5nMzPrI0WSwmJJlf4AJA0HlnS1k6T18hkC\nklYB9iRdBHcHcEjebAJwY16eltfJz//e/QlmZn2rSFL4ManpZ11JZwB3Ad8rsN8GwB2SHgUeAG6P\niJuBk4GTJM0i9RlclLe/CBiay08CTunOGzEzs54rMvpoqqSngf2BVYEJEXFXgf0eBbZsp/xpYNt2\nyt8GxhcJ2szM6qPoLKl/AP5Q51jMzKxkRYakPkDuT6gVEe/5tm9mZsu2ImcKX65ZXhk4HHi2PuGY\nmVmZivQp3Fm7Lum3uCnJzKxfKjL6qK01gfV7OxAzMytfd/sUlgM+AHy/nkGZmVk5utunsAh4OiLm\n1ykeMzMrUbf7FMzMrP8q0nz0Iu0MSQUGAS0R8b5ej8rMzEpRdJbUocDPSIngOOBl4OI6xmVmZiUo\nkhT2iYita9YnSnogIk6vV1BmZlaOQlNnS1q3spKX16pfSGZmVpYiZwr/DTwi6ea8vg9wdv1CMjOz\nsnR5phARPwL2Bh7Pj30i4sJ6B2ZmZn2v0CypwGxgcEQ8VMdYzMysZF2eKUjaB3gCuD6vby3ppnoH\nZmZmfa9IR/OZwDbAAoCIeBDYpJ5BmZlZOQpNiBcRz7Up+mcdYjEzs5IV6VN4TdIw8lXNknYFXulq\nJ0kjgalAZd+fRcQkSesAVwOjSH0Vh0bEAkmDgEmk0U1vAse4D8PMrG8VOVM4Ffg1sLGkGcDlvHuS\nvI4sAr4UEZsB2wMnStoMOAWYHhFjgOl5HdIIpzH5cQLpSmozM+tDRYak3gd8HDgC+C7wwYhoLrDf\n/Mo3/Yh4DXgKGA6MA6bkzaYAB+blccDUiGiJiHuBIZI26Ob7MTOzHui0+UjS8sADEbEV6WxhqUga\nBWwJ3!
 AcMq5l6+zlS8xKkhDGnZre5uczTdJuZ9ZFOk0JELJb0uqSVI+LtpXkBSasDvwS+EBGvSqo9\nfouk9mZgLay5ucuTlj7RKHE0AtdF4npo5bpo1eh1UaSjOYCZkq4DXq8WRvy4qx0lrUBKCJdHxPW5\n+HlJG0TE/Nw89EIunweMrNl9RC7rVFNTU4G30Ikr5vZs/96KoxG4Llr1Ql30i3oA10WtflIXnSWm\nIklhMOnitU1ryrr8dp9HE10EPBUR59c8NQ2YAJybf95YU/45SVcB2wELfYc3M7O+VeTOa8cu5bE/\nBhwFPCbp4Vz2NVIyuEbSccAzwKH5uVtJw1FnkYakLu3rmpnZUuowKUj6fkR8KS/vGRG3d+fAEfEH\n0k152rN7O9u3ACd25zXMzKx3dTYk9eM1y+fVOxAzMytfZ0lhUAfLZmbWT3XWp7CSpE1JCaF2GYCI\neLLewZmZWd/qLCmsSur8rahdbgE+UJeIzMysNB0mhYgY1YdxmJlZAyg0dbaZmQ0MTgpmZlblpGBm\nZlVOCmZmVuWkYGZmVU4KZmZW5aRgZmZVTgpmZlblpGBmZlVOCmZmVuWkYGZmVU4KZmZW5aRgZmZV\nTgpmZlbV2f0UekTSxcB+wAsR8aFctg5wNTAKmA0cGhELJA0CJgH7AG8Cx0TEQ/WKzczM2lfPM4VL\ngb3alJ0CTI+IMcD0vA6wNzAmP04ALqxjXGZm1oG6JYWImAm83KZ4HDAlL08BDqwpnxoRLRFxLzBE\n0gb1is3MzNpXt+ajDgyLiPl5+TlgWF4eDsyp2W5uLptPF5qbm3s1wKXVKHGU7bxZk2HW5KXe/+TR\nx/diNOXy30Qr10WrRq+Lvk4KVRHRIqmlp8dpamrq2QGumNvTEHonjkbQS3XREw1Tjz2si/N6kBgr\nrjmsQVpRe+HvomF+rz3VT+qis8TU10nheUkbRMT83Dz0Qi6fB4ys2W5ELjOzZVxPzx6hgRLkANDX\nQ1KnARPy8gTgxpryoyUNkrQ9sLCmmcnMzPpIPYekXgnsCqwraS!
 5wOnAucI2k44BngEPz5reShqPO\nIg1JPbZecdVDT78J+VuQ2cCwLJw11S0pRMThHTy1ezvbtgAn1isWMzMrxlc0m5lZlZOCmZlVOSmY\nmVmVk4L195QIAAAJBElEQVSZmVU5KZiZWZWTgpmZVTkpmJlZlZOCmZlVOSmYmVmVk4KZmVU5KZiZ\nWZWTgpmZVTkpmJlZlZOCmZlVOSmYmVmVk4KZmVU5KZiZWZWTgpmZVdXtdpxLQ9JewCRgeWByRJxb\nckhmZgNKw5wpSFoe+BGwN7AZcLikzcqNysxsYGmYpABsC8yKiKcj4h3gKmBcyTGZmQ0og1paWsqO\nAQBJhwB7RcTxef0oYLuI+FxH+zQ3NzdG8GZmy5impqZB7ZU3VJ9Cd3X0pszMbOk0UvPRPGBkzfqI\nXGZmZn2kkc4UHgDGSNqYlAw+CRxRbkhmZgNLw5wpRMQi4HPAb4CngGsi4olyozIzG1gapqPZzMzK\n1zBnCmZmVj4nBTMzq3JSMDOzKicFMzOraqQhqQ1P0n9HxBck3QS8p4c+Ig4oIazS5XmrhlHz9xQR\nfy8vonJIuoP2/y52KyGcUkkaBpwNbBgRe+d5zHaIiItKDq3PdPQ5UdGonxdOCt3zi/zze6VG0UAk\nTQROB54HluTiFuAjpQVVni/XLK8MHAwsKimWsl0KXAJ8Pa//GbgaGDBJgdbPiYOA9YHL8vrhpP+X\nxtTS0uJHNx5jx45dfuzYsZeXHUejPMaOHTtr7NixQ8uOo1EfY8eOvb/sGEp63w/kn3+sKXu47LhK\nqosHi5Q1ysNnCt0UEYslbSRpxTyb60A3B1hYdhCNQNI6NavLAU3AWiWFU7Y3JA0lN59I2p6B+3ey\nmqQPRMTTAHnWhtVKjqlDTgpL52ngbknTgDcqhRFxfnkhleZpYIakW4B/VgoHaF00kz4EB5Gajf4G\nHFdqROU5CZgGbCLpbmA94JBy!
 QyrNF0n/I0+T/jY2Aj5dbkgdc1LoBkm/iIijgAOAC0jfBtcoN6rS\n/T0/VsyPASsiNi47hkYREQ9J2gUQ6YMwIuJfJYdVioi4TdIY4N9y0Z8i4p+d7VMmT3PRDZKeBPYA\nbgN2bft8RLzc1zE1CkmrA0TE62XHUiZJHwVG8e6RWFNLC6gkko5ur3yA1sWqpDOnjSLiP3KCUETc\nXHJo7fKZQvf8BJgObAw8WFM+iNRs8IEygiqTpA+RRmWtk9dfAo4eiJMZSvoFsAnwMLA4F7cAA+6D\nENimZnllYHfgIQZmXVxCalrcIa/PA64FnBSWdRHxA+AHki6MiM+WHU+D+BlwUkTcASBpV+DnwEfL\nDKokWwObRcSAP/2OiIm165KGkG6xOxBtEhGHSTocICLelNSwNwjzFc1LwQnhXVarJASAiJhBA4+s\nqLPHSePR7b3eYACeSWfvSFqF1pFYm1AzKKPR+EzBeuppSd+k9cK+I0kjkgaMmitX1wCelHQ/7x6J\n1ZBXrtZTHplXsRywGXBNSeGU7XRSP+RISZcDHwOOKTWiTjgpWE99CjgT+GVevws4trxwSvE9Ur/S\necCBNeWVsoFofeAreXkRaYTa58oLp1QTgFuA60hfmD4fES+VG1LHnBSspzYh3Vt7OdLf0+7Abgyg\naS4i4k4ASStUlitys8FANLidutgbOLmkeMp0EbATsCfp/+WPkmZGxKRyw2qfk4L11OWkOX8ep3Xu\nowFF0meB/wQ+IOnRmqfWAO4uJ6pyuC7eKyLukDSTNCLr48BngA8CTgrWL70YETeVHUTJrgB+DZwD\nnFJT/toAvHbFddGGpOmkwRf3kJpXt4mIF8qNqmO+eM16RNLupFkfp/PuztXrSwvKrIFIuoA0D9Y/\nSWdLM4F7IuKtUgPrgM8UrKeOJV2+vwLvnjrbScEMiIgvAkhagzTq6BJSR/xKJYbVIScF66ltIkJl\nB2HWqCR9jtTR3ATMBi4mNSM1JCcF66n/lbRZRDxZdiBmDWpl4HygOSIa/qZL7lOwHpH0F!
 GmY3d9I\nbaaDgJaIGDBDUs36E58pWE/tVXYAZtZ7fKZgZmZVnhDPzMyqnBTMzKzKfQrWr0iaDbxN6vReDXgC\nOC8i/rePXv9A0tW8bwOfjIjI5asCC4D3R8TzuexB4G8RMT6vbw3cEBEje/D6s4H9IuLxnrwPG7h8\npmD90SERsXlEjAamALdK2q6PXvvTwGkRsWUlIUC6sQpwP/k2rpLWBFYFPlyz767AjD6K06xdPlOw\nfi0irpe0LWnSvvF5Wo7vkMaODwbOioirJG0DXBIRH6rsK+kR4LNtzzIkjQZ+CqxHmhb6a/nm7BeQ\nLlKSpP+MiI+3CWcG6YP/amBH0nQHwyV9MN++dFfyleA5aZxPmm12ZeAO0h3uFkvaAPgf4P3AKsCV\nEXF22/cu6UvAPsBBEbGw+7VnA5HPFGwguI80KyWk+wTvGBFbAnsA35O0dkQ8ALwuaRcASTsBSzpo\ndrocuCJfi3EkcJmk9fJ0Bg8C/9VOQoD0wb5rXt4VuJOUGHaVtDwpUczIz58P3BkR2wJbAO8j3bsC\n0n2Of5CfawL2lrRnzessJ+kHwFbA3k4I1h1OCjYQ1N4Pdz3gOkmPA78B1gEq03T8gDTtM8CJwI/a\nHijPX7MFaf4a8pXcDwPbF4jjHmBjScOAXUgJ4E5SgtgSWBgRlbvWHQB8RdLDpETWBIyVtFre/gf5\nufuBDYFNa17n4vzzyIh4p0BcZlVuPrKBYBvS/R4ALgSmkZpUWiT9mdQ8A3AtcI6kLUnz3n/qPUfq\ngYh4S9J9wH7A6hExX9KLpG/0u/Lu/oRBwIE1SQKoJqUW0pxT/+rgpWbm460HNOwUzdaYfKZg/Zqk\nccBnge/noiHA7JwQ9gRGV7bNH7IXk5LG5blz+F0i4jXSmcGEfPxNgc2BewuGNIN097G78/EWAX8F\nTiA1L1VMA07JzUpIWlfSxvn176LmXgWSRkpav2bfi/P!
 7nS5pw4JxmQFOCtY/XSfpEUmzgOOAfSLi\nvvzcKaR+hIeBQ4FH2+w7GRhOOqPoyL8DR+Y7i10OHBURLxaM7Q5gDKnZqOLOXDajpuwLwGLgEUmP\nkW78Przm9TeT9Fh+7mpSsquKiMuBM0iJYVTB2Mw8zYVZLUlHAodHxL5lx2JWBvcpmGWSfkOa8fWA\nsmMxK4vPFMzMrMp9CmZmVuWkYGZmVU4KZmZW5aRgZmZVTgpmZlb1/wERD+IqfDwbggAAAABJRU5E\nrkJggg==\n",
      "text/plain": [
       "<matplotlib.figure.Figure at 0x7ffb67188320>"
      ]
     },
     "metadata": {},
     "output_type": "display_data"
    }
   ],
   "source": [
    "pd.crosstab(dataset.day_of_week,dataset.y).plot(kind='bar')\n",
    "plt.title('Purchase Frequency for Day of Week')\n",
    "plt.xlabel('Day of Week')\n",
    "plt.ylabel('Frequency of Purchase')\n",
    "plt.savefig('pur_dayofweek_bar')"
   ]
  },
  {
   "cell_type": "markdown",
   "metadata": {},
   "source": [
    "Yukaridaki tablonun yine yuzdeler cinsinden yazilmasi lazim."
   ]
  },
  {
   "cell_type": "code",
   "execution_count": 22,
   "metadata": {
    "collapsed": true
   },
   "outputs": [],
   "source": [
    "cat_vars=['job','marital','education','default','housing','loan','contact','month','day_of_week','poutcome']\n",
    "for var in cat_vars:\n",
    "    cat_list='var'+'_'+var\n",
    "    cat_list = pd.get_dummies(dataset[var], prefix=var)\n",
    "    data1=dataset.join(cat_list)\n",
    "    data=data1\n",
    "cat_vars=['job','marital','education','default','housing','loan','contact','month','day_of_week','poutcome']\n",
    "data_vars=dataset.columns.values.tolist()\n",
    "to_keep=[i for i in data_vars if i not in cat_vars]\n",
    "data_final=dataset[to_keep]\n",
    "data_final.columns.values\n",
    "data_final_vars=data_final.columns.values.tolist()\n",
    "y=['y']\n",
    "X=[i for i in data_final_vars if i not in y]"
   ]
  },
  {
   "cell_type": "code",
   "execution_count": 23,
   "metadata": {
    "collapsed": false
   },
   "outputs": [
    {
     "name": "stdout",
     "output_type": "stream",
     "text": [
      "[ True  True  True  True  True  True  True  True  True  True]\n",
      "[1 1 1 1 1 1 1 1 1 1]\n"
     ]
    }
   ],
   "source": [
    "from sklearn import datasets\n",
    "from sklearn.feature_selection import RFE\n",
    "from sklearn.linear_model import LogisticRegression\n",
    "\n",
    "logreg = LogisticRegression()\n",
    "\n",
    "rfe = RFE(logreg, 18)\n",
    "rfe = rfe.fit(data_final[X], data_final[y].values.ravel() )\n",
    "print(rfe.support_)\n",
    "print(rfe.ranking_)"
   ]
  },
  {
   "cell_type": "code",
   "execution_count": 24,
   "metadata": {
    "collapsed": false,
    "scrolled": true
   },
   "outputs": [
    {
     "ename": "KeyError",
     "evalue": "\"['job_blue-collar' 'job_retired' 'job_services' 'job_student' 'default_no'\\n 'month_aug' 'month_dec' 'month_jul' 'month_nov' 'month_oct' 'month_sep'\\n 'day_of_week_fri' 'day_of_week_wed' 'poutcome_failure'\\n 'poutcome_nonexistent' 'poutcome_success'] not in index\"",
     "output_type": "error",
     "traceback": [
      "\u001b[0;31m---------------------------------------------------------------------------\u001b[0m",
      "\u001b[0;31mKeyError\u001b[0m                                  Traceback (most recent call last)",
      "\u001b[0;32m<ipython-input-24-b7e335480d5f>\u001b[0m in \u001b[0;36m<module>\u001b[0;34m()\u001b[0m\n\u001b[1;32m      2\u001b[0m       \u001b[0;34m\"month_aug\"\u001b[0m\u001b[0;34m,\u001b[0m \u001b[0;34m\"month_dec\"\u001b[0m\u001b[0;34m,\u001b[0m \u001b[0;34m\"month_jul\"\u001b[0m\u001b[0;34m,\u001b[0m \u001b[0;34m\"month_nov\"\u001b[0m\u001b[0;34m,\u001b[0m \u001b[0;34m\"month_oct\"\u001b[0m\u001b[0;34m,\u001b[0m \u001b[0;34m\"month_sep\"\u001b[0m\u001b[0;34m,\u001b[0m \u001b[0;34m\"day_of_week_fri\"\u001b[0m\u001b[0;34m,\u001b[0m \u001b[0;34m\"day_of_week_wed\"\u001b[0m\u001b[0;34m,\u001b[0m\u001b[0;34m\u001b[0m\u001b[0m\n\u001b[1;32m      3\u001b[0m       \"poutcome_failure\", \"poutcome_nonexistent\", \"poutcome_success\"] \n\u001b[0;32m----> 4\u001b[0;31m \u001b[0mX\u001b[0m\u001b[0;34m=\u001b[0m\u001b[0mdata_final\u001b[0m\u001b[0;34m[\u001b[0m\u001b[0mcols\u001b[0m\u001b[0;34m]\u001b[0m\u001b[0;34m\u001b[0m\u001b[0m\n\u001b[0m\u001b[1;32m      5\u001b[0m \u0!
 01b[0my\u001b[0m\u001b[0;34m=\u001b[0m\u001b[0mdata_final\u001b[0m\u001b[0;34m[\u001b[0m\u001b[0;34m'y'\u001b[0m\u001b[0;34m]\u001b[0m\u001b[0;34m\u001b[0m\u001b[0m\n",
      "\u001b[0;32m/usr/local/lib/python3.5/dist-packages/pandas/core/frame.py\u001b[0m in \u001b[0;36m__getitem__\u001b[0;34m(self, key)\u001b[0m\n\u001b[1;32m   2051\u001b[0m         \u001b[0;32mif\u001b[0m \u001b[0misinstance\u001b[0m\u001b[0;34m(\u001b[0m\u001b[0mkey\u001b[0m\u001b[0;34m,\u001b[0m \u001b[0;34m(\u001b[0m\u001b[0mSeries\u001b[0m\u001b[0;34m,\u001b[0m \u001b[0mnp\u001b[0m\u001b[0;34m.\u001b[0m\u001b[0mndarray\u001b[0m\u001b[0;34m,\u001b[0m \u001b[0mIndex\u001b[0m\u001b[0;34m,\u001b[0m \u001b[0mlist\u001b[0m\u001b[0;34m)\u001b[0m\u001b[0;34m)\u001b[0m\u001b[0;34m:\u001b[0m\u001b[0;34m\u001b[0m\u001b[0m\n\u001b[1;32m   2052\u001b[0m             \u001b[0;31m# either boolean or fancy integer index\u001b[0m\u001b[0;34m\u001b[0m\u001b[0;34m\u001b[0m\u001b[0m\n\u001b[0;32m-> 2053\u001b[0;31m             \u001b[0;32mreturn\u001b[0m \u001b[0mself\u001b[0m\u001b[0;34m.\u001b[0m\u001b[0m_getitem_array\u001b[0m\u001b[0;34m(\u001b[0m\u001b[0mkey\u001b[0m\u001b[0;34m)\u0!
 01b[0m\u001b[0;34m\u001b[0m\u001b[0m\n\u001b[0m\u001b[1;32m   2054\u001b[0m         \u001b[0;32melif\u001b[0m \u001b[0misinstance\u001b[0m\u001b[0;34m(\u001b[0m\u001b[0mkey\u001b[0m\u001b[0;34m,\u001b[0m \u001b[0mDataFrame\u001b[0m\u001b[0;34m)\u001b[0m\u001b[0;34m:\u001b[0m\u001b[0;34m\u001b[0m\u001b[0m\n\u001b[1;32m   2055\u001b[0m             \u001b[0;32mreturn\u001b[0m \u001b[0mself\u001b[0m\u001b[0;34m.\u001b[0m\u001b[0m_getitem_frame\u001b[0m\u001b[0;34m(\u001b[0m\u001b[0mkey\u001b[0m\u001b[0;34m)\u001b[0m\u001b[0;34m\u001b[0m\u001b[0m\n",
      "\u001b[0;32m/usr/local/lib/python3.5/dist-packages/pandas/core/frame.py\u001b[0m in \u001b[0;36m_getitem_array\u001b[0;34m(self, key)\u001b[0m\n\u001b[1;32m   2095\u001b[0m             \u001b[0;32mreturn\u001b[0m \u001b[0mself\u001b[0m\u001b[0;34m.\u001b[0m\u001b[0mtake\u001b[0m\u001b[0;34m(\u001b[0m\u001b[0mindexer\u001b[0m\u001b[0;34m,\u001b[0m \u001b[0maxis\u001b[0m\u001b[0;34m=\u001b[0m\u001b[0;36m0\u001b[0m\u001b[0;34m,\u001b[0m \u001b[0mconvert\u001b[0m\u001b[0;34m=\u001b[0m\u001b[0;32mFalse\u001b[0m\u001b[0;34m)\u001b[0m\u001b[0;34m\u001b[0m\u001b[0m\n\u001b[1;32m   2096\u001b[0m         \u001b[0;32melse\u001b[0m\u001b[0;34m:\u001b[0m\u001b[0;34m\u001b[0m\u001b[0m\n\u001b[0;32m-> 2097\u001b[0;31m             \u001b[0mindexer\u001b[0m \u001b[0;34m=\u001b[0m \u001b[0mself\u001b[0m\u001b[0;34m.\u001b[0m\u001b[0mix\u001b[0m\u001b[0;34m.\u001b[0m\u001b[0m_convert_to_indexer\u001b[0m\u001b[0;34m(\u001b[0m\u001b[0mkey\u001b[0m\u001b[0;34m,\u001b[0m \u001b[0maxis\u001b!
 [0m\u001b[0;34m=\u001b[0m\u001b[0;36m1\u001b[0m\u001b[0;34m)\u001b[0m\u001b[0;34m\u001b[0m\u001b[0m\n\u001b[0m\u001b[1;32m   2098\u001b[0m             \u001b[0;32mreturn\u001b[0m \u001b[0mself\u001b[0m\u001b[0;34m.\u001b[0m\u001b[0mtake\u001b[0m\u001b[0;34m(\u001b[0m\u001b[0mindexer\u001b[0m\u001b[0;34m,\u001b[0m \u001b[0maxis\u001b[0m\u001b[0;34m=\u001b[0m\u001b[0;36m1\u001b[0m\u001b[0;34m,\u001b[0m \u001b[0mconvert\u001b[0m\u001b[0;34m=\u001b[0m\u001b[0;32mTrue\u001b[0m\u001b[0;34m)\u001b[0m\u001b[0;34m\u001b[0m\u001b[0m\n\u001b[1;32m   2099\u001b[0m \u001b[0;34m\u001b[0m\u001b[0m\n",
      "\u001b[0;32m/usr/local/lib/python3.5/dist-packages/pandas/core/indexing.py\u001b[0m in \u001b[0;36m_convert_to_indexer\u001b[0;34m(self, obj, axis, is_setter)\u001b[0m\n\u001b[1;32m   1228\u001b[0m                 \u001b[0mmask\u001b[0m \u001b[0;34m=\u001b[0m \u001b[0mcheck\u001b[0m \u001b[0;34m==\u001b[0m \u001b[0;34m-\u001b[0m\u001b[0;36m1\u001b[0m\u001b[0;34m\u001b[0m\u001b[0m\n\u001b[1;32m   1229\u001b[0m                 \u001b[0;32mif\u001b[0m \u001b[0mmask\u001b[0m\u001b[0;34m.\u001b[0m\u001b[0many\u001b[0m\u001b[0;34m(\u001b[0m\u001b[0;34m)\u001b[0m\u001b[0;34m:\u001b[0m\u001b[0;34m\u001b[0m\u001b[0m\n\u001b[0;32m-> 1230\u001b[0;31m                     \u001b[0;32mraise\u001b[0m \u001b[0mKeyError\u001b[0m\u001b[0;34m(\u001b[0m\u001b[0;34m'%s not in index'\u001b[0m \u001b[0;34m%\u001b[0m \u001b[0mobjarr\u001b[0m\u001b[0;34m[\u001b[0m\u001b[0mmask\u001b[0m\u001b[0;34m]\u001b[0m\u001b[0;34m)\u001b[0m\u001b[0;34m\u001b[0m\u001b[0m\n\u001b[0m\u001b[1;32m   1231\u001!
 b[0m \u001b[0;34m\u001b[0m\u001b[0m\n\u001b[1;32m   1232\u001b[0m                 \u001b[0;32mreturn\u001b[0m \u001b[0m_values_from_object\u001b[0m\u001b[0;34m(\u001b[0m\u001b[0mindexer\u001b[0m\u001b[0;34m)\u001b[0m\u001b[0;34m\u001b[0m\u001b[0m\n",
      "\u001b[0;31mKeyError\u001b[0m: \"['job_blue-collar' 'job_retired' 'job_services' 'job_student' 'default_no'\\n 'month_aug' 'month_dec' 'month_jul' 'month_nov' 'month_oct' 'month_sep'\\n 'day_of_week_fri' 'day_of_week_wed' 'poutcome_failure'\\n 'poutcome_nonexistent' 'poutcome_success'] not in index\""
     ]
    }
   ],
   "source": [
    "cols=[\"previous\", \"euribor3m\", \"job_blue-collar\", \"job_retired\", \"job_services\", \"job_student\", \"default_no\", \n",
    "      \"month_aug\", \"month_dec\", \"month_jul\", \"month_nov\", \"month_oct\", \"month_sep\", \"day_of_week_fri\", \"day_of_week_wed\", \n",
    "      \"poutcome_failure\", \"poutcome_nonexistent\", \"poutcome_success\"] \n",
    "X=data_final[cols]\n",
    "y=data_final['y']"
   ]
  },
  {
   "cell_type": "code",
   "execution_count": 179,
   "metadata": {
    "collapsed": false
   },
   "outputs": [
    {
     "ename": "TypeError",
     "evalue": "cannot perform reduce with flexible type",
     "output_type": "error",
     "traceback": [
      "\u001b[0;31m---------------------------------------------------------------------------\u001b[0m",
      "\u001b[0;31mTypeError\u001b[0m                                 Traceback (most recent call last)",
      "\u001b[0;32m<ipython-input-179-aac396f08d25>\u001b[0m in \u001b[0;36m<module>\u001b[0;34m()\u001b[0m\n\u001b[1;32m      1\u001b[0m \u001b[0;32mimport\u001b[0m \u001b[0mstatsmodels\u001b[0m\u001b[0;34m.\u001b[0m\u001b[0mapi\u001b[0m \u001b[0;32mas\u001b[0m \u001b[0msm\u001b[0m\u001b[0;34m\u001b[0m\u001b[0m\n\u001b[0;32m----> 2\u001b[0;31m \u001b[0mlogit_model\u001b[0m\u001b[0;34m=\u001b[0m\u001b[0msm\u001b[0m\u001b[0;34m.\u001b[0m\u001b[0mLogit\u001b[0m\u001b[0;34m(\u001b[0m\u001b[0my\u001b[0m\u001b[0;34m,\u001b[0m\u001b[0mX\u001b[0m\u001b[0;34m)\u001b[0m\u001b[0;34m\u001b[0m\u001b[0m\n\u001b[0m\u001b[1;32m      3\u001b[0m \u001b[0mresult\u001b[0m\u001b[0;34m=\u001b[0m\u001b[0mlogit_model\u001b[0m\u001b[0;34m.\u001b[0m\u001b[0mfit\u001b[0m\u001b[0;34m(\u001b[0m\u001b[0;34m)\u001b[0m\u001b[0;34m\u001b[0m\u001b[0m\n\u001b[1;32m      4\u001b[0m \u001b[0mprint\u001b[0m\u001b[0;34m(\u001b[0m\u001b[0mresult\u001b[0m\u001b[0;34m.\u001b[0m\u001b[0msummary\u001b[0m\u001b[0;34m(!
 \u001b[0m\u001b[0;34m)\u001b[0m\u001b[0;34m)\u001b[0m\u001b[0;34m\u001b[0m\u001b[0m\n",
      "\u001b[0;32m/Library/anaconda/lib/python3.6/site-packages/statsmodels/discrete/discrete_model.py\u001b[0m in \u001b[0;36m__init__\u001b[0;34m(self, endog, exog, **kwargs)\u001b[0m\n\u001b[1;32m    400\u001b[0m \u001b[0;34m\u001b[0m\u001b[0m\n\u001b[1;32m    401\u001b[0m     \u001b[0;32mdef\u001b[0m \u001b[0m__init__\u001b[0m\u001b[0;34m(\u001b[0m\u001b[0mself\u001b[0m\u001b[0;34m,\u001b[0m \u001b[0mendog\u001b[0m\u001b[0;34m,\u001b[0m \u001b[0mexog\u001b[0m\u001b[0;34m,\u001b[0m \u001b[0;34m**\u001b[0m\u001b[0mkwargs\u001b[0m\u001b[0;34m)\u001b[0m\u001b[0;34m:\u001b[0m\u001b[0;34m\u001b[0m\u001b[0m\n\u001b[0;32m--> 402\u001b[0;31m         \u001b[0msuper\u001b[0m\u001b[0;34m(\u001b[0m\u001b[0mBinaryModel\u001b[0m\u001b[0;34m,\u001b[0m \u001b[0mself\u001b[0m\u001b[0;34m)\u001b[0m\u001b[0;34m.\u001b[0m\u001b[0m__init__\u001b[0m\u001b[0;34m(\u001b[0m\u001b[0mendog\u001b[0m\u001b[0;34m,\u001b[0m \u001b[0mexog\u001b[0m\u001b[0;34m,\u001b[0m \u001b[0;34m**\u001b[0m\u001b[0mk!
 wargs\u001b[0m\u001b[0;34m)\u001b[0m\u001b[0;34m\u001b[0m\u001b[0m\n\u001b[0m\u001b[1;32m    403\u001b[0m         if (not issubclass(self.__class__, MultinomialModel) and\n\u001b[1;32m    404\u001b[0m                 not np.all((self.endog >= 0) & (self.endog <= 1))):\n",
      "\u001b[0;32m/Library/anaconda/lib/python3.6/site-packages/statsmodels/discrete/discrete_model.py\u001b[0m in \u001b[0;36m__init__\u001b[0;34m(self, endog, exog, **kwargs)\u001b[0m\n\u001b[1;32m    153\u001b[0m     \"\"\"\n\u001b[1;32m    154\u001b[0m     \u001b[0;32mdef\u001b[0m \u001b[0m__init__\u001b[0m\u001b[0;34m(\u001b[0m\u001b[0mself\u001b[0m\u001b[0;34m,\u001b[0m \u001b[0mendog\u001b[0m\u001b[0;34m,\u001b[0m \u001b[0mexog\u001b[0m\u001b[0;34m,\u001b[0m \u001b[0;34m**\u001b[0m\u001b[0mkwargs\u001b[0m\u001b[0;34m)\u001b[0m\u001b[0;34m:\u001b[0m\u001b[0;34m\u001b[0m\u001b[0m\n\u001b[0;32m--> 155\u001b[0;31m         \u001b[0msuper\u001b[0m\u001b[0;34m(\u001b[0m\u001b[0mDiscreteModel\u001b[0m\u001b[0;34m,\u001b[0m \u001b[0mself\u001b[0m\u001b[0;34m)\u001b[0m\u001b[0;34m.\u001b[0m\u001b[0m__init__\u001b[0m\u001b[0;34m(\u001b[0m\u001b[0mendog\u001b[0m\u001b[0;34m,\u001b[0m \u001b[0mexog\u001b[0m\u001b[0;34m,\u001b[0m \u001b[0;34m**\u001b[0m\u001b[0mkwargs\u001b[0m\u00!
 1b[0;34m)\u001b[0m\u001b[0;34m\u001b[0m\u001b[0m\n\u001b[0m\u001b[1;32m    156\u001b[0m         \u001b[0mself\u001b[0m\u001b[0;34m.\u001b[0m\u001b[0mraise_on_perfect_prediction\u001b[0m \u001b[0;34m=\u001b[0m \u001b[0;32mTrue\u001b[0m\u001b[0;34m\u001b[0m\u001b[0m\n\u001b[1;32m    157\u001b[0m \u001b[0;34m\u001b[0m\u001b[0m\n",
      "\u001b[0;32m/Library/anaconda/lib/python3.6/site-packages/statsmodels/base/model.py\u001b[0m in \u001b[0;36m__init__\u001b[0;34m(self, endog, exog, **kwargs)\u001b[0m\n\u001b[1;32m    210\u001b[0m \u001b[0;34m\u001b[0m\u001b[0m\n\u001b[1;32m    211\u001b[0m     \u001b[0;32mdef\u001b[0m \u001b[0m__init__\u001b[0m\u001b[0;34m(\u001b[0m\u001b[0mself\u001b[0m\u001b[0;34m,\u001b[0m \u001b[0mendog\u001b[0m\u001b[0;34m,\u001b[0m \u001b[0mexog\u001b[0m\u001b[0;34m=\u001b[0m\u001b[0;32mNone\u001b[0m\u001b[0;34m,\u001b[0m \u001b[0;34m**\u001b[0m\u001b[0mkwargs\u001b[0m\u001b[0;34m)\u001b[0m\u001b[0;34m:\u001b[0m\u001b[0;34m\u001b[0m\u001b[0m\n\u001b[0;32m--> 212\u001b[0;31m         \u001b[0msuper\u001b[0m\u001b[0;34m(\u001b[0m\u001b[0mLikelihoodModel\u001b[0m\u001b[0;34m,\u001b[0m \u001b[0mself\u001b[0m\u001b[0;34m)\u001b[0m\u001b[0;34m.\u001b[0m\u001b[0m__init__\u001b[0m\u001b[0;34m(\u001b[0m\u001b[0mendog\u001b[0m\u001b[0;34m,\u001b[0m \u001b[0mexog\u001b[0m\u001b[0;34m,\u001!
 b[0m \u001b[0;34m**\u001b[0m\u001b[0mkwargs\u001b[0m\u001b[0;34m)\u001b[0m\u001b[0;34m\u001b[0m\u001b[0m\n\u001b[0m\u001b[1;32m    213\u001b[0m         \u001b[0mself\u001b[0m\u001b[0;34m.\u001b[0m\u001b[0minitialize\u001b[0m\u001b[0;34m(\u001b[0m\u001b[0;34m)\u001b[0m\u001b[0;34m\u001b[0m\u001b[0m\n\u001b[1;32m    214\u001b[0m \u001b[0;34m\u001b[0m\u001b[0m\n",
      "\u001b[0;32m/Library/anaconda/lib/python3.6/site-packages/statsmodels/base/model.py\u001b[0m in \u001b[0;36m__init__\u001b[0;34m(self, endog, exog, **kwargs)\u001b[0m\n\u001b[1;32m     61\u001b[0m         \u001b[0mhasconst\u001b[0m \u001b[0;34m=\u001b[0m \u001b[0mkwargs\u001b[0m\u001b[0;34m.\u001b[0m\u001b[0mpop\u001b[0m\u001b[0;34m(\u001b[0m\u001b[0;34m'hasconst'\u001b[0m\u001b[0;34m,\u001b[0m \u001b[0;32mNone\u001b[0m\u001b[0;34m)\u001b[0m\u001b[0;34m\u001b[0m\u001b[0m\n\u001b[1;32m     62\u001b[0m         self.data = self._handle_data(endog, exog, missing, hasconst,\n\u001b[0;32m---> 63\u001b[0;31m                                       **kwargs)\n\u001b[0m\u001b[1;32m     64\u001b[0m         \u001b[0mself\u001b[0m\u001b[0;34m.\u001b[0m\u001b[0mk_constant\u001b[0m \u001b[0;34m=\u001b[0m \u001b[0mself\u001b[0m\u001b[0;34m.\u001b[0m\u001b[0mdata\u001b[0m\u001b[0;34m.\u001b[0m\u001b[0mk_constant\u001b[0m\u001b[0;34m\u001b[0m\u001b[0m\n\u001b[1;32m     65\u001b[0m      !
    \u001b[0mself\u001b[0m\u001b[0;34m.\u001b[0m\u001b[0mexog\u001b[0m \u001b[0;34m=\u001b[0m \u001b[0mself\u001b[0m\u001b[0;34m.\u001b[0m\u001b[0mdata\u001b[0m\u001b[0;34m.\u001b[0m\u001b[0mexog\u001b[0m\u001b[0;34m\u001b[0m\u001b[0m\n",
      "\u001b[0;32m/Library/anaconda/lib/python3.6/site-packages/statsmodels/base/model.py\u001b[0m in \u001b[0;36m_handle_data\u001b[0;34m(self, endog, exog, missing, hasconst, **kwargs)\u001b[0m\n\u001b[1;32m     86\u001b[0m \u001b[0;34m\u001b[0m\u001b[0m\n\u001b[1;32m     87\u001b[0m     \u001b[0;32mdef\u001b[0m \u001b[0m_handle_data\u001b[0m\u001b[0;34m(\u001b[0m\u001b[0mself\u001b[0m\u001b[0;34m,\u001b[0m \u001b[0mendog\u001b[0m\u001b[0;34m,\u001b[0m \u001b[0mexog\u001b[0m\u001b[0;34m,\u001b[0m \u001b[0mmissing\u001b[0m\u001b[0;34m,\u001b[0m \u001b[0mhasconst\u001b[0m\u001b[0;34m,\u001b[0m \u001b[0;34m**\u001b[0m\u001b[0mkwargs\u001b[0m\u001b[0;34m)\u001b[0m\u001b[0;34m:\u001b[0m\u001b[0;34m\u001b[0m\u001b[0m\n\u001b[0;32m---> 88\u001b[0;31m         \u001b[0mdata\u001b[0m \u001b[0;34m=\u001b[0m \u001b[0mhandle_data\u001b[0m\u001b[0;34m(\u001b[0m\u001b[0mendog\u001b[0m\u001b[0;34m,\u001b[0m \u001b[0mexog\u001b[0m\u001b[0;34m,\u001b[0m \u001b[0mmissing\u001b[0m\u001b[0;34!
 m,\u001b[0m \u001b[0mhasconst\u001b[0m\u001b[0;34m,\u001b[0m \u001b[0;34m**\u001b[0m\u001b[0mkwargs\u001b[0m\u001b[0;34m)\u001b[0m\u001b[0;34m\u001b[0m\u001b[0m\n\u001b[0m\u001b[1;32m     89\u001b[0m         \u001b[0;31m# kwargs arrays could have changed, easier to just attach here\u001b[0m\u001b[0;34m\u001b[0m\u001b[0;34m\u001b[0m\u001b[0m\n\u001b[1;32m     90\u001b[0m         \u001b[0;32mfor\u001b[0m \u001b[0mkey\u001b[0m \u001b[0;32min\u001b[0m \u001b[0mkwargs\u001b[0m\u001b[0;34m:\u001b[0m\u001b[0;34m\u001b[0m\u001b[0m\n",
      "\u001b[0;32m/Library/anaconda/lib/python3.6/site-packages/statsmodels/base/data.py\u001b[0m in \u001b[0;36mhandle_data\u001b[0;34m(endog, exog, missing, hasconst, **kwargs)\u001b[0m\n\u001b[1;32m    628\u001b[0m     \u001b[0mklass\u001b[0m \u001b[0;34m=\u001b[0m \u001b[0mhandle_data_class_factory\u001b[0m\u001b[0;34m(\u001b[0m\u001b[0mendog\u001b[0m\u001b[0;34m,\u001b[0m \u001b[0mexog\u001b[0m\u001b[0;34m)\u001b[0m\u001b[0;34m\u001b[0m\u001b[0m\n\u001b[1;32m    629\u001b[0m     return klass(endog, exog=exog, missing=missing, hasconst=hasconst,\n\u001b[0;32m--> 630\u001b[0;31m                  **kwargs)\n\u001b[0m",
      "\u001b[0;32m/Library/anaconda/lib/python3.6/site-packages/statsmodels/base/data.py\u001b[0m in \u001b[0;36m__init__\u001b[0;34m(self, endog, exog, missing, hasconst, **kwargs)\u001b[0m\n\u001b[1;32m     77\u001b[0m \u001b[0;34m\u001b[0m\u001b[0m\n\u001b[1;32m     78\u001b[0m         \u001b[0;31m# this has side-effects, attaches k_constant and const_idx\u001b[0m\u001b[0;34m\u001b[0m\u001b[0;34m\u001b[0m\u001b[0m\n\u001b[0;32m---> 79\u001b[0;31m         \u001b[0mself\u001b[0m\u001b[0;34m.\u001b[0m\u001b[0m_handle_constant\u001b[0m\u001b[0;34m(\u001b[0m\u001b[0mhasconst\u001b[0m\u001b[0;34m)\u001b[0m\u001b[0;34m\u001b[0m\u001b[0m\n\u001b[0m\u001b[1;32m     80\u001b[0m         \u001b[0mself\u001b[0m\u001b[0;34m.\u001b[0m\u001b[0m_check_integrity\u001b[0m\u001b[0;34m(\u001b[0m\u001b[0;34m)\u001b[0m\u001b[0;34m\u001b[0m\u001b[0m\n\u001b[1;32m     81\u001b[0m         \u001b[0mself\u001b[0m\u001b[0;34m.\u001b[0m\u001b[0m_cache\u001b[0m \u001b[0;34m=\u001b[0m \u001b[0mresettab!
 le_cache\u001b[0m\u001b[0;34m(\u001b[0m\u001b[0;34m)\u001b[0m\u001b[0;34m\u001b[0m\u001b[0m\n",
      "\u001b[0;32m/Library/anaconda/lib/python3.6/site-packages/statsmodels/base/data.py\u001b[0m in \u001b[0;36m_handle_constant\u001b[0;34m(self, hasconst)\u001b[0m\n\u001b[1;32m    129\u001b[0m             \u001b[0;31m# detect where the constant is\u001b[0m\u001b[0;34m\u001b[0m\u001b[0;34m\u001b[0m\u001b[0m\n\u001b[1;32m    130\u001b[0m             \u001b[0mcheck_implicit\u001b[0m \u001b[0;34m=\u001b[0m \u001b[0;32mFalse\u001b[0m\u001b[0;34m\u001b[0m\u001b[0m\n\u001b[0;32m--> 131\u001b[0;31m             \u001b[0mconst_idx\u001b[0m \u001b[0;34m=\u001b[0m \u001b[0mnp\u001b[0m\u001b[0;34m.\u001b[0m\u001b[0mwhere\u001b[0m\u001b[0;34m(\u001b[0m\u001b[0mself\u001b[0m\u001b[0;34m.\u001b[0m\u001b[0mexog\u001b[0m\u001b[0;34m.\u001b[0m\u001b[0mptp\u001b[0m\u001b[0;34m(\u001b[0m\u001b[0maxis\u001b[0m\u001b[0;34m=\u001b[0m\u001b[0;36m0\u001b[0m\u001b[0;34m)\u001b[0m \u001b[0;34m==\u001b[0m \u001b[0;36m0\u001b[0m\u001b[0;34m)\u001b[0m\u001b[0;34m[\u001b[0m\u001b[0;36m0\u001b[0m\u001b!
 [0;34m]\u001b[0m\u001b[0;34m.\u001b[0m\u001b[0msqueeze\u001b[0m\u001b[0;34m(\u001b[0m\u001b[0;34m)\u001b[0m\u001b[0;34m\u001b[0m\u001b[0m\n\u001b[0m\u001b[1;32m    132\u001b[0m             \u001b[0mself\u001b[0m\u001b[0;34m.\u001b[0m\u001b[0mk_constant\u001b[0m \u001b[0;34m=\u001b[0m \u001b[0mconst_idx\u001b[0m\u001b[0;34m.\u001b[0m\u001b[0msize\u001b[0m\u001b[0;34m\u001b[0m\u001b[0m\n\u001b[1;32m    133\u001b[0m \u001b[0;34m\u001b[0m\u001b[0m\n",
      "\u001b[0;31mTypeError\u001b[0m: cannot perform reduce with flexible type"
     ]
    }
   ],
   "source": [
    "import statsmodels.api as sm\n",
    "logit_model=sm.Logit(y,X)\n",
    "result=logit_model.fit()\n",
    "print(result.summary())"
   ]
  },
  {
   "cell_type": "code",
   "execution_count": 180,
   "metadata": {
    "collapsed": false
   },
   "outputs": [
    {
     "ename": "ValueError",
     "evalue": "Found input variables with inconsistent numbers of samples: [10, 1]",
     "output_type": "error",
     "traceback": [
      "\u001b[0;31m---------------------------------------------------------------------------\u001b[0m",
      "\u001b[0;31mValueError\u001b[0m                                Traceback (most recent call last)",
      "\u001b[0;32m<ipython-input-180-8eaf5c6731c3>\u001b[0m in \u001b[0;36m<module>\u001b[0;34m()\u001b[0m\n\u001b[0;32m----> 1\u001b[0;31m \u001b[0mX_train\u001b[0m\u001b[0;34m,\u001b[0m \u001b[0mX_test\u001b[0m\u001b[0;34m,\u001b[0m \u001b[0my_train\u001b[0m\u001b[0;34m,\u001b[0m \u001b[0my_test\u001b[0m \u001b[0;34m=\u001b[0m \u001b[0mtrain_test_split\u001b[0m\u001b[0;34m(\u001b[0m\u001b[0mX\u001b[0m\u001b[0;34m,\u001b[0m \u001b[0my\u001b[0m\u001b[0;34m,\u001b[0m \u001b[0mtest_size\u001b[0m\u001b[0;34m=\u001b[0m\u001b[0;36m0.3\u001b[0m\u001b[0;34m,\u001b[0m \u001b[0mrandom_state\u001b[0m\u001b[0;34m=\u001b[0m\u001b[0;36m0\u001b[0m\u001b[0;34m)\u001b[0m\u001b[0;34m\u001b[0m\u001b[0m\n\u001b[0m\u001b[1;32m      2\u001b[0m \u001b[0;32mfrom\u001b[0m \u001b[0msklearn\u001b[0m\u001b[0;34m.\u001b[0m\u001b[0mlinear_model\u001b[0m \u001b[0;32mimport\u001b[0m \u001b[0mLogisticRegression\u001b[0m\u001b[0;34m\u001b[0m\u001b[0m\n\u001b[1;32m      3\u001b[0m \u001b[0;32mfrom\u001b[0m !
 \u001b[0msklearn\u001b[0m \u001b[0;32mimport\u001b[0m \u001b[0mmetrics\u001b[0m\u001b[0;34m\u001b[0m\u001b[0m\n\u001b[1;32m      4\u001b[0m \u001b[0mlogreg\u001b[0m \u001b[0;34m=\u001b[0m \u001b[0mLogisticRegression\u001b[0m\u001b[0;34m(\u001b[0m\u001b[0;34m)\u001b[0m\u001b[0;34m\u001b[0m\u001b[0m\n\u001b[1;32m      5\u001b[0m \u001b[0mlogreg\u001b[0m\u001b[0;34m.\u001b[0m\u001b[0mfit\u001b[0m\u001b[0;34m(\u001b[0m\u001b[0mX_train\u001b[0m\u001b[0;34m,\u001b[0m \u001b[0my_train\u001b[0m\u001b[0;34m)\u001b[0m\u001b[0;34m\u001b[0m\u001b[0m\n",
      "\u001b[0;32m/Library/anaconda/lib/python3.6/site-packages/sklearn/cross_validation.py\u001b[0m in \u001b[0;36mtrain_test_split\u001b[0;34m(*arrays, **options)\u001b[0m\n\u001b[1;32m   2057\u001b[0m     \u001b[0;32mif\u001b[0m \u001b[0mtest_size\u001b[0m \u001b[0;32mis\u001b[0m \u001b[0;32mNone\u001b[0m \u001b[0;32mand\u001b[0m \u001b[0mtrain_size\u001b[0m \u001b[0;32mis\u001b[0m \u001b[0;32mNone\u001b[0m\u001b[0;34m:\u001b[0m\u001b[0;34m\u001b[0m\u001b[0m\n\u001b[1;32m   2058\u001b[0m         \u001b[0mtest_size\u001b[0m \u001b[0;34m=\u001b[0m \u001b[0;36m0.25\u001b[0m\u001b[0;34m\u001b[0m\u001b[0m\n\u001b[0;32m-> 2059\u001b[0;31m     \u001b[0marrays\u001b[0m \u001b[0;34m=\u001b[0m \u001b[0mindexable\u001b[0m\u001b[0;34m(\u001b[0m\u001b[0;34m*\u001b[0m\u001b[0marrays\u001b[0m\u001b[0;34m)\u001b[0m\u001b[0;34m\u001b[0m\u001b[0m\n\u001b[0m\u001b[1;32m   2060\u001b[0m     \u001b[0;32mif\u001b[0m \u001b[0mstratify\u001b[0m \u001b[0;32mis\u001b[0m \u001b[0;32mnot\u001b[0m \!
 u001b[0;32mNone\u001b[0m\u001b[0;34m:\u001b[0m\u001b[0;34m\u001b[0m\u001b[0m\n\u001b[1;32m   2061\u001b[0m         cv = StratifiedShuffleSplit(stratify, test_size=test_size,\n",
      "\u001b[0;32m/Library/anaconda/lib/python3.6/site-packages/sklearn/utils/validation.py\u001b[0m in \u001b[0;36mindexable\u001b[0;34m(*iterables)\u001b[0m\n\u001b[1;32m    227\u001b[0m         \u001b[0;32melse\u001b[0m\u001b[0;34m:\u001b[0m\u001b[0;34m\u001b[0m\u001b[0m\n\u001b[1;32m    228\u001b[0m             \u001b[0mresult\u001b[0m\u001b[0;34m.\u001b[0m\u001b[0mappend\u001b[0m\u001b[0;34m(\u001b[0m\u001b[0mnp\u001b[0m\u001b[0;34m.\u001b[0m\u001b[0marray\u001b[0m\u001b[0;34m(\u001b[0m\u001b[0mX\u001b[0m\u001b[0;34m)\u001b[0m\u001b[0;34m)\u001b[0m\u001b[0;34m\u001b[0m\u001b[0m\n\u001b[0;32m--> 229\u001b[0;31m     \u001b[0mcheck_consistent_length\u001b[0m\u001b[0;34m(\u001b[0m\u001b[0;34m*\u001b[0m\u001b[0mresult\u001b[0m\u001b[0;34m)\u001b[0m\u001b[0;34m\u001b[0m\u001b[0m\n\u001b[0m\u001b[1;32m    230\u001b[0m     \u001b[0;32mreturn\u001b[0m \u001b[0mresult\u001b[0m\u001b[0;34m\u001b[0m\u001b[0m\n\u001b[1;32m    231\u001b[0m \u001b[0;34m\u001b[0m\u001b[0m\n",
      "\u001b[0;32m/Library/anaconda/lib/python3.6/site-packages/sklearn/utils/validation.py\u001b[0m in \u001b[0;36mcheck_consistent_length\u001b[0;34m(*arrays)\u001b[0m\n\u001b[1;32m    202\u001b[0m     \u001b[0;32mif\u001b[0m \u001b[0mlen\u001b[0m\u001b[0;34m(\u001b[0m\u001b[0muniques\u001b[0m\u001b[0;34m)\u001b[0m \u001b[0;34m>\u001b[0m \u001b[0;36m1\u001b[0m\u001b[0;34m:\u001b[0m\u001b[0;34m\u001b[0m\u001b[0m\n\u001b[1;32m    203\u001b[0m         raise ValueError(\"Found input variables with inconsistent numbers of\"\n\u001b[0;32m--> 204\u001b[0;31m                          \" samples: %r\" % [int(l) for l in lengths])\n\u001b[0m\u001b[1;32m    205\u001b[0m \u001b[0;34m\u001b[0m\u001b[0m\n\u001b[1;32m    206\u001b[0m \u001b[0;34m\u001b[0m\u001b[0m\n",
      "\u001b[0;31mValueError\u001b[0m: Found input variables with inconsistent numbers of samples: [10, 1]"
     ]
    }
   ],
   "source": [
    "X_train, X_test, y_train, y_test = train_test_split(X, y, test_size=0.3, random_state=0)\n",
    "from sklearn.linear_model import LogisticRegression\n",
    "from sklearn import metrics\n",
    "logreg = LogisticRegression()\n",
    "logreg.fit(X_train, y_train)"
   ]
  },
  {
   "cell_type": "code",
   "execution_count": 181,
   "metadata": {
    "collapsed": false
   },
   "outputs": [
    {
     "ename": "NameError",
     "evalue": "name 'X_test' is not defined",
     "output_type": "error",
     "traceback": [
      "\u001b[0;31m---------------------------------------------------------------------------\u001b[0m",
      "\u001b[0;31mNameError\u001b[0m                                 Traceback (most recent call last)",
      "\u001b[0;32m<ipython-input-181-c662aed17a47>\u001b[0m in \u001b[0;36m<module>\u001b[0;34m()\u001b[0m\n\u001b[0;32m----> 1\u001b[0;31m \u001b[0my_pred\u001b[0m \u001b[0;34m=\u001b[0m \u001b[0mlogreg\u001b[0m\u001b[0;34m.\u001b[0m\u001b[0mpredict\u001b[0m\u001b[0;34m(\u001b[0m\u001b[0mX_test\u001b[0m\u001b[0;34m)\u001b[0m\u001b[0;34m\u001b[0m\u001b[0m\n\u001b[0m\u001b[1;32m      2\u001b[0m \u001b[0mprint\u001b[0m\u001b[0;34m(\u001b[0m\u001b[0;34m'Accuracy of logistic regression classifier on test set: {:.2f}'\u001b[0m\u001b[0;34m.\u001b[0m\u001b[0mformat\u001b[0m\u001b[0;34m(\u001b[0m\u001b[0mlogreg\u001b[0m\u001b[0;34m.\u001b[0m\u001b[0mscore\u001b[0m\u001b[0;34m(\u001b[0m\u001b[0mX_test\u001b[0m\u001b[0;34m,\u001b[0m \u001b[0my_test\u001b[0m\u001b[0;34m)\u001b[0m\u001b[0;34m)\u001b[0m\u001b[0;34m)\u001b[0m\u001b[0;34m\u001b[0m\u001b[0m\n",
      "\u001b[0;31mNameError\u001b[0m: name 'X_test' is not defined"
     ]
    }
   ],
   "source": [
    "y_pred = logreg.predict(X_test)\n",
    "print('Accuracy of logistic regression classifier on test set: {:.2f}'.format(logreg.score(X_test, y_test)))"
   ]
  },
  {
   "cell_type": "code",
   "execution_count": 182,
   "metadata": {
    "collapsed": false
   },
   "outputs": [
    {
     "ename": "NameError",
     "evalue": "name 'X_train' is not defined",
     "output_type": "error",
     "traceback": [
      "\u001b[0;31m---------------------------------------------------------------------------\u001b[0m",
      "\u001b[0;31mNameError\u001b[0m                                 Traceback (most recent call last)",
      "\u001b[0;32m<ipython-input-182-5b6b6645e8bb>\u001b[0m in \u001b[0;36m<module>\u001b[0;34m()\u001b[0m\n\u001b[1;32m      4\u001b[0m \u001b[0mmodelCV\u001b[0m \u001b[0;34m=\u001b[0m \u001b[0mLogisticRegression\u001b[0m\u001b[0;34m(\u001b[0m\u001b[0;34m)\u001b[0m\u001b[0;34m\u001b[0m\u001b[0m\n\u001b[1;32m      5\u001b[0m \u001b[0mscoring\u001b[0m \u001b[0;34m=\u001b[0m \u001b[0;34m'accuracy'\u001b[0m\u001b[0;34m\u001b[0m\u001b[0m\n\u001b[0;32m----> 6\u001b[0;31m \u001b[0mresults\u001b[0m \u001b[0;34m=\u001b[0m \u001b[0mmodel_selection\u001b[0m\u001b[0;34m.\u001b[0m\u001b[0mcross_val_score\u001b[0m\u001b[0;34m(\u001b[0m\u001b[0mmodelCV\u001b[0m\u001b[0;34m,\u001b[0m \u001b[0mX_train\u001b[0m\u001b[0;34m,\u001b[0m \u001b[0my_train\u001b[0m\u001b[0;34m,\u001b[0m \u001b[0mcv\u001b[0m\u001b[0;34m=\u001b[0m\u001b[0mkfold\u001b[0m\u001b[0;34m,\u001b[0m \u001b[0mscoring\u001b[0m\u001b[0;34m=\u001b[0m\u001b[0mscoring\u001b[0m\u001b[0;34m)\u001b[0m\u001b[0;34m\u001b[0m\u001b[0m\n!
 \u001b[0m\u001b[1;32m      7\u001b[0m \u001b[0mprint\u001b[0m\u001b[0;34m(\u001b[0m\u001b[0;34m\"10-fold cross validation average accuracy: %.3f\"\u001b[0m \u001b[0;34m%\u001b[0m \u001b[0;34m(\u001b[0m\u001b[0mresults\u001b[0m\u001b[0;34m.\u001b[0m\u001b[0mmean\u001b[0m\u001b[0;34m(\u001b[0m\u001b[0;34m)\u001b[0m\u001b[0;34m)\u001b[0m\u001b[0;34m)\u001b[0m\u001b[0;34m\u001b[0m\u001b[0m\n",
      "\u001b[0;31mNameError\u001b[0m: name 'X_train' is not defined"
     ]
    }
   ],
   "source": [
    "from sklearn import model_selection\n",
    "from sklearn.model_selection import cross_val_score\n",
    "kfold = model_selection.KFold(n_splits=10, random_state=7)\n",
    "modelCV = LogisticRegression()\n",
    "scoring = 'accuracy'\n",
    "results = model_selection.cross_val_score(modelCV, X_train, y_train, cv=kfold, scoring=scoring)\n",
    "print(\"10-fold cross validation average accuracy: %.3f\" % (results.mean()))"
   ]
  },
  {
   "cell_type": "code",
   "execution_count": 183,
   "metadata": {
    "collapsed": false
   },
   "outputs": [
    {
     "ename": "NameError",
     "evalue": "name 'y_test' is not defined",
     "output_type": "error",
     "traceback": [
      "\u001b[0;31m---------------------------------------------------------------------------\u001b[0m",
      "\u001b[0;31mNameError\u001b[0m                                 Traceback (most recent call last)",
      "\u001b[0;32m<ipython-input-183-2787ade996fe>\u001b[0m in \u001b[0;36m<module>\u001b[0;34m()\u001b[0m\n\u001b[1;32m      1\u001b[0m \u001b[0;32mfrom\u001b[0m \u001b[0msklearn\u001b[0m\u001b[0;34m.\u001b[0m\u001b[0mmetrics\u001b[0m \u001b[0;32mimport\u001b[0m \u001b[0mconfusion_matrix\u001b[0m\u001b[0;34m\u001b[0m\u001b[0m\n\u001b[0;32m----> 2\u001b[0;31m \u001b[0mconfusion_matrix\u001b[0m \u001b[0;34m=\u001b[0m \u001b[0mconfusion_matrix\u001b[0m\u001b[0;34m(\u001b[0m\u001b[0my_test\u001b[0m\u001b[0;34m,\u001b[0m \u001b[0my_pred\u001b[0m\u001b[0;34m)\u001b[0m\u001b[0;34m\u001b[0m\u001b[0m\n\u001b[0m\u001b[1;32m      3\u001b[0m \u001b[0mprint\u001b[0m\u001b[0;34m(\u001b[0m\u001b[0mconfusion_matrix\u001b[0m\u001b[0;34m)\u001b[0m\u001b[0;34m\u001b[0m\u001b[0m\n",
      "\u001b[0;31mNameError\u001b[0m: name 'y_test' is not defined"
     ]
    }
   ],
   "source": [
    "from sklearn.metrics import confusion_matrix\n",
    "confusion_matrix = confusion_matrix(y_test, y_pred)\n",
    "print(confusion_matrix)"
   ]
  },
  {
   "cell_type": "code",
   "execution_count": 184,
   "metadata": {
    "collapsed": false
   },
   "outputs": [
    {
     "ename": "NameError",
     "evalue": "name 'y_test' is not defined",
     "output_type": "error",
     "traceback": [
      "\u001b[0;31m---------------------------------------------------------------------------\u001b[0m",
      "\u001b[0;31mNameError\u001b[0m                                 Traceback (most recent call last)",
      "\u001b[0;32m<ipython-input-184-f81149aa827f>\u001b[0m in \u001b[0;36m<module>\u001b[0;34m()\u001b[0m\n\u001b[1;32m      1\u001b[0m \u001b[0;32mfrom\u001b[0m \u001b[0msklearn\u001b[0m\u001b[0;34m.\u001b[0m\u001b[0mmetrics\u001b[0m \u001b[0;32mimport\u001b[0m \u001b[0mclassification_report\u001b[0m\u001b[0;34m\u001b[0m\u001b[0m\n\u001b[0;32m----> 2\u001b[0;31m \u001b[0mprint\u001b[0m\u001b[0;34m(\u001b[0m\u001b[0mclassification_report\u001b[0m\u001b[0;34m(\u001b[0m\u001b[0my_test\u001b[0m\u001b[0;34m,\u001b[0m \u001b[0my_pred\u001b[0m\u001b[0;34m)\u001b[0m\u001b[0;34m)\u001b[0m\u001b[0;34m\u001b[0m\u001b[0m\n\u001b[0m",
      "\u001b[0;31mNameError\u001b[0m: name 'y_test' is not defined"
     ]
    }
   ],
   "source": [
    "from sklearn.metrics import classification_report\n",
    "print(classification_report(y_test, y_pred))"
   ]
  },
  {
   "cell_type": "code",
   "execution_count": 185,
   "metadata": {
    "collapsed": false
   },
   "outputs": [
    {
     "ename": "NameError",
     "evalue": "name 'y_test' is not defined",
     "output_type": "error",
     "traceback": [
      "\u001b[0;31m---------------------------------------------------------------------------\u001b[0m",
      "\u001b[0;31mNameError\u001b[0m                                 Traceback (most recent call last)",
      "\u001b[0;32m<ipython-input-185-f710edc90df4>\u001b[0m in \u001b[0;36m<module>\u001b[0;34m()\u001b[0m\n\u001b[1;32m      1\u001b[0m \u001b[0;32mfrom\u001b[0m \u001b[0msklearn\u001b[0m\u001b[0;34m.\u001b[0m\u001b[0mmetrics\u001b[0m \u001b[0;32mimport\u001b[0m \u001b[0mroc_auc_score\u001b[0m\u001b[0;34m\u001b[0m\u001b[0m\n\u001b[1;32m      2\u001b[0m \u001b[0;32mfrom\u001b[0m \u001b[0msklearn\u001b[0m\u001b[0;34m.\u001b[0m\u001b[0mmetrics\u001b[0m \u001b[0;32mimport\u001b[0m \u001b[0mroc_curve\u001b[0m\u001b[0;34m\u001b[0m\u001b[0m\n\u001b[0;32m----> 3\u001b[0;31m \u001b[0mlogit_roc_auc\u001b[0m \u001b[0;34m=\u001b[0m \u001b[0mroc_auc_score\u001b[0m\u001b[0;34m(\u001b[0m\u001b[0my_test\u001b[0m\u001b[0;34m,\u001b[0m \u001b[0mlogreg\u001b[0m\u001b[0;34m.\u001b[0m\u001b[0mpredict\u001b[0m\u001b[0;34m(\u001b[0m\u001b[0mX_test\u001b[0m\u001b[0;34m)\u001b[0m\u001b[0;34m)\u001b[0m\u001b[0;34m\u001b[0m\u001b[0m\n\u001b[0m\u001b[1;32m      4\u001b[0m \u001b[0mfpr\u001b[0m\u001b[!
 0;34m,\u001b[0m \u001b[0mtpr\u001b[0m\u001b[0;34m,\u001b[0m \u001b[0mthresholds\u001b[0m \u001b[0;34m=\u001b[0m \u001b[0mroc_curve\u001b[0m\u001b[0;34m(\u001b[0m\u001b[0my_test\u001b[0m\u001b[0;34m,\u001b[0m \u001b[0mlogreg\u001b[0m\u001b[0;34m.\u001b[0m\u001b[0mpredict_proba\u001b[0m\u001b[0;34m(\u001b[0m\u001b[0mX_test\u001b[0m\u001b[0;34m)\u001b[0m\u001b[0;34m[\u001b[0m\u001b[0;34m:\u001b[0m\u001b[0;34m,\u001b[0m\u001b[0;36m1\u001b[0m\u001b[0;34m]\u001b[0m\u001b[0;34m)\u001b[0m\u001b[0;34m\u001b[0m\u001b[0m\n\u001b[1;32m      5\u001b[0m \u001b[0mplt\u001b[0m\u001b[0;34m.\u001b[0m\u001b[0mfigure\u001b[0m\u001b[0;34m(\u001b[0m\u001b[0;34m)\u001b[0m\u001b[0;34m\u001b[0m\u001b[0m\n",
      "\u001b[0;31mNameError\u001b[0m: name 'y_test' is not defined"
     ]
    }
   ],
   "source": [
    "from sklearn.metrics import roc_auc_score\n",
    "from sklearn.metrics import roc_curve\n",
    "logit_roc_auc = roc_auc_score(y_test, logreg.predict(X_test))\n",
    "fpr, tpr, thresholds = roc_curve(y_test, logreg.predict_proba(X_test)[:,1])\n",
    "plt.figure()\n",
    "plt.plot(fpr, tpr, label='Logistic Regression (area = %0.2f)' % logit_roc_auc)\n",
    "plt.plot([0, 1], [0, 1],'r--')\n",
    "plt.xlim([0.0, 1.0])\n",
    "plt.ylim([0.0, 1.05])\n",
    "plt.xlabel('False Positive Rate')\n",
    "plt.ylabel('True Positive Rate')\n",
    "plt.title('Receiver operating characteristic')\n",
    "plt.legend(loc=\"lower right\")\n",
    "plt.savefig('Log_ROC')\n",
    "plt.show()"
   ]
  },
  {
   "cell_type": "code",
   "execution_count": null,
   "metadata": {
    "collapsed": true
   },
   "outputs": [],
   "source": []
  },
  {
   "cell_type": "code",
   "execution_count": null,
   "metadata": {
    "collapsed": true
   },
   "outputs": [],
   "source": []
  }
 ],
 "metadata": {
  "kernelspec": {
   "display_name": "Python 3",
   "language": "python",
   "name": "python3"
  },
  "language_info": {
   "codemirror_mode": {
    "name": "ipython",
    "version": 3
   },
   "file_extension": ".py",
   "mimetype": "text/x-python",
   "name": "python",
   "nbconvert_exporter": "python",
   "pygments_lexer": "ipython3",
   "version": "3.5.2"
  }
 },
 "nbformat": 4,
 "nbformat_minor": 2
}
